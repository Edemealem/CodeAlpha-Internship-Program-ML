{
  "cells": [
    {
      "cell_type": "code",
      "source": [
        "from google.colab import drive\n",
        "drive.mount('/content/drive')"
      ],
      "metadata": {
        "colab": {
          "base_uri": "https://localhost:8080/"
        },
        "id": "ZjfvW0zg4eQv",
        "outputId": "9b21e9a9-5e40-4a41-a166-f92fc2c9f173"
      },
      "id": "ZjfvW0zg4eQv",
      "execution_count": null,
      "outputs": [
        {
          "output_type": "stream",
          "name": "stdout",
          "text": [
            "Mounted at /content/drive\n"
          ]
        }
      ]
    },
    {
      "cell_type": "code",
      "execution_count": null,
      "id": "44878d62",
      "metadata": {
        "execution": {
          "iopub.execute_input": "2024-05-18T13:04:27.474643Z",
          "iopub.status.busy": "2024-05-18T13:04:27.473423Z",
          "iopub.status.idle": "2024-05-18T13:04:31.602287Z",
          "shell.execute_reply": "2024-05-18T13:04:31.601029Z"
        },
        "id": "44878d62",
        "papermill": {
          "duration": 4.173819,
          "end_time": "2024-05-18T13:04:31.605812",
          "exception": false,
          "start_time": "2024-05-18T13:04:27.431993",
          "status": "completed"
        },
        "tags": []
      },
      "outputs": [],
      "source": [
        "# for data analysis\n",
        "import pandas as pd\n",
        "import numpy as np\n",
        "\n",
        "# for data visualization\n",
        "import matplotlib.pyplot as plt\n",
        "import seaborn as sns\n",
        "import plotly.express as px\n",
        "\n",
        "# for data preprocessing\n",
        "from sklearn.preprocessing import LabelEncoder,StandardScaler,MinMaxScaler,OneHotEncoder\n",
        "\n",
        "# for imputing missing values\n",
        "from sklearn.impute import SimpleImputer,KNNImputer\n",
        "\n",
        "# import iterative imputer\n",
        "from sklearn.experimental import enable_iterative_imputer\n",
        "from sklearn.impute import IterativeImputer\n",
        "\n",
        "# for machine learning\n",
        "from sklearn.model_selection import train_test_split,GridSearchCV,cross_val_score,RandomizedSearchCV\n",
        "\n",
        "# Given that we anticipate solving our dependent feature through classification, we will proceed to import libraries tailored for classification tasks.\n",
        "from sklearn.linear_model import LinearRegression\n",
        "from sklearn.neighbors import KNeighborsClassifier\n",
        "from sklearn.tree import DecisionTreeClassifier\n",
        "from sklearn.svm import SVC\n",
        "from sklearn.ensemble import RandomForestClassifier,RandomForestRegressor ,AdaBoostClassifier ,GradientBoostingClassifier\n",
        "from xgboost import XGBClassifier\n",
        "\n",
        "# for classification evaluation metrices\n",
        "from sklearn.metrics import accuracy_score,classification_report,confusion_matrix,mean_absolute_error,precision_score,mean_squared_error,r2_score\n",
        "\n",
        "# to perform statistical test\n",
        "from sklearn.feature_selection import chi2 # for categorical fetures\n",
        "from sklearn.feature_selection import f_classif # for numerical features (Anova f-test)\n",
        "\n",
        "# for ignoring warnings\n",
        "import warnings\n",
        "warnings.filterwarnings('ignore')"
      ]
    },
    {
      "cell_type": "code",
      "execution_count": null,
      "id": "cf6b6761",
      "metadata": {
        "execution": {
          "iopub.execute_input": "2024-05-18T13:04:31.773428Z",
          "iopub.status.busy": "2024-05-18T13:04:31.772000Z",
          "iopub.status.idle": "2024-05-18T13:04:31.837037Z",
          "shell.execute_reply": "2024-05-18T13:04:31.836149Z"
        },
        "id": "cf6b6761",
        "outputId": "902ef3cb-ea94-45df-e288-1424488d248b",
        "papermill": {
          "duration": 0.110428,
          "end_time": "2024-05-18T13:04:31.840186",
          "exception": false,
          "start_time": "2024-05-18T13:04:31.729758",
          "status": "completed"
        },
        "tags": [],
        "colab": {
          "base_uri": "https://localhost:8080/",
          "height": 206
        }
      },
      "outputs": [
        {
          "output_type": "execute_result",
          "data": {
            "text/plain": [
              "   id  age     sex    dataset               cp  trestbps   chol    fbs  \\\n",
              "0   1   63    Male  Cleveland   typical angina     145.0  233.0   True   \n",
              "1   2   67    Male  Cleveland     asymptomatic     160.0  286.0  False   \n",
              "2   3   67    Male  Cleveland     asymptomatic     120.0  229.0  False   \n",
              "3   4   37    Male  Cleveland      non-anginal     130.0  250.0  False   \n",
              "4   5   41  Female  Cleveland  atypical angina     130.0  204.0  False   \n",
              "\n",
              "          restecg  thalch  exang  oldpeak        slope   ca  \\\n",
              "0  lv hypertrophy   150.0  False      2.3  downsloping  0.0   \n",
              "1  lv hypertrophy   108.0   True      1.5         flat  3.0   \n",
              "2  lv hypertrophy   129.0   True      2.6         flat  2.0   \n",
              "3          normal   187.0  False      3.5  downsloping  0.0   \n",
              "4  lv hypertrophy   172.0  False      1.4    upsloping  0.0   \n",
              "\n",
              "                thal  num  \n",
              "0       fixed defect    0  \n",
              "1             normal    2  \n",
              "2  reversable defect    1  \n",
              "3             normal    0  \n",
              "4             normal    0  "
            ],
            "text/html": [
              "\n",
              "  <div id=\"df-198dd1c8-98f7-4f87-a929-527117a8580e\" class=\"colab-df-container\">\n",
              "    <div>\n",
              "<style scoped>\n",
              "    .dataframe tbody tr th:only-of-type {\n",
              "        vertical-align: middle;\n",
              "    }\n",
              "\n",
              "    .dataframe tbody tr th {\n",
              "        vertical-align: top;\n",
              "    }\n",
              "\n",
              "    .dataframe thead th {\n",
              "        text-align: right;\n",
              "    }\n",
              "</style>\n",
              "<table border=\"1\" class=\"dataframe\">\n",
              "  <thead>\n",
              "    <tr style=\"text-align: right;\">\n",
              "      <th></th>\n",
              "      <th>id</th>\n",
              "      <th>age</th>\n",
              "      <th>sex</th>\n",
              "      <th>dataset</th>\n",
              "      <th>cp</th>\n",
              "      <th>trestbps</th>\n",
              "      <th>chol</th>\n",
              "      <th>fbs</th>\n",
              "      <th>restecg</th>\n",
              "      <th>thalch</th>\n",
              "      <th>exang</th>\n",
              "      <th>oldpeak</th>\n",
              "      <th>slope</th>\n",
              "      <th>ca</th>\n",
              "      <th>thal</th>\n",
              "      <th>num</th>\n",
              "    </tr>\n",
              "  </thead>\n",
              "  <tbody>\n",
              "    <tr>\n",
              "      <th>0</th>\n",
              "      <td>1</td>\n",
              "      <td>63</td>\n",
              "      <td>Male</td>\n",
              "      <td>Cleveland</td>\n",
              "      <td>typical angina</td>\n",
              "      <td>145.0</td>\n",
              "      <td>233.0</td>\n",
              "      <td>True</td>\n",
              "      <td>lv hypertrophy</td>\n",
              "      <td>150.0</td>\n",
              "      <td>False</td>\n",
              "      <td>2.3</td>\n",
              "      <td>downsloping</td>\n",
              "      <td>0.0</td>\n",
              "      <td>fixed defect</td>\n",
              "      <td>0</td>\n",
              "    </tr>\n",
              "    <tr>\n",
              "      <th>1</th>\n",
              "      <td>2</td>\n",
              "      <td>67</td>\n",
              "      <td>Male</td>\n",
              "      <td>Cleveland</td>\n",
              "      <td>asymptomatic</td>\n",
              "      <td>160.0</td>\n",
              "      <td>286.0</td>\n",
              "      <td>False</td>\n",
              "      <td>lv hypertrophy</td>\n",
              "      <td>108.0</td>\n",
              "      <td>True</td>\n",
              "      <td>1.5</td>\n",
              "      <td>flat</td>\n",
              "      <td>3.0</td>\n",
              "      <td>normal</td>\n",
              "      <td>2</td>\n",
              "    </tr>\n",
              "    <tr>\n",
              "      <th>2</th>\n",
              "      <td>3</td>\n",
              "      <td>67</td>\n",
              "      <td>Male</td>\n",
              "      <td>Cleveland</td>\n",
              "      <td>asymptomatic</td>\n",
              "      <td>120.0</td>\n",
              "      <td>229.0</td>\n",
              "      <td>False</td>\n",
              "      <td>lv hypertrophy</td>\n",
              "      <td>129.0</td>\n",
              "      <td>True</td>\n",
              "      <td>2.6</td>\n",
              "      <td>flat</td>\n",
              "      <td>2.0</td>\n",
              "      <td>reversable defect</td>\n",
              "      <td>1</td>\n",
              "    </tr>\n",
              "    <tr>\n",
              "      <th>3</th>\n",
              "      <td>4</td>\n",
              "      <td>37</td>\n",
              "      <td>Male</td>\n",
              "      <td>Cleveland</td>\n",
              "      <td>non-anginal</td>\n",
              "      <td>130.0</td>\n",
              "      <td>250.0</td>\n",
              "      <td>False</td>\n",
              "      <td>normal</td>\n",
              "      <td>187.0</td>\n",
              "      <td>False</td>\n",
              "      <td>3.5</td>\n",
              "      <td>downsloping</td>\n",
              "      <td>0.0</td>\n",
              "      <td>normal</td>\n",
              "      <td>0</td>\n",
              "    </tr>\n",
              "    <tr>\n",
              "      <th>4</th>\n",
              "      <td>5</td>\n",
              "      <td>41</td>\n",
              "      <td>Female</td>\n",
              "      <td>Cleveland</td>\n",
              "      <td>atypical angina</td>\n",
              "      <td>130.0</td>\n",
              "      <td>204.0</td>\n",
              "      <td>False</td>\n",
              "      <td>lv hypertrophy</td>\n",
              "      <td>172.0</td>\n",
              "      <td>False</td>\n",
              "      <td>1.4</td>\n",
              "      <td>upsloping</td>\n",
              "      <td>0.0</td>\n",
              "      <td>normal</td>\n",
              "      <td>0</td>\n",
              "    </tr>\n",
              "  </tbody>\n",
              "</table>\n",
              "</div>\n",
              "    <div class=\"colab-df-buttons\">\n",
              "\n",
              "  <div class=\"colab-df-container\">\n",
              "    <button class=\"colab-df-convert\" onclick=\"convertToInteractive('df-198dd1c8-98f7-4f87-a929-527117a8580e')\"\n",
              "            title=\"Convert this dataframe to an interactive table.\"\n",
              "            style=\"display:none;\">\n",
              "\n",
              "  <svg xmlns=\"http://www.w3.org/2000/svg\" height=\"24px\" viewBox=\"0 -960 960 960\">\n",
              "    <path d=\"M120-120v-720h720v720H120Zm60-500h600v-160H180v160Zm220 220h160v-160H400v160Zm0 220h160v-160H400v160ZM180-400h160v-160H180v160Zm440 0h160v-160H620v160ZM180-180h160v-160H180v160Zm440 0h160v-160H620v160Z\"/>\n",
              "  </svg>\n",
              "    </button>\n",
              "\n",
              "  <style>\n",
              "    .colab-df-container {\n",
              "      display:flex;\n",
              "      gap: 12px;\n",
              "    }\n",
              "\n",
              "    .colab-df-convert {\n",
              "      background-color: #E8F0FE;\n",
              "      border: none;\n",
              "      border-radius: 50%;\n",
              "      cursor: pointer;\n",
              "      display: none;\n",
              "      fill: #1967D2;\n",
              "      height: 32px;\n",
              "      padding: 0 0 0 0;\n",
              "      width: 32px;\n",
              "    }\n",
              "\n",
              "    .colab-df-convert:hover {\n",
              "      background-color: #E2EBFA;\n",
              "      box-shadow: 0px 1px 2px rgba(60, 64, 67, 0.3), 0px 1px 3px 1px rgba(60, 64, 67, 0.15);\n",
              "      fill: #174EA6;\n",
              "    }\n",
              "\n",
              "    .colab-df-buttons div {\n",
              "      margin-bottom: 4px;\n",
              "    }\n",
              "\n",
              "    [theme=dark] .colab-df-convert {\n",
              "      background-color: #3B4455;\n",
              "      fill: #D2E3FC;\n",
              "    }\n",
              "\n",
              "    [theme=dark] .colab-df-convert:hover {\n",
              "      background-color: #434B5C;\n",
              "      box-shadow: 0px 1px 3px 1px rgba(0, 0, 0, 0.15);\n",
              "      filter: drop-shadow(0px 1px 2px rgba(0, 0, 0, 0.3));\n",
              "      fill: #FFFFFF;\n",
              "    }\n",
              "  </style>\n",
              "\n",
              "    <script>\n",
              "      const buttonEl =\n",
              "        document.querySelector('#df-198dd1c8-98f7-4f87-a929-527117a8580e button.colab-df-convert');\n",
              "      buttonEl.style.display =\n",
              "        google.colab.kernel.accessAllowed ? 'block' : 'none';\n",
              "\n",
              "      async function convertToInteractive(key) {\n",
              "        const element = document.querySelector('#df-198dd1c8-98f7-4f87-a929-527117a8580e');\n",
              "        const dataTable =\n",
              "          await google.colab.kernel.invokeFunction('convertToInteractive',\n",
              "                                                    [key], {});\n",
              "        if (!dataTable) return;\n",
              "\n",
              "        const docLinkHtml = 'Like what you see? Visit the ' +\n",
              "          '<a target=\"_blank\" href=https://colab.research.google.com/notebooks/data_table.ipynb>data table notebook</a>'\n",
              "          + ' to learn more about interactive tables.';\n",
              "        element.innerHTML = '';\n",
              "        dataTable['output_type'] = 'display_data';\n",
              "        await google.colab.output.renderOutput(dataTable, element);\n",
              "        const docLink = document.createElement('div');\n",
              "        docLink.innerHTML = docLinkHtml;\n",
              "        element.appendChild(docLink);\n",
              "      }\n",
              "    </script>\n",
              "  </div>\n",
              "\n",
              "\n",
              "    <div id=\"df-48d097e6-8c70-4dfd-a3e6-6a441441bf45\">\n",
              "      <button class=\"colab-df-quickchart\" onclick=\"quickchart('df-48d097e6-8c70-4dfd-a3e6-6a441441bf45')\"\n",
              "                title=\"Suggest charts\"\n",
              "                style=\"display:none;\">\n",
              "\n",
              "<svg xmlns=\"http://www.w3.org/2000/svg\" height=\"24px\"viewBox=\"0 0 24 24\"\n",
              "     width=\"24px\">\n",
              "    <g>\n",
              "        <path d=\"M19 3H5c-1.1 0-2 .9-2 2v14c0 1.1.9 2 2 2h14c1.1 0 2-.9 2-2V5c0-1.1-.9-2-2-2zM9 17H7v-7h2v7zm4 0h-2V7h2v10zm4 0h-2v-4h2v4z\"/>\n",
              "    </g>\n",
              "</svg>\n",
              "      </button>\n",
              "\n",
              "<style>\n",
              "  .colab-df-quickchart {\n",
              "      --bg-color: #E8F0FE;\n",
              "      --fill-color: #1967D2;\n",
              "      --hover-bg-color: #E2EBFA;\n",
              "      --hover-fill-color: #174EA6;\n",
              "      --disabled-fill-color: #AAA;\n",
              "      --disabled-bg-color: #DDD;\n",
              "  }\n",
              "\n",
              "  [theme=dark] .colab-df-quickchart {\n",
              "      --bg-color: #3B4455;\n",
              "      --fill-color: #D2E3FC;\n",
              "      --hover-bg-color: #434B5C;\n",
              "      --hover-fill-color: #FFFFFF;\n",
              "      --disabled-bg-color: #3B4455;\n",
              "      --disabled-fill-color: #666;\n",
              "  }\n",
              "\n",
              "  .colab-df-quickchart {\n",
              "    background-color: var(--bg-color);\n",
              "    border: none;\n",
              "    border-radius: 50%;\n",
              "    cursor: pointer;\n",
              "    display: none;\n",
              "    fill: var(--fill-color);\n",
              "    height: 32px;\n",
              "    padding: 0;\n",
              "    width: 32px;\n",
              "  }\n",
              "\n",
              "  .colab-df-quickchart:hover {\n",
              "    background-color: var(--hover-bg-color);\n",
              "    box-shadow: 0 1px 2px rgba(60, 64, 67, 0.3), 0 1px 3px 1px rgba(60, 64, 67, 0.15);\n",
              "    fill: var(--button-hover-fill-color);\n",
              "  }\n",
              "\n",
              "  .colab-df-quickchart-complete:disabled,\n",
              "  .colab-df-quickchart-complete:disabled:hover {\n",
              "    background-color: var(--disabled-bg-color);\n",
              "    fill: var(--disabled-fill-color);\n",
              "    box-shadow: none;\n",
              "  }\n",
              "\n",
              "  .colab-df-spinner {\n",
              "    border: 2px solid var(--fill-color);\n",
              "    border-color: transparent;\n",
              "    border-bottom-color: var(--fill-color);\n",
              "    animation:\n",
              "      spin 1s steps(1) infinite;\n",
              "  }\n",
              "\n",
              "  @keyframes spin {\n",
              "    0% {\n",
              "      border-color: transparent;\n",
              "      border-bottom-color: var(--fill-color);\n",
              "      border-left-color: var(--fill-color);\n",
              "    }\n",
              "    20% {\n",
              "      border-color: transparent;\n",
              "      border-left-color: var(--fill-color);\n",
              "      border-top-color: var(--fill-color);\n",
              "    }\n",
              "    30% {\n",
              "      border-color: transparent;\n",
              "      border-left-color: var(--fill-color);\n",
              "      border-top-color: var(--fill-color);\n",
              "      border-right-color: var(--fill-color);\n",
              "    }\n",
              "    40% {\n",
              "      border-color: transparent;\n",
              "      border-right-color: var(--fill-color);\n",
              "      border-top-color: var(--fill-color);\n",
              "    }\n",
              "    60% {\n",
              "      border-color: transparent;\n",
              "      border-right-color: var(--fill-color);\n",
              "    }\n",
              "    80% {\n",
              "      border-color: transparent;\n",
              "      border-right-color: var(--fill-color);\n",
              "      border-bottom-color: var(--fill-color);\n",
              "    }\n",
              "    90% {\n",
              "      border-color: transparent;\n",
              "      border-bottom-color: var(--fill-color);\n",
              "    }\n",
              "  }\n",
              "</style>\n",
              "\n",
              "      <script>\n",
              "        async function quickchart(key) {\n",
              "          const quickchartButtonEl =\n",
              "            document.querySelector('#' + key + ' button');\n",
              "          quickchartButtonEl.disabled = true;  // To prevent multiple clicks.\n",
              "          quickchartButtonEl.classList.add('colab-df-spinner');\n",
              "          try {\n",
              "            const charts = await google.colab.kernel.invokeFunction(\n",
              "                'suggestCharts', [key], {});\n",
              "          } catch (error) {\n",
              "            console.error('Error during call to suggestCharts:', error);\n",
              "          }\n",
              "          quickchartButtonEl.classList.remove('colab-df-spinner');\n",
              "          quickchartButtonEl.classList.add('colab-df-quickchart-complete');\n",
              "        }\n",
              "        (() => {\n",
              "          let quickchartButtonEl =\n",
              "            document.querySelector('#df-48d097e6-8c70-4dfd-a3e6-6a441441bf45 button');\n",
              "          quickchartButtonEl.style.display =\n",
              "            google.colab.kernel.accessAllowed ? 'block' : 'none';\n",
              "        })();\n",
              "      </script>\n",
              "    </div>\n",
              "\n",
              "    </div>\n",
              "  </div>\n"
            ],
            "application/vnd.google.colaboratory.intrinsic+json": {
              "type": "dataframe",
              "variable_name": "df",
              "summary": "{\n  \"name\": \"df\",\n  \"rows\": 920,\n  \"fields\": [\n    {\n      \"column\": \"id\",\n      \"properties\": {\n        \"dtype\": \"number\",\n        \"std\": 265,\n        \"min\": 1,\n        \"max\": 920,\n        \"num_unique_values\": 920,\n        \"samples\": [\n          320,\n          378,\n          539\n        ],\n        \"semantic_type\": \"\",\n        \"description\": \"\"\n      }\n    },\n    {\n      \"column\": \"age\",\n      \"properties\": {\n        \"dtype\": \"number\",\n        \"std\": 9,\n        \"min\": 28,\n        \"max\": 77,\n        \"num_unique_values\": 50,\n        \"samples\": [\n          64,\n          74,\n          39\n        ],\n        \"semantic_type\": \"\",\n        \"description\": \"\"\n      }\n    },\n    {\n      \"column\": \"sex\",\n      \"properties\": {\n        \"dtype\": \"category\",\n        \"num_unique_values\": 2,\n        \"samples\": [\n          \"Female\",\n          \"Male\"\n        ],\n        \"semantic_type\": \"\",\n        \"description\": \"\"\n      }\n    },\n    {\n      \"column\": \"dataset\",\n      \"properties\": {\n        \"dtype\": \"category\",\n        \"num_unique_values\": 4,\n        \"samples\": [\n          \"Hungary\",\n          \"VA Long Beach\"\n        ],\n        \"semantic_type\": \"\",\n        \"description\": \"\"\n      }\n    },\n    {\n      \"column\": \"cp\",\n      \"properties\": {\n        \"dtype\": \"category\",\n        \"num_unique_values\": 4,\n        \"samples\": [\n          \"asymptomatic\",\n          \"atypical angina\"\n        ],\n        \"semantic_type\": \"\",\n        \"description\": \"\"\n      }\n    },\n    {\n      \"column\": \"trestbps\",\n      \"properties\": {\n        \"dtype\": \"number\",\n        \"std\": 19.066069518587458,\n        \"min\": 0.0,\n        \"max\": 200.0,\n        \"num_unique_values\": 61,\n        \"samples\": [\n          145.0,\n          172.0\n        ],\n        \"semantic_type\": \"\",\n        \"description\": \"\"\n      }\n    },\n    {\n      \"column\": \"chol\",\n      \"properties\": {\n        \"dtype\": \"number\",\n        \"std\": 110.78081035323044,\n        \"min\": 0.0,\n        \"max\": 603.0,\n        \"num_unique_values\": 217,\n        \"samples\": [\n          384.0,\n          333.0\n        ],\n        \"semantic_type\": \"\",\n        \"description\": \"\"\n      }\n    },\n    {\n      \"column\": \"fbs\",\n      \"properties\": {\n        \"dtype\": \"category\",\n        \"num_unique_values\": 2,\n        \"samples\": [\n          false,\n          true\n        ],\n        \"semantic_type\": \"\",\n        \"description\": \"\"\n      }\n    },\n    {\n      \"column\": \"restecg\",\n      \"properties\": {\n        \"dtype\": \"category\",\n        \"num_unique_values\": 3,\n        \"samples\": [\n          \"lv hypertrophy\",\n          \"normal\"\n        ],\n        \"semantic_type\": \"\",\n        \"description\": \"\"\n      }\n    },\n    {\n      \"column\": \"thalch\",\n      \"properties\": {\n        \"dtype\": \"number\",\n        \"std\": 25.926276492797612,\n        \"min\": 60.0,\n        \"max\": 202.0,\n        \"num_unique_values\": 119,\n        \"samples\": [\n          185.0,\n          134.0\n        ],\n        \"semantic_type\": \"\",\n        \"description\": \"\"\n      }\n    },\n    {\n      \"column\": \"exang\",\n      \"properties\": {\n        \"dtype\": \"category\",\n        \"num_unique_values\": 2,\n        \"samples\": [\n          true,\n          false\n        ],\n        \"semantic_type\": \"\",\n        \"description\": \"\"\n      }\n    },\n    {\n      \"column\": \"oldpeak\",\n      \"properties\": {\n        \"dtype\": \"number\",\n        \"std\": 1.0912262483465265,\n        \"min\": -2.6,\n        \"max\": 6.2,\n        \"num_unique_values\": 53,\n        \"samples\": [\n          2.4,\n          -1.1\n        ],\n        \"semantic_type\": \"\",\n        \"description\": \"\"\n      }\n    },\n    {\n      \"column\": \"slope\",\n      \"properties\": {\n        \"dtype\": \"category\",\n        \"num_unique_values\": 3,\n        \"samples\": [\n          \"downsloping\",\n          \"flat\"\n        ],\n        \"semantic_type\": \"\",\n        \"description\": \"\"\n      }\n    },\n    {\n      \"column\": \"ca\",\n      \"properties\": {\n        \"dtype\": \"number\",\n        \"std\": 0.9356530125599879,\n        \"min\": 0.0,\n        \"max\": 3.0,\n        \"num_unique_values\": 4,\n        \"samples\": [\n          3.0,\n          1.0\n        ],\n        \"semantic_type\": \"\",\n        \"description\": \"\"\n      }\n    },\n    {\n      \"column\": \"thal\",\n      \"properties\": {\n        \"dtype\": \"category\",\n        \"num_unique_values\": 3,\n        \"samples\": [\n          \"fixed defect\",\n          \"normal\"\n        ],\n        \"semantic_type\": \"\",\n        \"description\": \"\"\n      }\n    },\n    {\n      \"column\": \"num\",\n      \"properties\": {\n        \"dtype\": \"number\",\n        \"std\": 1,\n        \"min\": 0,\n        \"max\": 4,\n        \"num_unique_values\": 5,\n        \"samples\": [\n          2,\n          4\n        ],\n        \"semantic_type\": \"\",\n        \"description\": \"\"\n      }\n    }\n  ]\n}"
            }
          },
          "metadata": {},
          "execution_count": 3
        }
      ],
      "source": [
        "df = pd.read_csv(r\"/content/drive/MyDrive/CodeAlpha Internship Edeme/Hear Disease Prediction/Data/heart_disease_uci.csv\")\n",
        "\n",
        "df.head()"
      ]
    },
    {
      "cell_type": "code",
      "source": [
        "len(df)"
      ],
      "metadata": {
        "colab": {
          "base_uri": "https://localhost:8080/"
        },
        "id": "r4ELRDOQ-ekO",
        "outputId": "15b2588b-8b7c-42fe-a84f-824c5792294d"
      },
      "id": "r4ELRDOQ-ekO",
      "execution_count": 78,
      "outputs": [
        {
          "output_type": "execute_result",
          "data": {
            "text/plain": [
              "919"
            ]
          },
          "metadata": {},
          "execution_count": 78
        }
      ]
    },
    {
      "cell_type": "markdown",
      "id": "3fef3658",
      "metadata": {
        "id": "3fef3658",
        "papermill": {
          "duration": 0.04059,
          "end_time": "2024-05-18T13:04:32.008131",
          "exception": false,
          "start_time": "2024-05-18T13:04:31.967541",
          "status": "completed"
        },
        "tags": []
      },
      "source": [
        "### Features"
      ]
    },
    {
      "cell_type": "code",
      "execution_count": null,
      "id": "8084d1d9",
      "metadata": {
        "execution": {
          "iopub.execute_input": "2024-05-18T13:04:32.163908Z",
          "iopub.status.busy": "2024-05-18T13:04:32.162108Z",
          "iopub.status.idle": "2024-05-18T13:04:32.198347Z",
          "shell.execute_reply": "2024-05-18T13:04:32.196417Z"
        },
        "id": "8084d1d9",
        "outputId": "da9cd733-fce0-4f32-cf61-2414833d63a7",
        "papermill": {
          "duration": 0.083612,
          "end_time": "2024-05-18T13:04:32.202506",
          "exception": false,
          "start_time": "2024-05-18T13:04:32.118894",
          "status": "completed"
        },
        "tags": [],
        "colab": {
          "base_uri": "https://localhost:8080/"
        }
      },
      "outputs": [
        {
          "output_type": "stream",
          "name": "stdout",
          "text": [
            "<class 'pandas.core.frame.DataFrame'>\n",
            "RangeIndex: 920 entries, 0 to 919\n",
            "Data columns (total 16 columns):\n",
            " #   Column    Non-Null Count  Dtype  \n",
            "---  ------    --------------  -----  \n",
            " 0   id        920 non-null    int64  \n",
            " 1   age       920 non-null    int64  \n",
            " 2   sex       920 non-null    object \n",
            " 3   dataset   920 non-null    object \n",
            " 4   cp        920 non-null    object \n",
            " 5   trestbps  861 non-null    float64\n",
            " 6   chol      890 non-null    float64\n",
            " 7   fbs       830 non-null    object \n",
            " 8   restecg   918 non-null    object \n",
            " 9   thalch    865 non-null    float64\n",
            " 10  exang     865 non-null    object \n",
            " 11  oldpeak   858 non-null    float64\n",
            " 12  slope     611 non-null    object \n",
            " 13  ca        309 non-null    float64\n",
            " 14  thal      434 non-null    object \n",
            " 15  num       920 non-null    int64  \n",
            "dtypes: float64(5), int64(3), object(8)\n",
            "memory usage: 115.1+ KB\n"
          ]
        }
      ],
      "source": [
        "# expploring datatype of each column\n",
        "df.info()"
      ]
    },
    {
      "cell_type": "markdown",
      "id": "d82cb04a",
      "metadata": {
        "id": "d82cb04a",
        "papermill": {
          "duration": 0.057311,
          "end_time": "2024-05-18T13:04:32.401191",
          "exception": false,
          "start_time": "2024-05-18T13:04:32.343880",
          "status": "completed"
        },
        "tags": []
      },
      "source": [
        "### **shape of data**"
      ]
    },
    {
      "cell_type": "code",
      "execution_count": null,
      "id": "3d836cb2",
      "metadata": {
        "execution": {
          "iopub.execute_input": "2024-05-18T13:04:32.513453Z",
          "iopub.status.busy": "2024-05-18T13:04:32.512437Z",
          "iopub.status.idle": "2024-05-18T13:04:32.518363Z",
          "shell.execute_reply": "2024-05-18T13:04:32.517526Z"
        },
        "id": "3d836cb2",
        "outputId": "8cf9d86b-54d3-4e79-ea56-17359930322f",
        "papermill": {
          "duration": 0.062043,
          "end_time": "2024-05-18T13:04:32.520626",
          "exception": false,
          "start_time": "2024-05-18T13:04:32.458583",
          "status": "completed"
        },
        "tags": [],
        "colab": {
          "base_uri": "https://localhost:8080/"
        }
      },
      "outputs": [
        {
          "output_type": "stream",
          "name": "stdout",
          "text": [
            "This dataframe has 920 rows and 16 columns.\n"
          ]
        }
      ],
      "source": [
        "# let' view the shape of the data, number of rows & columns\n",
        "print(f\"This dataframe has {df.shape[0]} rows and {df.shape[1]} columns.\")"
      ]
    },
    {
      "cell_type": "markdown",
      "id": "1d34ffff",
      "metadata": {
        "id": "1d34ffff",
        "papermill": {
          "duration": 0.042328,
          "end_time": "2024-05-18T13:04:32.606006",
          "exception": false,
          "start_time": "2024-05-18T13:04:32.563678",
          "status": "completed"
        },
        "tags": []
      },
      "source": [
        "Find unique ID"
      ]
    },
    {
      "cell_type": "code",
      "execution_count": null,
      "id": "e4849b57",
      "metadata": {
        "execution": {
          "iopub.execute_input": "2024-05-18T13:04:32.709994Z",
          "iopub.status.busy": "2024-05-18T13:04:32.708986Z",
          "iopub.status.idle": "2024-05-18T13:04:32.718301Z",
          "shell.execute_reply": "2024-05-18T13:04:32.716812Z"
        },
        "id": "e4849b57",
        "outputId": "4a0d0dd5-fc35-44de-ba7e-b1017f379ebf",
        "papermill": {
          "duration": 0.068993,
          "end_time": "2024-05-18T13:04:32.720895",
          "exception": false,
          "start_time": "2024-05-18T13:04:32.651902",
          "status": "completed"
        },
        "tags": [],
        "colab": {
          "base_uri": "https://localhost:8080/"
        }
      },
      "outputs": [
        {
          "output_type": "stream",
          "name": "stdout",
          "text": [
            "The minimum id in id column is 1 and maximum id is 920.\n"
          ]
        }
      ],
      "source": [
        "# take a look at id column\n",
        "print(f\"The minimum id in id column is {df['id'].min()} and maximum id is {df['id'].max()}.\")"
      ]
    },
    {
      "cell_type": "markdown",
      "id": "f6802367",
      "metadata": {
        "id": "f6802367",
        "papermill": {
          "duration": 0.042041,
          "end_time": "2024-05-18T13:04:32.805828",
          "exception": false,
          "start_time": "2024-05-18T13:04:32.763787",
          "status": "completed"
        },
        "tags": []
      },
      "source": [
        "# Minimum and Maximum age"
      ]
    },
    {
      "cell_type": "code",
      "execution_count": null,
      "id": "6d126857",
      "metadata": {
        "execution": {
          "iopub.execute_input": "2024-05-18T13:04:32.893025Z",
          "iopub.status.busy": "2024-05-18T13:04:32.892593Z",
          "iopub.status.idle": "2024-05-18T13:04:32.897829Z",
          "shell.execute_reply": "2024-05-18T13:04:32.896922Z"
        },
        "id": "6d126857",
        "outputId": "6c433731-1184-4de9-fe78-7a437b38b67c",
        "papermill": {
          "duration": 0.05159,
          "end_time": "2024-05-18T13:04:32.900613",
          "exception": false,
          "start_time": "2024-05-18T13:04:32.849023",
          "status": "completed"
        },
        "tags": [],
        "colab": {
          "base_uri": "https://localhost:8080/"
        }
      },
      "outputs": [
        {
          "output_type": "stream",
          "name": "stdout",
          "text": [
            "The minimum age in age column is 28 and maximum age is 77.\n"
          ]
        }
      ],
      "source": [
        "# take a look at age column according to this dataset\n",
        "print(f\"The minimum age in age column is {df['age'].min()} and maximum age is {df['age'].max()}.\")"
      ]
    },
    {
      "cell_type": "markdown",
      "id": "3fc6f45a",
      "metadata": {
        "id": "3fc6f45a",
        "papermill": {
          "duration": 0.041719,
          "end_time": "2024-05-18T13:04:32.984262",
          "exception": false,
          "start_time": "2024-05-18T13:04:32.942543",
          "status": "completed"
        },
        "tags": []
      },
      "source": [
        "### **Let's see visual representation of age column**"
      ]
    },
    {
      "cell_type": "code",
      "execution_count": null,
      "id": "73f08c21",
      "metadata": {
        "execution": {
          "iopub.execute_input": "2024-05-18T13:04:33.074664Z",
          "iopub.status.busy": "2024-05-18T13:04:33.073936Z",
          "iopub.status.idle": "2024-05-18T13:04:33.543079Z",
          "shell.execute_reply": "2024-05-18T13:04:33.541742Z"
        },
        "id": "73f08c21",
        "outputId": "790f1114-5a27-4369-fe64-5bec32ca1ba9",
        "papermill": {
          "duration": 0.518216,
          "end_time": "2024-05-18T13:04:33.546183",
          "exception": false,
          "start_time": "2024-05-18T13:04:33.027967",
          "status": "completed"
        },
        "tags": [],
        "colab": {
          "base_uri": "https://localhost:8080/",
          "height": 755
        }
      },
      "outputs": [
        {
          "output_type": "display_data",
          "data": {
            "text/plain": [
              "<Figure size 1600x900 with 1 Axes>"
            ],
            "image/png": "[encoded data removed]"
          },
          "metadata": {}
        }
      ],
      "source": [
        "# Draw a histogram to visualize the distribution of the age column\n",
        "plt.figure(figsize=(16, 9))\n",
        "sns.histplot(df[\"age\"], kde=True, color=\"Navy\")\n",
        "plt.show()"
      ]
    },
    {
      "cell_type": "code",
      "execution_count": null,
      "id": "e0eca494",
      "metadata": {
        "execution": {
          "iopub.execute_input": "2024-05-18T13:04:33.632213Z",
          "iopub.status.busy": "2024-05-18T13:04:33.631787Z",
          "iopub.status.idle": "2024-05-18T13:04:34.106996Z",
          "shell.execute_reply": "2024-05-18T13:04:34.105637Z"
        },
        "id": "e0eca494",
        "outputId": "d8016d02-5492-4788-f324-509f114c45dd",
        "papermill": {
          "duration": 0.521753,
          "end_time": "2024-05-18T13:04:34.110082",
          "exception": false,
          "start_time": "2024-05-18T13:04:33.588329",
          "status": "completed"
        },
        "tags": [],
        "colab": {
          "base_uri": "https://localhost:8080/",
          "height": 807
        }
      },
      "outputs": [
        {
          "output_type": "stream",
          "name": "stdout",
          "text": [
            "Mean: 53.51086956521739\n",
            "Median: 54.0\n",
            "Mode: 54\n"
          ]
        },
        {
          "output_type": "display_data",
          "data": {
            "text/plain": [
              "<Figure size 1600x900 with 1 Axes>"
            ],
            "image/png": "[encoded data removed]"
          },
          "metadata": {}
        }
      ],
      "source": [
        "# Set the figure size to 16:9\n",
        "plt.figure(figsize=(16, 9))\n",
        "\n",
        "# Plot the mean, median and mode of each column using sns\n",
        "sns.histplot(df[\"age\"], kde=True)\n",
        "plt.axvline(df[\"age\"].mean(), color=\"r\")\n",
        "plt.axvline(df[\"age\"].median(), color=\"g\")\n",
        "plt.axvline(df[\"age\"].mode()[0], color=\"b\")\n",
        "\n",
        "\n",
        "# Print the mean, median and mode of each column\n",
        "print(\"Mean:\", df[\"age\"].mean())\n",
        "print(\"Median:\", df[\"age\"].median())\n",
        "print(\"Mode:\", df[\"age\"].mode()[0])"
      ]
    },
    {
      "cell_type": "markdown",
      "id": "29e65019",
      "metadata": {
        "id": "29e65019",
        "papermill": {
          "duration": 0.045136,
          "end_time": "2024-05-18T13:04:34.291161",
          "exception": false,
          "start_time": "2024-05-18T13:04:34.246025",
          "status": "completed"
        },
        "tags": []
      },
      "source": [
        "# Exploring sex (Male/Female) Feature"
      ]
    },
    {
      "cell_type": "code",
      "execution_count": null,
      "id": "cbde4949",
      "metadata": {
        "execution": {
          "iopub.execute_input": "2024-05-18T13:04:34.384047Z",
          "iopub.status.busy": "2024-05-18T13:04:34.383385Z",
          "iopub.status.idle": "2024-05-18T13:04:34.391824Z",
          "shell.execute_reply": "2024-05-18T13:04:34.390979Z"
        },
        "id": "cbde4949",
        "outputId": "894e2312-870c-4b12-db42-8f4025ff5afc",
        "papermill": {
          "duration": 0.057849,
          "end_time": "2024-05-18T13:04:34.394220",
          "exception": false,
          "start_time": "2024-05-18T13:04:34.336371",
          "status": "completed"
        },
        "tags": [],
        "colab": {
          "base_uri": "https://localhost:8080/",
          "height": 178
        }
      },
      "outputs": [
        {
          "output_type": "execute_result",
          "data": {
            "text/plain": [
              "sex\n",
              "Male      726\n",
              "Female    194\n",
              "Name: count, dtype: int64"
            ],
            "text/html": [
              "<div>\n",
              "<style scoped>\n",
              "    .dataframe tbody tr th:only-of-type {\n",
              "        vertical-align: middle;\n",
              "    }\n",
              "\n",
              "    .dataframe tbody tr th {\n",
              "        vertical-align: top;\n",
              "    }\n",
              "\n",
              "    .dataframe thead th {\n",
              "        text-align: right;\n",
              "    }\n",
              "</style>\n",
              "<table border=\"1\" class=\"dataframe\">\n",
              "  <thead>\n",
              "    <tr style=\"text-align: right;\">\n",
              "      <th></th>\n",
              "      <th>count</th>\n",
              "    </tr>\n",
              "    <tr>\n",
              "      <th>sex</th>\n",
              "      <th></th>\n",
              "    </tr>\n",
              "  </thead>\n",
              "  <tbody>\n",
              "    <tr>\n",
              "      <th>Male</th>\n",
              "      <td>726</td>\n",
              "    </tr>\n",
              "    <tr>\n",
              "      <th>Female</th>\n",
              "      <td>194</td>\n",
              "    </tr>\n",
              "  </tbody>\n",
              "</table>\n",
              "</div><br><label><b>dtype:</b> int64</label>"
            ]
          },
          "metadata": {},
          "execution_count": 10
        }
      ],
      "source": [
        "# find the count of male and female in sex column\n",
        "df[\"sex\"].value_counts()"
      ]
    },
    {
      "cell_type": "markdown",
      "id": "54a0365a",
      "metadata": {
        "id": "54a0365a",
        "papermill": {
          "duration": 0.044247,
          "end_time": "2024-05-18T13:04:34.482564",
          "exception": false,
          "start_time": "2024-05-18T13:04:34.438317",
          "status": "completed"
        },
        "tags": []
      },
      "source": [
        "### **Calculate Percentage of Males and Females in sex column**"
      ]
    },
    {
      "cell_type": "code",
      "execution_count": null,
      "id": "51a9806f",
      "metadata": {
        "execution": {
          "iopub.execute_input": "2024-05-18T13:04:34.575154Z",
          "iopub.status.busy": "2024-05-18T13:04:34.574146Z",
          "iopub.status.idle": "2024-05-18T13:04:34.582175Z",
          "shell.execute_reply": "2024-05-18T13:04:34.581111Z"
        },
        "id": "51a9806f",
        "outputId": "70ae1aed-91a4-43c8-e97d-a90847142f77",
        "papermill": {
          "duration": 0.057954,
          "end_time": "2024-05-18T13:04:34.584890",
          "exception": false,
          "start_time": "2024-05-18T13:04:34.526936",
          "status": "completed"
        },
        "tags": [],
        "colab": {
          "base_uri": "https://localhost:8080/"
        }
      },
      "outputs": [
        {
          "output_type": "stream",
          "name": "stdout",
          "text": [
            "Male Percentage in data: 78.91%\n",
            "Female Percentage in data: 21.09%\n",
            "Males are 274.23% more than females in the data.\n"
          ]
        }
      ],
      "source": [
        "# calculate percentage of male and female in sex column\n",
        "male = 726\n",
        "female = 194\n",
        "total = male + female\n",
        "\n",
        "# calculate percentage\n",
        "male_percentage = (male/total) * 100\n",
        "female_percentage = (female/total) * 100\n",
        "\n",
        "# print the result\n",
        "print(f\"Male Percentage in data: {male_percentage:.2f}%\")\n",
        "print(f\"Female Percentage in data: {female_percentage:.2f}%\")\n",
        "\n",
        "# difference\n",
        "difference_peercentage = ((male - female)/ female) * 100\n",
        "print(f\"Males are {difference_peercentage:.2f}% more than females in the data.\")"
      ]
    },
    {
      "cell_type": "markdown",
      "id": "f46dc524",
      "metadata": {
        "id": "f46dc524",
        "papermill": {
          "duration": 0.043464,
          "end_time": "2024-05-18T13:04:35.198715",
          "exception": false,
          "start_time": "2024-05-18T13:04:35.155251",
          "status": "completed"
        },
        "tags": []
      },
      "source": [
        "# Exploring dataset (Place of study)"
      ]
    },
    {
      "cell_type": "code",
      "execution_count": null,
      "id": "0fde895b",
      "metadata": {
        "execution": {
          "iopub.execute_input": "2024-05-18T13:04:35.292697Z",
          "iopub.status.busy": "2024-05-18T13:04:35.292261Z",
          "iopub.status.idle": "2024-05-18T13:04:35.300619Z",
          "shell.execute_reply": "2024-05-18T13:04:35.299218Z"
        },
        "id": "0fde895b",
        "outputId": "ad142ff9-f12a-4ff8-bbae-e7aebaf4de7c",
        "papermill": {
          "duration": 0.059831,
          "end_time": "2024-05-18T13:04:35.303438",
          "exception": false,
          "start_time": "2024-05-18T13:04:35.243607",
          "status": "completed"
        },
        "tags": [],
        "colab": {
          "base_uri": "https://localhost:8080/"
        }
      },
      "outputs": [
        {
          "output_type": "stream",
          "name": "stdout",
          "text": [
            "Unique values count in dataset column: dataset\n",
            "Cleveland        304\n",
            "Hungary          293\n",
            "VA Long Beach    200\n",
            "Switzerland      123\n",
            "Name: count, dtype: int64\n"
          ]
        }
      ],
      "source": [
        "# let's find unique values count in dataset column\n",
        "print(\"Unique values count in dataset column:\",df[\"dataset\"].value_counts())"
      ]
    },
    {
      "cell_type": "markdown",
      "id": "b141f407",
      "metadata": {
        "id": "b141f407",
        "papermill": {
          "duration": 0.044683,
          "end_time": "2024-05-18T13:04:35.392898",
          "exception": false,
          "start_time": "2024-05-18T13:04:35.348215",
          "status": "completed"
        },
        "tags": []
      },
      "source": [
        "### **Let's visualize dataset Column**"
      ]
    },
    {
      "cell_type": "code",
      "execution_count": null,
      "id": "c9362cdf",
      "metadata": {
        "execution": {
          "iopub.execute_input": "2024-05-18T13:04:35.483955Z",
          "iopub.status.busy": "2024-05-18T13:04:35.483561Z",
          "iopub.status.idle": "2024-05-18T13:04:35.795034Z",
          "shell.execute_reply": "2024-05-18T13:04:35.793746Z"
        },
        "id": "c9362cdf",
        "outputId": "e537569c-25ab-429f-aad4-23f18f40939d",
        "papermill": {
          "duration": 0.360332,
          "end_time": "2024-05-18T13:04:35.797818",
          "exception": false,
          "start_time": "2024-05-18T13:04:35.437486",
          "status": "completed"
        },
        "tags": [],
        "colab": {
          "base_uri": "https://localhost:8080/",
          "height": 776
        }
      },
      "outputs": [
        {
          "output_type": "display_data",
          "data": {
            "text/plain": [
              "<Figure size 1600x900 with 1 Axes>"
            ],
            "image/png": "[encoded data removed]"
          },
          "metadata": {}
        }
      ],
      "source": [
        "import matplotlib.pyplot as plt\n",
        "\n",
        "# Define the categories and their corresponding values\n",
        "categories = ['Cleveland', 'Hungary', 'VA Long Beach', 'Switzerland']\n",
        "values = [304, 293, 200, 123]\n",
        "colors = ['blue', 'orange', 'green', 'red']\n",
        "\n",
        "# Create a bar plot\n",
        "plt.figure(figsize=(16, 9))\n",
        "plt.bar(categories, values, color=colors)\n",
        "\n",
        "# Add labels and title\n",
        "plt.xlabel('Categories')\n",
        "plt.ylabel('Values')\n",
        "plt.title('Places of Study')\n",
        "\n",
        "# Show plot\n",
        "plt.show()\n"
      ]
    },
    {
      "cell_type": "markdown",
      "id": "bb5a1e9b",
      "metadata": {
        "id": "bb5a1e9b",
        "papermill": {
          "duration": 0.044775,
          "end_time": "2024-05-18T13:04:35.978806",
          "exception": false,
          "start_time": "2024-05-18T13:04:35.934031",
          "status": "completed"
        },
        "tags": []
      },
      "source": [
        "### **Print the values count of the dataset column grouped by sex**"
      ]
    },
    {
      "cell_type": "code",
      "execution_count": null,
      "id": "3e9ce87b",
      "metadata": {
        "execution": {
          "iopub.execute_input": "2024-05-18T13:04:36.072854Z",
          "iopub.status.busy": "2024-05-18T13:04:36.071837Z",
          "iopub.status.idle": "2024-05-18T13:04:36.084664Z",
          "shell.execute_reply": "2024-05-18T13:04:36.083248Z"
        },
        "id": "3e9ce87b",
        "outputId": "d7f819f9-65a6-458b-9f9e-023c6b92908d",
        "papermill": {
          "duration": 0.063623,
          "end_time": "2024-05-18T13:04:36.087524",
          "exception": false,
          "start_time": "2024-05-18T13:04:36.023901",
          "status": "completed"
        },
        "tags": [],
        "colab": {
          "base_uri": "https://localhost:8080/"
        }
      },
      "outputs": [
        {
          "output_type": "stream",
          "name": "stdout",
          "text": [
            "sex     dataset      \n",
            "Female  Cleveland         97\n",
            "        Hungary           81\n",
            "        Switzerland       10\n",
            "        VA Long Beach      6\n",
            "Male    Hungary          212\n",
            "        Cleveland        207\n",
            "        VA Long Beach    194\n",
            "        Switzerland      113\n",
            "Name: count, dtype: int64\n"
          ]
        }
      ],
      "source": [
        "print(df.groupby(\"sex\")[\"dataset\"].value_counts())"
      ]
    },
    {
      "cell_type": "code",
      "execution_count": null,
      "id": "79963eb6",
      "metadata": {
        "execution": {
          "iopub.execute_input": "2024-05-18T13:04:36.273958Z",
          "iopub.status.busy": "2024-05-18T13:04:36.273261Z",
          "iopub.status.idle": "2024-05-18T13:04:36.281523Z",
          "shell.execute_reply": "2024-05-18T13:04:36.279940Z"
        },
        "id": "79963eb6",
        "outputId": "cd314d75-2f69-4d58-9127-5728beefcf03",
        "papermill": {
          "duration": 0.062999,
          "end_time": "2024-05-18T13:04:36.284369",
          "exception": false,
          "start_time": "2024-05-18T13:04:36.221370",
          "status": "completed"
        },
        "tags": [],
        "colab": {
          "base_uri": "https://localhost:8080/"
        }
      },
      "outputs": [
        {
          "output_type": "stream",
          "name": "stdout",
          "text": [
            "Value count of cp column: cp\n",
            "asymptomatic       496\n",
            "non-anginal        204\n",
            "atypical angina    174\n",
            "typical angina      46\n",
            "Name: count, dtype: int64\n"
          ]
        }
      ],
      "source": [
        "# let's check value count of cp column\n",
        "print(\"Value count of cp column:\",df[\"cp\"].value_counts())"
      ]
    },
    {
      "cell_type": "markdown",
      "id": "6133226a",
      "metadata": {
        "id": "6133226a",
        "papermill": {
          "duration": 0.045264,
          "end_time": "2024-05-18T13:04:36.375311",
          "exception": false,
          "start_time": "2024-05-18T13:04:36.330047",
          "status": "completed"
        },
        "tags": []
      },
      "source": [
        "### **Let's visualize cp on basis of dataset**"
      ]
    },
    {
      "cell_type": "code",
      "execution_count": null,
      "id": "79f42d7d",
      "metadata": {
        "execution": {
          "iopub.execute_input": "2024-05-18T13:04:36.470182Z",
          "iopub.status.busy": "2024-05-18T13:04:36.469417Z",
          "iopub.status.idle": "2024-05-18T13:04:36.849075Z",
          "shell.execute_reply": "2024-05-18T13:04:36.847836Z"
        },
        "id": "79f42d7d",
        "outputId": "4d1653e0-7dc7-4d20-c699-1c9f2e4b6742",
        "papermill": {
          "duration": 0.430232,
          "end_time": "2024-05-18T13:04:36.851654",
          "exception": false,
          "start_time": "2024-05-18T13:04:36.421422",
          "status": "completed"
        },
        "tags": [],
        "colab": {
          "base_uri": "https://localhost:8080/",
          "height": 755
        }
      },
      "outputs": [
        {
          "output_type": "display_data",
          "data": {
            "text/plain": [
              "<Figure size 1600x900 with 1 Axes>"
            ],
            "image/png": "[encoded data removed]"
          },
          "metadata": {}
        }
      ],
      "source": [
        "# Set the figure size\n",
        "plt.figure(figsize=(16, 9))\n",
        "\n",
        "# Create the count plot\n",
        "sns.countplot(data=df, x=\"cp\", hue=\"dataset\")\n",
        "\n",
        "# Display the plot\n",
        "plt.show()"
      ]
    },
    {
      "cell_type": "markdown",
      "id": "cb0067a1",
      "metadata": {
        "id": "cb0067a1",
        "papermill": {
          "duration": 0.045802,
          "end_time": "2024-05-18T13:04:36.943152",
          "exception": false,
          "start_time": "2024-05-18T13:04:36.897350",
          "status": "completed"
        },
        "tags": []
      },
      "source": [
        "### **Let's visualize age on basis of cp**"
      ]
    },
    {
      "cell_type": "code",
      "execution_count": null,
      "id": "2679595d",
      "metadata": {
        "execution": {
          "iopub.execute_input": "2024-05-18T13:04:37.038805Z",
          "iopub.status.busy": "2024-05-18T13:04:37.038029Z",
          "iopub.status.idle": "2024-05-18T13:04:39.219327Z",
          "shell.execute_reply": "2024-05-18T13:04:39.218017Z"
        },
        "id": "2679595d",
        "outputId": "fa41b76c-d06a-449f-b64b-32fd0707c3c6",
        "papermill": {
          "duration": 2.233456,
          "end_time": "2024-05-18T13:04:39.222534",
          "exception": false,
          "start_time": "2024-05-18T13:04:36.989078",
          "status": "completed"
        },
        "tags": [],
        "colab": {
          "base_uri": "https://localhost:8080/",
          "height": 542
        }
      },
      "outputs": [
        {
          "output_type": "display_data",
          "data": {
            "text/html": [
              "<html>\n",
              "<head><meta charset=\"utf-8\" /></head>\n",
              "<body>\n",
              "    <div>            <script src=\"https://cdnjs.cloudflare.com/ajax/libs/mathjax/2.7.5/MathJax.js?config=TeX-AMS-MML_SVG\"></script><script type=\"text/javascript\">if (window.MathJax && window.MathJax.Hub && window.MathJax.Hub.Config) {window.MathJax.Hub.Config({SVG: {font: \"STIX-Web\"}});}</script>                <script type=\"text/javascript\">window.PlotlyConfig = {MathJaxConfig: 'local'};</script>\n",
              "        <script charset=\"utf-8\" src=\"https://cdn.plot.ly/plotly-2.35.2.min.js\"></script>                <div id=\"b4b09ad5-fb08-4ea8-adf6-7f4eb3ed6b03\" class=\"plotly-graph-div\" style=\"height:525px; width:100%;\"></div>            <script type=\"text/javascript\">                                    window.PLOTLYENV=window.PLOTLYENV || {};                                    if (document.getElementById(\"b4b09ad5-fb08-4ea8-adf6-7f4eb3ed6b03\")) {                    Plotly.newPlot(                        \"b4b09ad5-fb08-4ea8-adf6-7f4eb3ed6b03\",                        [{\"alignmentgroup\":\"True\",\"bingroup\":\"x\",\"hovertemplate\":\"cp=typical angina\\u003cbr\\u003eage=%{x}\\u003cbr\\u003ecount=%{y}\\u003cextra\\u003e\\u003c\\u002fextra\\u003e\",\"legendgroup\":\"typical angina\",\"marker\":{\"color\":\"#636efa\",\"pattern\":{\"shape\":\"\"}},\"name\":\"typical angina\",\"offsetgroup\":\"typical angina\",\"orientation\":\"v\",\"showlegend\":true,\"x\":[63,64,58,66,69,40,51,34,52,65,59,52,42,59,69,59,38,56,61,60,59,64,45,30,35,43,47,54,57,62,34,43,46,55,32,62,62,67,67,65,49,62,61,68,74,62],\"xaxis\":\"x\",\"yaxis\":\"y\",\"type\":\"histogram\"},{\"alignmentgroup\":\"True\",\"bingroup\":\"x\",\"hovertemplate\":\"cp=asymptomatic\\u003cbr\\u003eage=%{x}\\u003cbr\\u003ecount=%{y}\\u003cextra\\u003e\\u003c\\u002fextra\\u003e\",\"legendgroup\":\"asymptomatic\",\"marker\":{\"color\":\"#EF553B\",\"pattern\":{\"shape\":\"\"}},\"name\":\"asymptomatic\",\"offsetgroup\":\"asymptomatic\",\"orientation\":\"v\",\"showlegend\":true,\"x\":[67,67,62,57,63,53,57,54,60,43,40,60,59,42,43,57,55,65,61,50,65,44,60,54,41,51,58,54,60,59,67,62,65,44,60,58,45,53,53,66,62,52,59,60,48,45,57,59,61,39,61,56,43,35,63,65,48,63,55,56,54,62,51,70,35,57,42,55,64,70,51,58,60,77,58,57,35,53,59,62,64,57,52,56,48,56,60,51,43,62,67,45,50,64,43,45,58,50,62,66,52,46,64,59,53,63,47,54,66,55,54,56,46,49,67,58,47,52,57,58,64,43,67,61,42,52,40,61,66,46,71,58,57,55,61,58,58,44,63,63,59,57,68,57,35,37,37,37,39,39,41,42,44,44,45,45,45,46,46,46,46,47,48,48,48,49,49,50,50,50,51,52,53,53,53,54,55,55,56,57,58,59,61,61,31,33,37,38,38,38,40,41,41,43,46,46,46,47,48,48,48,49,50,51,52,54,54,55,59,60,63,65,32,38,39,40,45,46,46,48,48,48,48,50,52,52,53,54,54,54,54,55,56,57,58,41,43,44,48,49,49,52,52,52,52,53,54,55,56,56,59,59,65,66,41,43,44,47,47,49,49,50,50,52,52,56,65,34,35,36,38,38,38,38,40,41,42,42,43,43,43,46,46,47,47,48,50,50,50,50,51,51,51,51,51,51,51,52,52,52,52,53,53,53,53,54,54,54,55,55,55,56,56,56,56,56,57,57,57,57,57,58,58,58,59,59,59,59,60,60,60,60,60,61,61,61,61,61,61,61,61,62,62,62,62,63,63,63,63,63,64,64,64,65,65,65,65,66,66,68,68,69,69,70,70,63,44,60,55,65,59,62,57,62,63,46,63,60,58,64,69,51,60,56,54,77,63,64,60,60,58,59,40,61,41,57,63,59,51,62,53,68,53,59,51,61,57,58,65,57,54,75,60,64,58,61,67,62,65,63,69,51,62,75,67,58,60,63,43,65,63,64,61,50,59,55,65,72,50,64,55,63,59,56,74,54,57,54,70,48,66,55,75,64,59,55,57,61,41,71,38,55,56,69,64,72,69,56,62,67,57,69,51,48,69,64,53,67,58,61,64,58,60,57,55,56,57,74,51,62,53,62,46,54,55,58],\"xaxis\":\"x\",\"yaxis\":\"y\",\"type\":\"histogram\"},{\"alignmentgroup\":\"True\",\"bingroup\":\"x\",\"hovertemplate\":\"cp=non-anginal\\u003cbr\\u003eage=%{x}\\u003cbr\\u003ecount=%{y}\\u003cextra\\u003e\\u003c\\u002fextra\\u003e\",\"legendgroup\":\"non-anginal\",\"marker\":{\"color\":\"#00cc96\",\"pattern\":{\"shape\":\"\"}},\"name\":\"non-anginal\",\"offsetgroup\":\"non-anginal\",\"orientation\":\"v\",\"showlegend\":true,\"x\":[37,56,52,57,48,58,50,58,64,44,61,59,58,51,65,53,50,54,46,54,60,54,46,65,65,51,39,68,44,47,53,51,62,44,63,71,49,57,62,58,51,54,51,43,51,64,58,47,41,60,67,68,54,48,52,70,43,53,42,69,50,68,57,64,37,41,41,54,39,67,52,49,54,60,51,42,76,44,44,59,42,66,39,47,67,38,33,36,36,36,37,37,38,39,39,39,40,40,40,42,42,42,43,45,46,46,47,48,48,49,49,51,51,51,52,52,53,53,54,54,55,55,56,56,56,58,59,59,60,47,49,49,50,58,54,58,47,51,53,54,38,38,45,47,47,53,53,56,56,56,57,59,60,61,62,72,73,66,66,60,60,63,63,74,52,55,55,52,61,59,42,55,60,56,69,72,51,55,40,35,63,68,48,45,49,62,62,76,48,62,71,53,58,56,58,54,69,37,74,55,61,61,58,68],\"xaxis\":\"x\",\"yaxis\":\"y\",\"type\":\"histogram\"},{\"alignmentgroup\":\"True\",\"bingroup\":\"x\",\"hovertemplate\":\"cp=atypical angina\\u003cbr\\u003eage=%{x}\\u003cbr\\u003ecount=%{y}\\u003cextra\\u003e\\u003c\\u002fextra\\u003e\",\"legendgroup\":\"atypical angina\",\"marker\":{\"color\":\"#ab63fa\",\"pattern\":{\"shape\":\"\"}},\"name\":\"atypical angina\",\"offsetgroup\":\"atypical angina\",\"orientation\":\"v\",\"showlegend\":true,\"x\":[41,56,56,44,48,49,58,71,41,44,48,52,52,54,41,45,44,29,55,62,59,52,45,46,54,45,63,66,54,50,55,46,34,74,49,42,41,41,62,70,57,58,57,35,58,56,56,55,41,57,28,29,29,31,32,32,32,34,34,34,35,35,36,37,37,38,38,39,39,39,39,39,40,40,41,41,41,41,41,41,42,42,42,43,43,43,43,43,43,44,44,45,45,45,46,47,47,48,48,48,48,48,48,49,49,49,49,50,50,50,50,51,51,51,52,52,52,52,52,53,53,53,53,54,54,54,54,54,54,54,54,54,54,54,54,55,55,55,55,55,55,56,57,58,58,59,59,62,35,36,57,44,55,56,58,58,53,53,55,74,60,56,63,56,62,58,63,55,61,61,54,57,63,62],\"xaxis\":\"x\",\"yaxis\":\"y\",\"type\":\"histogram\"}],                        {\"template\":{\"data\":{\"histogram2dcontour\":[{\"type\":\"histogram2dcontour\",\"colorbar\":{\"outlinewidth\":0,\"ticks\":\"\"},\"colorscale\":[[0.0,\"#0d0887\"],[0.1111111111111111,\"#46039f\"],[0.2222222222222222,\"#7201a8\"],[0.3333333333333333,\"#9c179e\"],[0.4444444444444444,\"#bd3786\"],[0.5555555555555556,\"#d8576b\"],[0.6666666666666666,\"#ed7953\"],[0.7777777777777778,\"#fb9f3a\"],[0.8888888888888888,\"#fdca26\"],[1.0,\"#f0f921\"]]}],\"choropleth\":[{\"type\":\"choropleth\",\"colorbar\":{\"outlinewidth\":0,\"ticks\":\"\"}}],\"histogram2d\":[{\"type\":\"histogram2d\",\"colorbar\":{\"outlinewidth\":0,\"ticks\":\"\"},\"colorscale\":[[0.0,\"#0d0887\"],[0.1111111111111111,\"#46039f\"],[0.2222222222222222,\"#7201a8\"],[0.3333333333333333,\"#9c179e\"],[0.4444444444444444,\"#bd3786\"],[0.5555555555555556,\"#d8576b\"],[0.6666666666666666,\"#ed7953\"],[0.7777777777777778,\"#fb9f3a\"],[0.8888888888888888,\"#fdca26\"],[1.0,\"#f0f921\"]]}],\"heatmap\":[{\"type\":\"heatmap\",\"colorbar\":{\"outlinewidth\":0,\"ticks\":\"\"},\"colorscale\":[[0.0,\"#0d0887\"],[0.1111111111111111,\"#46039f\"],[0.2222222222222222,\"#7201a8\"],[0.3333333333333333,\"#9c179e\"],[0.4444444444444444,\"#bd3786\"],[0.5555555555555556,\"#d8576b\"],[0.6666666666666666,\"#ed7953\"],[0.7777777777777778,\"#fb9f3a\"],[0.8888888888888888,\"#fdca26\"],[1.0,\"#f0f921\"]]}],\"heatmapgl\":[{\"type\":\"heatmapgl\",\"colorbar\":{\"outlinewidth\":0,\"ticks\":\"\"},\"colorscale\":[[0.0,\"#0d0887\"],[0.1111111111111111,\"#46039f\"],[0.2222222222222222,\"#7201a8\"],[0.3333333333333333,\"#9c179e\"],[0.4444444444444444,\"#bd3786\"],[0.5555555555555556,\"#d8576b\"],[0.6666666666666666,\"#ed7953\"],[0.7777777777777778,\"#fb9f3a\"],[0.8888888888888888,\"#fdca26\"],[1.0,\"#f0f921\"]]}],\"contourcarpet\":[{\"type\":\"contourcarpet\",\"colorbar\":{\"outlinewidth\":0,\"ticks\":\"\"}}],\"contour\":[{\"type\":\"contour\",\"colorbar\":{\"outlinewidth\":0,\"ticks\":\"\"},\"colorscale\":[[0.0,\"#0d0887\"],[0.1111111111111111,\"#46039f\"],[0.2222222222222222,\"#7201a8\"],[0.3333333333333333,\"#9c179e\"],[0.4444444444444444,\"#bd3786\"],[0.5555555555555556,\"#d8576b\"],[0.6666666666666666,\"#ed7953\"],[0.7777777777777778,\"#fb9f3a\"],[0.8888888888888888,\"#fdca26\"],[1.0,\"#f0f921\"]]}],\"surface\":[{\"type\":\"surface\",\"colorbar\":{\"outlinewidth\":0,\"ticks\":\"\"},\"colorscale\":[[0.0,\"#0d0887\"],[0.1111111111111111,\"#46039f\"],[0.2222222222222222,\"#7201a8\"],[0.3333333333333333,\"#9c179e\"],[0.4444444444444444,\"#bd3786\"],[0.5555555555555556,\"#d8576b\"],[0.6666666666666666,\"#ed7953\"],[0.7777777777777778,\"#fb9f3a\"],[0.8888888888888888,\"#fdca26\"],[1.0,\"#f0f921\"]]}],\"mesh3d\":[{\"type\":\"mesh3d\",\"colorbar\":{\"outlinewidth\":0,\"ticks\":\"\"}}],\"scatter\":[{\"fillpattern\":{\"fillmode\":\"overlay\",\"size\":10,\"solidity\":0.2},\"type\":\"scatter\"}],\"parcoords\":[{\"type\":\"parcoords\",\"line\":{\"colorbar\":{\"outlinewidth\":0,\"ticks\":\"\"}}}],\"scatterpolargl\":[{\"type\":\"scatterpolargl\",\"marker\":{\"colorbar\":{\"outlinewidth\":0,\"ticks\":\"\"}}}],\"bar\":[{\"error_x\":{\"color\":\"#2a3f5f\"},\"error_y\":{\"color\":\"#2a3f5f\"},\"marker\":{\"line\":{\"color\":\"#E5ECF6\",\"width\":0.5},\"pattern\":{\"fillmode\":\"overlay\",\"size\":10,\"solidity\":0.2}},\"type\":\"bar\"}],\"scattergeo\":[{\"type\":\"scattergeo\",\"marker\":{\"colorbar\":{\"outlinewidth\":0,\"ticks\":\"\"}}}],\"scatterpolar\":[{\"type\":\"scatterpolar\",\"marker\":{\"colorbar\":{\"outlinewidth\":0,\"ticks\":\"\"}}}],\"histogram\":[{\"marker\":{\"pattern\":{\"fillmode\":\"overlay\",\"size\":10,\"solidity\":0.2}},\"type\":\"histogram\"}],\"scattergl\":[{\"type\":\"scattergl\",\"marker\":{\"colorbar\":{\"outlinewidth\":0,\"ticks\":\"\"}}}],\"scatter3d\":[{\"type\":\"scatter3d\",\"line\":{\"colorbar\":{\"outlinewidth\":0,\"ticks\":\"\"}},\"marker\":{\"colorbar\":{\"outlinewidth\":0,\"ticks\":\"\"}}}],\"scattermapbox\":[{\"type\":\"scattermapbox\",\"marker\":{\"colorbar\":{\"outlinewidth\":0,\"ticks\":\"\"}}}],\"scatterternary\":[{\"type\":\"scatterternary\",\"marker\":{\"colorbar\":{\"outlinewidth\":0,\"ticks\":\"\"}}}],\"scattercarpet\":[{\"type\":\"scattercarpet\",\"marker\":{\"colorbar\":{\"outlinewidth\":0,\"ticks\":\"\"}}}],\"carpet\":[{\"aaxis\":{\"endlinecolor\":\"#2a3f5f\",\"gridcolor\":\"white\",\"linecolor\":\"white\",\"minorgridcolor\":\"white\",\"startlinecolor\":\"#2a3f5f\"},\"baxis\":{\"endlinecolor\":\"#2a3f5f\",\"gridcolor\":\"white\",\"linecolor\":\"white\",\"minorgridcolor\":\"white\",\"startlinecolor\":\"#2a3f5f\"},\"type\":\"carpet\"}],\"table\":[{\"cells\":{\"fill\":{\"color\":\"#EBF0F8\"},\"line\":{\"color\":\"white\"}},\"header\":{\"fill\":{\"color\":\"#C8D4E3\"},\"line\":{\"color\":\"white\"}},\"type\":\"table\"}],\"barpolar\":[{\"marker\":{\"line\":{\"color\":\"#E5ECF6\",\"width\":0.5},\"pattern\":{\"fillmode\":\"overlay\",\"size\":10,\"solidity\":0.2}},\"type\":\"barpolar\"}],\"pie\":[{\"automargin\":true,\"type\":\"pie\"}]},\"layout\":{\"autotypenumbers\":\"strict\",\"colorway\":[\"#636efa\",\"#EF553B\",\"#00cc96\",\"#ab63fa\",\"#FFA15A\",\"#19d3f3\",\"#FF6692\",\"#B6E880\",\"#FF97FF\",\"#FECB52\"],\"font\":{\"color\":\"#2a3f5f\"},\"hovermode\":\"closest\",\"hoverlabel\":{\"align\":\"left\"},\"paper_bgcolor\":\"white\",\"plot_bgcolor\":\"#E5ECF6\",\"polar\":{\"bgcolor\":\"#E5ECF6\",\"angularaxis\":{\"gridcolor\":\"white\",\"linecolor\":\"white\",\"ticks\":\"\"},\"radialaxis\":{\"gridcolor\":\"white\",\"linecolor\":\"white\",\"ticks\":\"\"}},\"ternary\":{\"bgcolor\":\"#E5ECF6\",\"aaxis\":{\"gridcolor\":\"white\",\"linecolor\":\"white\",\"ticks\":\"\"},\"baxis\":{\"gridcolor\":\"white\",\"linecolor\":\"white\",\"ticks\":\"\"},\"caxis\":{\"gridcolor\":\"white\",\"linecolor\":\"white\",\"ticks\":\"\"}},\"coloraxis\":{\"colorbar\":{\"outlinewidth\":0,\"ticks\":\"\"}},\"colorscale\":{\"sequential\":[[0.0,\"#0d0887\"],[0.1111111111111111,\"#46039f\"],[0.2222222222222222,\"#7201a8\"],[0.3333333333333333,\"#9c179e\"],[0.4444444444444444,\"#bd3786\"],[0.5555555555555556,\"#d8576b\"],[0.6666666666666666,\"#ed7953\"],[0.7777777777777778,\"#fb9f3a\"],[0.8888888888888888,\"#fdca26\"],[1.0,\"#f0f921\"]],\"sequentialminus\":[[0.0,\"#0d0887\"],[0.1111111111111111,\"#46039f\"],[0.2222222222222222,\"#7201a8\"],[0.3333333333333333,\"#9c179e\"],[0.4444444444444444,\"#bd3786\"],[0.5555555555555556,\"#d8576b\"],[0.6666666666666666,\"#ed7953\"],[0.7777777777777778,\"#fb9f3a\"],[0.8888888888888888,\"#fdca26\"],[1.0,\"#f0f921\"]],\"diverging\":[[0,\"#8e0152\"],[0.1,\"#c51b7d\"],[0.2,\"#de77ae\"],[0.3,\"#f1b6da\"],[0.4,\"#fde0ef\"],[0.5,\"#f7f7f7\"],[0.6,\"#e6f5d0\"],[0.7,\"#b8e186\"],[0.8,\"#7fbc41\"],[0.9,\"#4d9221\"],[1,\"#276419\"]]},\"xaxis\":{\"gridcolor\":\"white\",\"linecolor\":\"white\",\"ticks\":\"\",\"title\":{\"standoff\":15},\"zerolinecolor\":\"white\",\"automargin\":true,\"zerolinewidth\":2},\"yaxis\":{\"gridcolor\":\"white\",\"linecolor\":\"white\",\"ticks\":\"\",\"title\":{\"standoff\":15},\"zerolinecolor\":\"white\",\"automargin\":true,\"zerolinewidth\":2},\"scene\":{\"xaxis\":{\"backgroundcolor\":\"#E5ECF6\",\"gridcolor\":\"white\",\"linecolor\":\"white\",\"showbackground\":true,\"ticks\":\"\",\"zerolinecolor\":\"white\",\"gridwidth\":2},\"yaxis\":{\"backgroundcolor\":\"#E5ECF6\",\"gridcolor\":\"white\",\"linecolor\":\"white\",\"showbackground\":true,\"ticks\":\"\",\"zerolinecolor\":\"white\",\"gridwidth\":2},\"zaxis\":{\"backgroundcolor\":\"#E5ECF6\",\"gridcolor\":\"white\",\"linecolor\":\"white\",\"showbackground\":true,\"ticks\":\"\",\"zerolinecolor\":\"white\",\"gridwidth\":2}},\"shapedefaults\":{\"line\":{\"color\":\"#2a3f5f\"}},\"annotationdefaults\":{\"arrowcolor\":\"#2a3f5f\",\"arrowhead\":0,\"arrowwidth\":1},\"geo\":{\"bgcolor\":\"white\",\"landcolor\":\"#E5ECF6\",\"subunitcolor\":\"white\",\"showland\":true,\"showlakes\":true,\"lakecolor\":\"white\"},\"title\":{\"x\":0.05},\"mapbox\":{\"style\":\"light\"}}},\"xaxis\":{\"anchor\":\"y\",\"domain\":[0.0,1.0],\"title\":{\"text\":\"age\"}},\"yaxis\":{\"anchor\":\"x\",\"domain\":[0.0,1.0],\"title\":{\"text\":\"count\"}},\"legend\":{\"title\":{\"text\":\"cp\"},\"tracegroupgap\":0},\"margin\":{\"t\":60},\"barmode\":\"relative\"},                        {\"responsive\": true}                    ).then(function(){\n",
              "                            \n",
              "var gd = document.getElementById('b4b09ad5-fb08-4ea8-adf6-7f4eb3ed6b03');\n",
              "var x = new MutationObserver(function (mutations, observer) {{\n",
              "        var display = window.getComputedStyle(gd).display;\n",
              "        if (!display || display === 'none') {{\n",
              "            console.log([gd, 'removed!']);\n",
              "            Plotly.purge(gd);\n",
              "            observer.disconnect();\n",
              "        }}\n",
              "}});\n",
              "\n",
              "// Listen for the removal of the full notebook cells\n",
              "var notebookContainer = gd.closest('#notebook-container');\n",
              "if (notebookContainer) {{\n",
              "    x.observe(notebookContainer, {childList: true});\n",
              "}}\n",
              "\n",
              "// Listen for the clearing of the current output cell\n",
              "var outputEl = gd.closest('.output');\n",
              "if (outputEl) {{\n",
              "    x.observe(outputEl, {childList: true});\n",
              "}}\n",
              "\n",
              "                        })                };                            </script>        </div>\n",
              "</body>\n",
              "</html>"
            ]
          },
          "metadata": {}
        }
      ],
      "source": [
        "# draw the plot of age column grouped by cp column using plotly\n",
        "fig_3 = px.histogram(data_frame=df,x=\"age\",color=\"cp\")\n",
        "fig_3.show()"
      ]
    },
    {
      "cell_type": "markdown",
      "id": "4e6b9306",
      "metadata": {
        "id": "4e6b9306",
        "papermill": {
          "duration": 0.046253,
          "end_time": "2024-05-18T13:04:39.410449",
          "exception": false,
          "start_time": "2024-05-18T13:04:39.364196",
          "status": "completed"
        },
        "tags": []
      },
      "source": [
        "# Exploring trestbps Resting blood pressure (in mm Hg on admission to the hospital)"
      ]
    },
    {
      "cell_type": "code",
      "execution_count": null,
      "id": "804fd16b",
      "metadata": {
        "execution": {
          "iopub.execute_input": "2024-05-18T13:04:39.505617Z",
          "iopub.status.busy": "2024-05-18T13:04:39.505169Z",
          "iopub.status.idle": "2024-05-18T13:04:39.517940Z",
          "shell.execute_reply": "2024-05-18T13:04:39.516975Z"
        },
        "id": "804fd16b",
        "outputId": "d4eb3f8a-d392-4fb6-80f6-c9a8ddfc8500",
        "papermill": {
          "duration": 0.06389,
          "end_time": "2024-05-18T13:04:39.520684",
          "exception": false,
          "start_time": "2024-05-18T13:04:39.456794",
          "status": "completed"
        },
        "tags": [],
        "colab": {
          "base_uri": "https://localhost:8080/",
          "height": 335
        }
      },
      "outputs": [
        {
          "output_type": "execute_result",
          "data": {
            "text/plain": [
              "count    861.000000\n",
              "mean     132.132404\n",
              "std       19.066070\n",
              "min        0.000000\n",
              "25%      120.000000\n",
              "50%      130.000000\n",
              "75%      140.000000\n",
              "max      200.000000\n",
              "Name: trestbps, dtype: float64"
            ],
            "text/html": [
              "<div>\n",
              "<style scoped>\n",
              "    .dataframe tbody tr th:only-of-type {\n",
              "        vertical-align: middle;\n",
              "    }\n",
              "\n",
              "    .dataframe tbody tr th {\n",
              "        vertical-align: top;\n",
              "    }\n",
              "\n",
              "    .dataframe thead th {\n",
              "        text-align: right;\n",
              "    }\n",
              "</style>\n",
              "<table border=\"1\" class=\"dataframe\">\n",
              "  <thead>\n",
              "    <tr style=\"text-align: right;\">\n",
              "      <th></th>\n",
              "      <th>trestbps</th>\n",
              "    </tr>\n",
              "  </thead>\n",
              "  <tbody>\n",
              "    <tr>\n",
              "      <th>count</th>\n",
              "      <td>861.000000</td>\n",
              "    </tr>\n",
              "    <tr>\n",
              "      <th>mean</th>\n",
              "      <td>132.132404</td>\n",
              "    </tr>\n",
              "    <tr>\n",
              "      <th>std</th>\n",
              "      <td>19.066070</td>\n",
              "    </tr>\n",
              "    <tr>\n",
              "      <th>min</th>\n",
              "      <td>0.000000</td>\n",
              "    </tr>\n",
              "    <tr>\n",
              "      <th>25%</th>\n",
              "      <td>120.000000</td>\n",
              "    </tr>\n",
              "    <tr>\n",
              "      <th>50%</th>\n",
              "      <td>130.000000</td>\n",
              "    </tr>\n",
              "    <tr>\n",
              "      <th>75%</th>\n",
              "      <td>140.000000</td>\n",
              "    </tr>\n",
              "    <tr>\n",
              "      <th>max</th>\n",
              "      <td>200.000000</td>\n",
              "    </tr>\n",
              "  </tbody>\n",
              "</table>\n",
              "</div><br><label><b>dtype:</b> float64</label>"
            ]
          },
          "metadata": {},
          "execution_count": 19
        }
      ],
      "source": [
        "# let's check summary of trestbps\n",
        "df[\"trestbps\"].describe()"
      ]
    },
    {
      "cell_type": "code",
      "execution_count": null,
      "id": "636d2ffc",
      "metadata": {
        "execution": {
          "iopub.execute_input": "2024-05-18T13:04:39.615362Z",
          "iopub.status.busy": "2024-05-18T13:04:39.614570Z",
          "iopub.status.idle": "2024-05-18T13:04:40.120951Z",
          "shell.execute_reply": "2024-05-18T13:04:40.119787Z"
        },
        "id": "636d2ffc",
        "outputId": "7e4c7817-cb38-432a-932c-dba716be7ea8",
        "papermill": {
          "duration": 0.55778,
          "end_time": "2024-05-18T13:04:40.124139",
          "exception": false,
          "start_time": "2024-05-18T13:04:39.566359",
          "status": "completed"
        },
        "tags": [],
        "colab": {
          "base_uri": "https://localhost:8080/",
          "height": 755
        }
      },
      "outputs": [
        {
          "output_type": "display_data",
          "data": {
            "text/plain": [
              "<Figure size 1600x900 with 1 Axes>"
            ],
            "image/png": "[encoded data removed]"
          },
          "metadata": {}
        }
      ],
      "source": [
        "# Set the figure size to 16x9\n",
        "plt.figure(figsize=(16, 9))\n",
        "\n",
        "# Create a histplot of the trestbps column with a KDE overlay\n",
        "sns.histplot(data=df, x=\"trestbps\", kde=True, bins=50, color='c')\n",
        "\n",
        "# Display the plot\n",
        "plt.show()\n"
      ]
    },
    {
      "cell_type": "markdown",
      "id": "7c85a7ca",
      "metadata": {
        "id": "7c85a7ca",
        "papermill": {
          "duration": 0.047066,
          "end_time": "2024-05-18T13:04:40.315883",
          "exception": false,
          "start_time": "2024-05-18T13:04:40.268817",
          "status": "completed"
        },
        "tags": []
      },
      "source": [
        "# **<font color='blue'>Exploring `chol`\tSerum cholesterol in mg/dl </font>**"
      ]
    },
    {
      "cell_type": "code",
      "execution_count": null,
      "id": "555eadf2",
      "metadata": {
        "execution": {
          "iopub.execute_input": "2024-05-18T13:04:40.412468Z",
          "iopub.status.busy": "2024-05-18T13:04:40.412059Z",
          "iopub.status.idle": "2024-05-18T13:04:40.425048Z",
          "shell.execute_reply": "2024-05-18T13:04:40.423843Z"
        },
        "id": "555eadf2",
        "outputId": "74e416a2-172a-4fda-b3db-584902a06d14",
        "papermill": {
          "duration": 0.064151,
          "end_time": "2024-05-18T13:04:40.427317",
          "exception": false,
          "start_time": "2024-05-18T13:04:40.363166",
          "status": "completed"
        },
        "tags": [],
        "colab": {
          "base_uri": "https://localhost:8080/",
          "height": 489
        }
      },
      "outputs": [
        {
          "output_type": "execute_result",
          "data": {
            "text/plain": [
              "chol\n",
              "0.0      172\n",
              "220.0     10\n",
              "254.0     10\n",
              "204.0      9\n",
              "219.0      9\n",
              "        ... \n",
              "165.0      1\n",
              "337.0      1\n",
              "333.0      1\n",
              "139.0      1\n",
              "385.0      1\n",
              "Name: count, Length: 217, dtype: int64"
            ],
            "text/html": [
              "<div>\n",
              "<style scoped>\n",
              "    .dataframe tbody tr th:only-of-type {\n",
              "        vertical-align: middle;\n",
              "    }\n",
              "\n",
              "    .dataframe tbody tr th {\n",
              "        vertical-align: top;\n",
              "    }\n",
              "\n",
              "    .dataframe thead th {\n",
              "        text-align: right;\n",
              "    }\n",
              "</style>\n",
              "<table border=\"1\" class=\"dataframe\">\n",
              "  <thead>\n",
              "    <tr style=\"text-align: right;\">\n",
              "      <th></th>\n",
              "      <th>count</th>\n",
              "    </tr>\n",
              "    <tr>\n",
              "      <th>chol</th>\n",
              "      <th></th>\n",
              "    </tr>\n",
              "  </thead>\n",
              "  <tbody>\n",
              "    <tr>\n",
              "      <th>0.0</th>\n",
              "      <td>172</td>\n",
              "    </tr>\n",
              "    <tr>\n",
              "      <th>220.0</th>\n",
              "      <td>10</td>\n",
              "    </tr>\n",
              "    <tr>\n",
              "      <th>254.0</th>\n",
              "      <td>10</td>\n",
              "    </tr>\n",
              "    <tr>\n",
              "      <th>204.0</th>\n",
              "      <td>9</td>\n",
              "    </tr>\n",
              "    <tr>\n",
              "      <th>219.0</th>\n",
              "      <td>9</td>\n",
              "    </tr>\n",
              "    <tr>\n",
              "      <th>...</th>\n",
              "      <td>...</td>\n",
              "    </tr>\n",
              "    <tr>\n",
              "      <th>165.0</th>\n",
              "      <td>1</td>\n",
              "    </tr>\n",
              "    <tr>\n",
              "      <th>337.0</th>\n",
              "      <td>1</td>\n",
              "    </tr>\n",
              "    <tr>\n",
              "      <th>333.0</th>\n",
              "      <td>1</td>\n",
              "    </tr>\n",
              "    <tr>\n",
              "      <th>139.0</th>\n",
              "      <td>1</td>\n",
              "    </tr>\n",
              "    <tr>\n",
              "      <th>385.0</th>\n",
              "      <td>1</td>\n",
              "    </tr>\n",
              "  </tbody>\n",
              "</table>\n",
              "<p>217 rows × 1 columns</p>\n",
              "</div><br><label><b>dtype:</b> int64</label>"
            ]
          },
          "metadata": {},
          "execution_count": 21
        }
      ],
      "source": [
        "df[\"chol\"].value_counts()"
      ]
    },
    {
      "cell_type": "code",
      "execution_count": null,
      "id": "13797ff5",
      "metadata": {
        "execution": {
          "iopub.execute_input": "2024-05-18T13:04:40.526131Z",
          "iopub.status.busy": "2024-05-18T13:04:40.524985Z",
          "iopub.status.idle": "2024-05-18T13:04:40.536642Z",
          "shell.execute_reply": "2024-05-18T13:04:40.535705Z"
        },
        "id": "13797ff5",
        "outputId": "4beccae2-ab06-4a69-cbbc-437baff18c76",
        "papermill": {
          "duration": 0.064015,
          "end_time": "2024-05-18T13:04:40.538862",
          "exception": false,
          "start_time": "2024-05-18T13:04:40.474847",
          "status": "completed"
        },
        "tags": [],
        "colab": {
          "base_uri": "https://localhost:8080/",
          "height": 335
        }
      },
      "outputs": [
        {
          "output_type": "execute_result",
          "data": {
            "text/plain": [
              "count    890.000000\n",
              "mean     199.130337\n",
              "std      110.780810\n",
              "min        0.000000\n",
              "25%      175.000000\n",
              "50%      223.000000\n",
              "75%      268.000000\n",
              "max      603.000000\n",
              "Name: chol, dtype: float64"
            ],
            "text/html": [
              "<div>\n",
              "<style scoped>\n",
              "    .dataframe tbody tr th:only-of-type {\n",
              "        vertical-align: middle;\n",
              "    }\n",
              "\n",
              "    .dataframe tbody tr th {\n",
              "        vertical-align: top;\n",
              "    }\n",
              "\n",
              "    .dataframe thead th {\n",
              "        text-align: right;\n",
              "    }\n",
              "</style>\n",
              "<table border=\"1\" class=\"dataframe\">\n",
              "  <thead>\n",
              "    <tr style=\"text-align: right;\">\n",
              "      <th></th>\n",
              "      <th>chol</th>\n",
              "    </tr>\n",
              "  </thead>\n",
              "  <tbody>\n",
              "    <tr>\n",
              "      <th>count</th>\n",
              "      <td>890.000000</td>\n",
              "    </tr>\n",
              "    <tr>\n",
              "      <th>mean</th>\n",
              "      <td>199.130337</td>\n",
              "    </tr>\n",
              "    <tr>\n",
              "      <th>std</th>\n",
              "      <td>110.780810</td>\n",
              "    </tr>\n",
              "    <tr>\n",
              "      <th>min</th>\n",
              "      <td>0.000000</td>\n",
              "    </tr>\n",
              "    <tr>\n",
              "      <th>25%</th>\n",
              "      <td>175.000000</td>\n",
              "    </tr>\n",
              "    <tr>\n",
              "      <th>50%</th>\n",
              "      <td>223.000000</td>\n",
              "    </tr>\n",
              "    <tr>\n",
              "      <th>75%</th>\n",
              "      <td>268.000000</td>\n",
              "    </tr>\n",
              "    <tr>\n",
              "      <th>max</th>\n",
              "      <td>603.000000</td>\n",
              "    </tr>\n",
              "  </tbody>\n",
              "</table>\n",
              "</div><br><label><b>dtype:</b> float64</label>"
            ]
          },
          "metadata": {},
          "execution_count": 22
        }
      ],
      "source": [
        "# let's check summary of chol\n",
        "df[\"chol\"].describe()"
      ]
    },
    {
      "cell_type": "code",
      "execution_count": null,
      "id": "742272bc",
      "metadata": {
        "execution": {
          "iopub.execute_input": "2024-05-18T13:04:40.636333Z",
          "iopub.status.busy": "2024-05-18T13:04:40.635882Z",
          "iopub.status.idle": "2024-05-18T13:04:41.111878Z",
          "shell.execute_reply": "2024-05-18T13:04:41.111001Z"
        },
        "id": "742272bc",
        "outputId": "b8472409-1be4-4b43-b02b-be37603b0bec",
        "papermill": {
          "duration": 0.527356,
          "end_time": "2024-05-18T13:04:41.114205",
          "exception": false,
          "start_time": "2024-05-18T13:04:40.586849",
          "status": "completed"
        },
        "tags": [],
        "colab": {
          "base_uri": "https://localhost:8080/",
          "height": 755
        }
      },
      "outputs": [
        {
          "output_type": "display_data",
          "data": {
            "text/plain": [
              "<Figure size 1600x900 with 1 Axes>"
            ],
            "image/png": "[encoded data removed]"
          },
          "metadata": {}
        }
      ],
      "source": [
        "# Set the figure size to 16x9\n",
        "plt.figure(figsize=(16, 9))\n",
        "\n",
        "# Create a histplot of the chol column with a KDE overlay\n",
        "sns.histplot(data=df, x=\"chol\", kde=True, bins=50, color='m')\n",
        "\n",
        "# Display the plot\n",
        "plt.show()"
      ]
    },
    {
      "cell_type": "code",
      "execution_count": null,
      "id": "c023b9af",
      "metadata": {
        "execution": {
          "iopub.execute_input": "2024-05-18T13:04:41.409885Z",
          "iopub.status.busy": "2024-05-18T13:04:41.409160Z",
          "iopub.status.idle": "2024-05-18T13:04:41.416864Z",
          "shell.execute_reply": "2024-05-18T13:04:41.416076Z"
        },
        "id": "c023b9af",
        "outputId": "880b0cbb-b973-4bf1-edaa-c7d3f1d17045",
        "papermill": {
          "duration": 0.059888,
          "end_time": "2024-05-18T13:04:41.419034",
          "exception": false,
          "start_time": "2024-05-18T13:04:41.359146",
          "status": "completed"
        },
        "tags": [],
        "colab": {
          "base_uri": "https://localhost:8080/",
          "height": 178
        }
      },
      "outputs": [
        {
          "output_type": "execute_result",
          "data": {
            "text/plain": [
              "fbs\n",
              "False    692\n",
              "True     138\n",
              "Name: count, dtype: int64"
            ],
            "text/html": [
              "<div>\n",
              "<style scoped>\n",
              "    .dataframe tbody tr th:only-of-type {\n",
              "        vertical-align: middle;\n",
              "    }\n",
              "\n",
              "    .dataframe tbody tr th {\n",
              "        vertical-align: top;\n",
              "    }\n",
              "\n",
              "    .dataframe thead th {\n",
              "        text-align: right;\n",
              "    }\n",
              "</style>\n",
              "<table border=\"1\" class=\"dataframe\">\n",
              "  <thead>\n",
              "    <tr style=\"text-align: right;\">\n",
              "      <th></th>\n",
              "      <th>count</th>\n",
              "    </tr>\n",
              "    <tr>\n",
              "      <th>fbs</th>\n",
              "      <th></th>\n",
              "    </tr>\n",
              "  </thead>\n",
              "  <tbody>\n",
              "    <tr>\n",
              "      <th>False</th>\n",
              "      <td>692</td>\n",
              "    </tr>\n",
              "    <tr>\n",
              "      <th>True</th>\n",
              "      <td>138</td>\n",
              "    </tr>\n",
              "  </tbody>\n",
              "</table>\n",
              "</div><br><label><b>dtype:</b> int64</label>"
            ]
          },
          "metadata": {},
          "execution_count": 24
        }
      ],
      "source": [
        "df[\"fbs\"].value_counts()"
      ]
    },
    {
      "cell_type": "markdown",
      "id": "e7c40fb5",
      "metadata": {
        "id": "e7c40fb5",
        "papermill": {
          "duration": 0.048092,
          "end_time": "2024-05-18T13:04:41.515977",
          "exception": false,
          "start_time": "2024-05-18T13:04:41.467885",
          "status": "completed"
        },
        "tags": []
      },
      "source": [
        "### **Let's Visualize fbs**"
      ]
    },
    {
      "cell_type": "code",
      "execution_count": null,
      "id": "0bab9fe3",
      "metadata": {
        "execution": {
          "iopub.execute_input": "2024-05-18T13:04:41.615642Z",
          "iopub.status.busy": "2024-05-18T13:04:41.614918Z",
          "iopub.status.idle": "2024-05-18T13:04:41.913115Z",
          "shell.execute_reply": "2024-05-18T13:04:41.911647Z"
        },
        "id": "0bab9fe3",
        "outputId": "13bb8ff6-195b-4195-e3bd-f3803efea751",
        "papermill": {
          "duration": 0.3513,
          "end_time": "2024-05-18T13:04:41.916019",
          "exception": false,
          "start_time": "2024-05-18T13:04:41.564719",
          "status": "completed"
        },
        "tags": [],
        "colab": {
          "base_uri": "https://localhost:8080/",
          "height": 776
        }
      },
      "outputs": [
        {
          "output_type": "display_data",
          "data": {
            "text/plain": [
              "<Figure size 1600x900 with 1 Axes>"
            ],
            "image/png": "[encoded data removed]"
          },
          "metadata": {}
        }
      ],
      "source": [
        "categories = ['False', 'True']\n",
        "counts = [692, 138]\n",
        "\n",
        "# Create a bar chart\n",
        "plt.figure(figsize=(16, 9))  # Set the plot size\n",
        "plt.bar(categories, counts, color=['red', 'green'])  # Different colors for True and False\n",
        "plt.xlabel('Categories')\n",
        "plt.ylabel('Count')\n",
        "plt.title('Bar Chart: False vs. True')\n",
        "plt.show()\n"
      ]
    },
    {
      "cell_type": "code",
      "execution_count": null,
      "id": "976f29e3",
      "metadata": {
        "execution": {
          "iopub.execute_input": "2024-05-18T13:04:42.216558Z",
          "iopub.status.busy": "2024-05-18T13:04:42.216164Z",
          "iopub.status.idle": "2024-05-18T13:04:42.225115Z",
          "shell.execute_reply": "2024-05-18T13:04:42.223934Z"
        },
        "id": "976f29e3",
        "outputId": "6ade42f5-8f16-4ba6-b237-c939fa8b3b30",
        "papermill": {
          "duration": 0.064851,
          "end_time": "2024-05-18T13:04:42.227629",
          "exception": false,
          "start_time": "2024-05-18T13:04:42.162778",
          "status": "completed"
        },
        "tags": [],
        "colab": {
          "base_uri": "https://localhost:8080/",
          "height": 209
        }
      },
      "outputs": [
        {
          "output_type": "execute_result",
          "data": {
            "text/plain": [
              "restecg\n",
              "normal              551\n",
              "lv hypertrophy      188\n",
              "st-t abnormality    179\n",
              "Name: count, dtype: int64"
            ],
            "text/html": [
              "<div>\n",
              "<style scoped>\n",
              "    .dataframe tbody tr th:only-of-type {\n",
              "        vertical-align: middle;\n",
              "    }\n",
              "\n",
              "    .dataframe tbody tr th {\n",
              "        vertical-align: top;\n",
              "    }\n",
              "\n",
              "    .dataframe thead th {\n",
              "        text-align: right;\n",
              "    }\n",
              "</style>\n",
              "<table border=\"1\" class=\"dataframe\">\n",
              "  <thead>\n",
              "    <tr style=\"text-align: right;\">\n",
              "      <th></th>\n",
              "      <th>count</th>\n",
              "    </tr>\n",
              "    <tr>\n",
              "      <th>restecg</th>\n",
              "      <th></th>\n",
              "    </tr>\n",
              "  </thead>\n",
              "  <tbody>\n",
              "    <tr>\n",
              "      <th>normal</th>\n",
              "      <td>551</td>\n",
              "    </tr>\n",
              "    <tr>\n",
              "      <th>lv hypertrophy</th>\n",
              "      <td>188</td>\n",
              "    </tr>\n",
              "    <tr>\n",
              "      <th>st-t abnormality</th>\n",
              "      <td>179</td>\n",
              "    </tr>\n",
              "  </tbody>\n",
              "</table>\n",
              "</div><br><label><b>dtype:</b> int64</label>"
            ]
          },
          "metadata": {},
          "execution_count": 26
        }
      ],
      "source": [
        "df[\"restecg\"].value_counts()"
      ]
    },
    {
      "cell_type": "markdown",
      "id": "70789b9e",
      "metadata": {
        "id": "70789b9e",
        "papermill": {
          "duration": 0.048873,
          "end_time": "2024-05-18T13:04:42.331421",
          "exception": false,
          "start_time": "2024-05-18T13:04:42.282548",
          "status": "completed"
        },
        "tags": []
      },
      "source": [
        "### **Let's Visualize restecg**"
      ]
    },
    {
      "cell_type": "code",
      "execution_count": null,
      "id": "83c53b0b",
      "metadata": {
        "execution": {
          "iopub.execute_input": "2024-05-18T13:04:42.456247Z",
          "iopub.status.busy": "2024-05-18T13:04:42.454835Z",
          "iopub.status.idle": "2024-05-18T13:04:42.752709Z",
          "shell.execute_reply": "2024-05-18T13:04:42.751533Z"
        },
        "id": "83c53b0b",
        "outputId": "fc735254-9dc1-4da1-f3bf-55230d42b9bd",
        "papermill": {
          "duration": 0.370094,
          "end_time": "2024-05-18T13:04:42.755253",
          "exception": false,
          "start_time": "2024-05-18T13:04:42.385159",
          "status": "completed"
        },
        "tags": [],
        "colab": {
          "base_uri": "https://localhost:8080/",
          "height": 776
        }
      },
      "outputs": [
        {
          "output_type": "display_data",
          "data": {
            "text/plain": [
              "<Figure size 1600x900 with 1 Axes>"
            ],
            "image/png": "[encoded data removed]"
          },
          "metadata": {}
        }
      ],
      "source": [
        "import matplotlib.pyplot as plt\n",
        "\n",
        "values = [\"Normal\", \"LV Hypertrophy\", \"ST-T Abnormality\"]\n",
        "counts = [551, 188, 179]\n",
        "\n",
        "# Custom colors for bars\n",
        "colors = [\"skyblue\", \"salmon\", \"limegreen\"]\n",
        "\n",
        "# Create the bar chart\n",
        "plt.figure(figsize=(16, 9))\n",
        "plt.bar(values, counts, color=colors)\n",
        "plt.xlabel(\"Restecg Values\")\n",
        "plt.ylabel(\"Counts\")\n",
        "plt.title(\"Restecg Distribution\")\n",
        "plt.show()\n",
        "\n"
      ]
    },
    {
      "cell_type": "markdown",
      "id": "95af6048",
      "metadata": {
        "id": "95af6048",
        "papermill": {
          "duration": 0.049239,
          "end_time": "2024-05-18T13:04:42.952480",
          "exception": false,
          "start_time": "2024-05-18T13:04:42.903241",
          "status": "completed"
        },
        "tags": []
      },
      "source": [
        "# Exploring thalch Maximum heart rate achieved"
      ]
    },
    {
      "cell_type": "code",
      "execution_count": null,
      "id": "cf942691",
      "metadata": {
        "execution": {
          "iopub.execute_input": "2024-05-18T13:04:43.056178Z",
          "iopub.status.busy": "2024-05-18T13:04:43.054701Z",
          "iopub.status.idle": "2024-05-18T13:04:43.065988Z",
          "shell.execute_reply": "2024-05-18T13:04:43.064821Z"
        },
        "id": "cf942691",
        "outputId": "30884e19-9042-4a80-c365-1b52e92390e1",
        "papermill": {
          "duration": 0.065305,
          "end_time": "2024-05-18T13:04:43.068307",
          "exception": false,
          "start_time": "2024-05-18T13:04:43.003002",
          "status": "completed"
        },
        "tags": [],
        "colab": {
          "base_uri": "https://localhost:8080/",
          "height": 489
        }
      },
      "outputs": [
        {
          "output_type": "execute_result",
          "data": {
            "text/plain": [
              "thalch\n",
              "150.0    43\n",
              "140.0    41\n",
              "120.0    35\n",
              "130.0    30\n",
              "160.0    26\n",
              "         ..\n",
              "63.0      1\n",
              "67.0      1\n",
              "107.0     1\n",
              "69.0      1\n",
              "73.0      1\n",
              "Name: count, Length: 119, dtype: int64"
            ],
            "text/html": [
              "<div>\n",
              "<style scoped>\n",
              "    .dataframe tbody tr th:only-of-type {\n",
              "        vertical-align: middle;\n",
              "    }\n",
              "\n",
              "    .dataframe tbody tr th {\n",
              "        vertical-align: top;\n",
              "    }\n",
              "\n",
              "    .dataframe thead th {\n",
              "        text-align: right;\n",
              "    }\n",
              "</style>\n",
              "<table border=\"1\" class=\"dataframe\">\n",
              "  <thead>\n",
              "    <tr style=\"text-align: right;\">\n",
              "      <th></th>\n",
              "      <th>count</th>\n",
              "    </tr>\n",
              "    <tr>\n",
              "      <th>thalch</th>\n",
              "      <th></th>\n",
              "    </tr>\n",
              "  </thead>\n",
              "  <tbody>\n",
              "    <tr>\n",
              "      <th>150.0</th>\n",
              "      <td>43</td>\n",
              "    </tr>\n",
              "    <tr>\n",
              "      <th>140.0</th>\n",
              "      <td>41</td>\n",
              "    </tr>\n",
              "    <tr>\n",
              "      <th>120.0</th>\n",
              "      <td>35</td>\n",
              "    </tr>\n",
              "    <tr>\n",
              "      <th>130.0</th>\n",
              "      <td>30</td>\n",
              "    </tr>\n",
              "    <tr>\n",
              "      <th>160.0</th>\n",
              "      <td>26</td>\n",
              "    </tr>\n",
              "    <tr>\n",
              "      <th>...</th>\n",
              "      <td>...</td>\n",
              "    </tr>\n",
              "    <tr>\n",
              "      <th>63.0</th>\n",
              "      <td>1</td>\n",
              "    </tr>\n",
              "    <tr>\n",
              "      <th>67.0</th>\n",
              "      <td>1</td>\n",
              "    </tr>\n",
              "    <tr>\n",
              "      <th>107.0</th>\n",
              "      <td>1</td>\n",
              "    </tr>\n",
              "    <tr>\n",
              "      <th>69.0</th>\n",
              "      <td>1</td>\n",
              "    </tr>\n",
              "    <tr>\n",
              "      <th>73.0</th>\n",
              "      <td>1</td>\n",
              "    </tr>\n",
              "  </tbody>\n",
              "</table>\n",
              "<p>119 rows × 1 columns</p>\n",
              "</div><br><label><b>dtype:</b> int64</label>"
            ]
          },
          "metadata": {},
          "execution_count": 28
        }
      ],
      "source": [
        "df[\"thalch\"].value_counts()"
      ]
    },
    {
      "cell_type": "code",
      "execution_count": null,
      "id": "1ee52911",
      "metadata": {
        "execution": {
          "iopub.execute_input": "2024-05-18T13:04:43.171990Z",
          "iopub.status.busy": "2024-05-18T13:04:43.170696Z",
          "iopub.status.idle": "2024-05-18T13:04:43.183359Z",
          "shell.execute_reply": "2024-05-18T13:04:43.182192Z"
        },
        "id": "1ee52911",
        "outputId": "f24a5536-8e34-4af8-8e6f-8b840cdf63ac",
        "papermill": {
          "duration": 0.067719,
          "end_time": "2024-05-18T13:04:43.185672",
          "exception": false,
          "start_time": "2024-05-18T13:04:43.117953",
          "status": "completed"
        },
        "tags": [],
        "colab": {
          "base_uri": "https://localhost:8080/",
          "height": 335
        }
      },
      "outputs": [
        {
          "output_type": "execute_result",
          "data": {
            "text/plain": [
              "count    865.000000\n",
              "mean     137.545665\n",
              "std       25.926276\n",
              "min       60.000000\n",
              "25%      120.000000\n",
              "50%      140.000000\n",
              "75%      157.000000\n",
              "max      202.000000\n",
              "Name: thalch, dtype: float64"
            ],
            "text/html": [
              "<div>\n",
              "<style scoped>\n",
              "    .dataframe tbody tr th:only-of-type {\n",
              "        vertical-align: middle;\n",
              "    }\n",
              "\n",
              "    .dataframe tbody tr th {\n",
              "        vertical-align: top;\n",
              "    }\n",
              "\n",
              "    .dataframe thead th {\n",
              "        text-align: right;\n",
              "    }\n",
              "</style>\n",
              "<table border=\"1\" class=\"dataframe\">\n",
              "  <thead>\n",
              "    <tr style=\"text-align: right;\">\n",
              "      <th></th>\n",
              "      <th>thalch</th>\n",
              "    </tr>\n",
              "  </thead>\n",
              "  <tbody>\n",
              "    <tr>\n",
              "      <th>count</th>\n",
              "      <td>865.000000</td>\n",
              "    </tr>\n",
              "    <tr>\n",
              "      <th>mean</th>\n",
              "      <td>137.545665</td>\n",
              "    </tr>\n",
              "    <tr>\n",
              "      <th>std</th>\n",
              "      <td>25.926276</td>\n",
              "    </tr>\n",
              "    <tr>\n",
              "      <th>min</th>\n",
              "      <td>60.000000</td>\n",
              "    </tr>\n",
              "    <tr>\n",
              "      <th>25%</th>\n",
              "      <td>120.000000</td>\n",
              "    </tr>\n",
              "    <tr>\n",
              "      <th>50%</th>\n",
              "      <td>140.000000</td>\n",
              "    </tr>\n",
              "    <tr>\n",
              "      <th>75%</th>\n",
              "      <td>157.000000</td>\n",
              "    </tr>\n",
              "    <tr>\n",
              "      <th>max</th>\n",
              "      <td>202.000000</td>\n",
              "    </tr>\n",
              "  </tbody>\n",
              "</table>\n",
              "</div><br><label><b>dtype:</b> float64</label>"
            ]
          },
          "metadata": {},
          "execution_count": 29
        }
      ],
      "source": [
        "# let's check summary of thalch\n",
        "df[\"thalch\"].describe()"
      ]
    },
    {
      "cell_type": "markdown",
      "id": "cc483043",
      "metadata": {
        "id": "cc483043",
        "papermill": {
          "duration": 0.053552,
          "end_time": "2024-05-18T13:04:43.289403",
          "exception": false,
          "start_time": "2024-05-18T13:04:43.235851",
          "status": "completed"
        },
        "tags": []
      },
      "source": [
        "### **Let's Visualize thalch**"
      ]
    },
    {
      "cell_type": "code",
      "execution_count": null,
      "id": "69f8c8b8",
      "metadata": {
        "execution": {
          "iopub.execute_input": "2024-05-18T13:04:43.394032Z",
          "iopub.status.busy": "2024-05-18T13:04:43.392666Z",
          "iopub.status.idle": "2024-05-18T13:04:43.892755Z",
          "shell.execute_reply": "2024-05-18T13:04:43.891806Z"
        },
        "id": "69f8c8b8",
        "outputId": "8ac256a5-46a2-4ad6-9088-037b07e14149",
        "papermill": {
          "duration": 0.554697,
          "end_time": "2024-05-18T13:04:43.895047",
          "exception": false,
          "start_time": "2024-05-18T13:04:43.340350",
          "status": "completed"
        },
        "tags": [],
        "colab": {
          "base_uri": "https://localhost:8080/",
          "height": 760
        }
      },
      "outputs": [
        {
          "output_type": "display_data",
          "data": {
            "text/plain": [
              "<Figure size 1600x900 with 1 Axes>"
            ],
            "image/png": "[encoded data removed]"
          },
          "metadata": {}
        }
      ],
      "source": [
        "# Set the figure size to 16x9\n",
        "plt.figure(figsize=(16, 9))\n",
        "\n",
        "# Create a histplot of the thalch column with a KDE overlay\n",
        "sns.histplot(data=df, x=\"thalch\", kde=True, bins=50, color='r')\n",
        "\n",
        "# Display the plot\n",
        "plt.show()"
      ]
    },
    {
      "cell_type": "markdown",
      "id": "0ca3f185",
      "metadata": {
        "id": "0ca3f185",
        "papermill": {
          "duration": 0.050997,
          "end_time": "2024-05-18T13:04:44.099209",
          "exception": false,
          "start_time": "2024-05-18T13:04:44.048212",
          "status": "completed"
        },
        "tags": []
      },
      "source": [
        "# Exploring exang Exercise-induced angina (True/ False)"
      ]
    },
    {
      "cell_type": "code",
      "execution_count": null,
      "id": "122d9f85",
      "metadata": {
        "execution": {
          "iopub.execute_input": "2024-05-18T13:04:44.204662Z",
          "iopub.status.busy": "2024-05-18T13:04:44.204212Z",
          "iopub.status.idle": "2024-05-18T13:04:44.213917Z",
          "shell.execute_reply": "2024-05-18T13:04:44.213003Z"
        },
        "id": "122d9f85",
        "outputId": "271cb0cf-620f-4547-8680-abd501ea5b19",
        "papermill": {
          "duration": 0.066032,
          "end_time": "2024-05-18T13:04:44.216045",
          "exception": false,
          "start_time": "2024-05-18T13:04:44.150013",
          "status": "completed"
        },
        "tags": [],
        "colab": {
          "base_uri": "https://localhost:8080/",
          "height": 178
        }
      },
      "outputs": [
        {
          "output_type": "execute_result",
          "data": {
            "text/plain": [
              "exang\n",
              "False    528\n",
              "True     337\n",
              "Name: count, dtype: int64"
            ],
            "text/html": [
              "<div>\n",
              "<style scoped>\n",
              "    .dataframe tbody tr th:only-of-type {\n",
              "        vertical-align: middle;\n",
              "    }\n",
              "\n",
              "    .dataframe tbody tr th {\n",
              "        vertical-align: top;\n",
              "    }\n",
              "\n",
              "    .dataframe thead th {\n",
              "        text-align: right;\n",
              "    }\n",
              "</style>\n",
              "<table border=\"1\" class=\"dataframe\">\n",
              "  <thead>\n",
              "    <tr style=\"text-align: right;\">\n",
              "      <th></th>\n",
              "      <th>count</th>\n",
              "    </tr>\n",
              "    <tr>\n",
              "      <th>exang</th>\n",
              "      <th></th>\n",
              "    </tr>\n",
              "  </thead>\n",
              "  <tbody>\n",
              "    <tr>\n",
              "      <th>False</th>\n",
              "      <td>528</td>\n",
              "    </tr>\n",
              "    <tr>\n",
              "      <th>True</th>\n",
              "      <td>337</td>\n",
              "    </tr>\n",
              "  </tbody>\n",
              "</table>\n",
              "</div><br><label><b>dtype:</b> int64</label>"
            ]
          },
          "metadata": {},
          "execution_count": 31
        }
      ],
      "source": [
        "df[\"exang\"].value_counts()"
      ]
    },
    {
      "cell_type": "markdown",
      "id": "b3fa2ae8",
      "metadata": {
        "id": "b3fa2ae8",
        "papermill": {
          "duration": 0.054482,
          "end_time": "2024-05-18T13:04:44.321598",
          "exception": false,
          "start_time": "2024-05-18T13:04:44.267116",
          "status": "completed"
        },
        "tags": []
      },
      "source": [
        "#### **Let's visualize exang**"
      ]
    },
    {
      "cell_type": "code",
      "execution_count": null,
      "id": "2e257e36",
      "metadata": {
        "execution": {
          "iopub.execute_input": "2024-05-18T13:04:44.426620Z",
          "iopub.status.busy": "2024-05-18T13:04:44.426165Z",
          "iopub.status.idle": "2024-05-18T13:04:44.889027Z",
          "shell.execute_reply": "2024-05-18T13:04:44.887806Z"
        },
        "id": "2e257e36",
        "outputId": "fc2c7d6d-0f7f-402b-aee3-e004234e1119",
        "papermill": {
          "duration": 0.518461,
          "end_time": "2024-05-18T13:04:44.891371",
          "exception": false,
          "start_time": "2024-05-18T13:04:44.372910",
          "status": "completed"
        },
        "tags": [],
        "colab": {
          "base_uri": "https://localhost:8080/",
          "height": 752
        }
      },
      "outputs": [
        {
          "output_type": "display_data",
          "data": {
            "text/plain": [
              "<Figure size 1600x900 with 1 Axes>"
            ],
            "image/png": "[encoded data removed]"
          },
          "metadata": {}
        }
      ],
      "source": [
        "import matplotlib.pyplot as plt\n",
        "\n",
        "# Data\n",
        "labels = ['False', 'True']\n",
        "sizes = [528, 337]\n",
        "colors = ['#66b3ff', '#ff9999']  # Awesome colors\n",
        "explode = (0, 0.1)  # Slightly explode the 'True' slice for emphasis\n",
        "\n",
        "# Create a pie chart\n",
        "plt.figure(figsize=(16, 9))\n",
        "plt.pie(sizes, explode=explode, labels=labels, colors=colors, autopct='%1.1f%%', shadow=True, startangle=140)\n",
        "\n",
        "# Equal aspect ratio ensures that pie is drawn as a circle.\n",
        "plt.axis('equal')\n",
        "\n",
        "# Title\n",
        "plt.title('Exercise-induced Angina (exang)')\n",
        "\n",
        "# Show the plot\n",
        "plt.show()\n"
      ]
    },
    {
      "cell_type": "markdown",
      "id": "a73120cc",
      "metadata": {
        "id": "a73120cc",
        "papermill": {
          "duration": 0.052492,
          "end_time": "2024-05-18T13:04:45.095473",
          "exception": false,
          "start_time": "2024-05-18T13:04:45.042981",
          "status": "completed"
        },
        "tags": []
      },
      "source": [
        "# Exploring oldpeak ST depression induced by exercise relative to rest"
      ]
    },
    {
      "cell_type": "code",
      "execution_count": null,
      "id": "01223fa6",
      "metadata": {
        "execution": {
          "iopub.execute_input": "2024-05-18T13:04:45.205071Z",
          "iopub.status.busy": "2024-05-18T13:04:45.204267Z",
          "iopub.status.idle": "2024-05-18T13:04:45.216868Z",
          "shell.execute_reply": "2024-05-18T13:04:45.215643Z"
        },
        "id": "01223fa6",
        "outputId": "683464e7-0980-4621-f466-80cc24b1a353",
        "papermill": {
          "duration": 0.071107,
          "end_time": "2024-05-18T13:04:45.219585",
          "exception": false,
          "start_time": "2024-05-18T13:04:45.148478",
          "status": "completed"
        },
        "tags": [],
        "colab": {
          "base_uri": "https://localhost:8080/",
          "height": 1000
        }
      },
      "outputs": [
        {
          "output_type": "execute_result",
          "data": {
            "text/plain": [
              "oldpeak\n",
              " 0.0    370\n",
              " 1.0     83\n",
              " 2.0     76\n",
              " 1.5     48\n",
              " 3.0     28\n",
              " 0.5     19\n",
              " 1.2     17\n",
              " 2.5     16\n",
              " 0.8     15\n",
              " 1.4     15\n",
              " 0.6     14\n",
              " 0.2     14\n",
              " 1.6     14\n",
              " 1.8     12\n",
              " 0.4     10\n",
              " 0.1      9\n",
              " 4.0      8\n",
              " 2.6      7\n",
              " 2.8      7\n",
              " 2.2      5\n",
              " 1.3      5\n",
              " 0.3      5\n",
              " 0.7      5\n",
              " 1.9      5\n",
              " 1.1      4\n",
              " 3.6      4\n",
              " 2.4      4\n",
              " 0.9      4\n",
              " 3.4      3\n",
              "-0.5      2\n",
              " 3.2      2\n",
              " 2.3      2\n",
              " 3.5      2\n",
              " 1.7      2\n",
              "-1.0      2\n",
              " 4.2      2\n",
              " 2.1      2\n",
              " 3.1      1\n",
              " 2.9      1\n",
              " 6.2      1\n",
              " 5.6      1\n",
              " 3.8      1\n",
              "-1.1      1\n",
              " 4.4      1\n",
              " 5.0      1\n",
              "-2.6      1\n",
              "-0.1      1\n",
              "-1.5      1\n",
              "-2.0      1\n",
              "-0.7      1\n",
              "-0.8      1\n",
              "-0.9      1\n",
              " 3.7      1\n",
              "Name: count, dtype: int64"
            ],
            "text/html": [
              "<div>\n",
              "<style scoped>\n",
              "    .dataframe tbody tr th:only-of-type {\n",
              "        vertical-align: middle;\n",
              "    }\n",
              "\n",
              "    .dataframe tbody tr th {\n",
              "        vertical-align: top;\n",
              "    }\n",
              "\n",
              "    .dataframe thead th {\n",
              "        text-align: right;\n",
              "    }\n",
              "</style>\n",
              "<table border=\"1\" class=\"dataframe\">\n",
              "  <thead>\n",
              "    <tr style=\"text-align: right;\">\n",
              "      <th></th>\n",
              "      <th>count</th>\n",
              "    </tr>\n",
              "    <tr>\n",
              "      <th>oldpeak</th>\n",
              "      <th></th>\n",
              "    </tr>\n",
              "  </thead>\n",
              "  <tbody>\n",
              "    <tr>\n",
              "      <th>0.0</th>\n",
              "      <td>370</td>\n",
              "    </tr>\n",
              "    <tr>\n",
              "      <th>1.0</th>\n",
              "      <td>83</td>\n",
              "    </tr>\n",
              "    <tr>\n",
              "      <th>2.0</th>\n",
              "      <td>76</td>\n",
              "    </tr>\n",
              "    <tr>\n",
              "      <th>1.5</th>\n",
              "      <td>48</td>\n",
              "    </tr>\n",
              "    <tr>\n",
              "      <th>3.0</th>\n",
              "      <td>28</td>\n",
              "    </tr>\n",
              "    <tr>\n",
              "      <th>0.5</th>\n",
              "      <td>19</td>\n",
              "    </tr>\n",
              "    <tr>\n",
              "      <th>1.2</th>\n",
              "      <td>17</td>\n",
              "    </tr>\n",
              "    <tr>\n",
              "      <th>2.5</th>\n",
              "      <td>16</td>\n",
              "    </tr>\n",
              "    <tr>\n",
              "      <th>0.8</th>\n",
              "      <td>15</td>\n",
              "    </tr>\n",
              "    <tr>\n",
              "      <th>1.4</th>\n",
              "      <td>15</td>\n",
              "    </tr>\n",
              "    <tr>\n",
              "      <th>0.6</th>\n",
              "      <td>14</td>\n",
              "    </tr>\n",
              "    <tr>\n",
              "      <th>0.2</th>\n",
              "      <td>14</td>\n",
              "    </tr>\n",
              "    <tr>\n",
              "      <th>1.6</th>\n",
              "      <td>14</td>\n",
              "    </tr>\n",
              "    <tr>\n",
              "      <th>1.8</th>\n",
              "      <td>12</td>\n",
              "    </tr>\n",
              "    <tr>\n",
              "      <th>0.4</th>\n",
              "      <td>10</td>\n",
              "    </tr>\n",
              "    <tr>\n",
              "      <th>0.1</th>\n",
              "      <td>9</td>\n",
              "    </tr>\n",
              "    <tr>\n",
              "      <th>4.0</th>\n",
              "      <td>8</td>\n",
              "    </tr>\n",
              "    <tr>\n",
              "      <th>2.6</th>\n",
              "      <td>7</td>\n",
              "    </tr>\n",
              "    <tr>\n",
              "      <th>2.8</th>\n",
              "      <td>7</td>\n",
              "    </tr>\n",
              "    <tr>\n",
              "      <th>2.2</th>\n",
              "      <td>5</td>\n",
              "    </tr>\n",
              "    <tr>\n",
              "      <th>1.3</th>\n",
              "      <td>5</td>\n",
              "    </tr>\n",
              "    <tr>\n",
              "      <th>0.3</th>\n",
              "      <td>5</td>\n",
              "    </tr>\n",
              "    <tr>\n",
              "      <th>0.7</th>\n",
              "      <td>5</td>\n",
              "    </tr>\n",
              "    <tr>\n",
              "      <th>1.9</th>\n",
              "      <td>5</td>\n",
              "    </tr>\n",
              "    <tr>\n",
              "      <th>1.1</th>\n",
              "      <td>4</td>\n",
              "    </tr>\n",
              "    <tr>\n",
              "      <th>3.6</th>\n",
              "      <td>4</td>\n",
              "    </tr>\n",
              "    <tr>\n",
              "      <th>2.4</th>\n",
              "      <td>4</td>\n",
              "    </tr>\n",
              "    <tr>\n",
              "      <th>0.9</th>\n",
              "      <td>4</td>\n",
              "    </tr>\n",
              "    <tr>\n",
              "      <th>3.4</th>\n",
              "      <td>3</td>\n",
              "    </tr>\n",
              "    <tr>\n",
              "      <th>-0.5</th>\n",
              "      <td>2</td>\n",
              "    </tr>\n",
              "    <tr>\n",
              "      <th>3.2</th>\n",
              "      <td>2</td>\n",
              "    </tr>\n",
              "    <tr>\n",
              "      <th>2.3</th>\n",
              "      <td>2</td>\n",
              "    </tr>\n",
              "    <tr>\n",
              "      <th>3.5</th>\n",
              "      <td>2</td>\n",
              "    </tr>\n",
              "    <tr>\n",
              "      <th>1.7</th>\n",
              "      <td>2</td>\n",
              "    </tr>\n",
              "    <tr>\n",
              "      <th>-1.0</th>\n",
              "      <td>2</td>\n",
              "    </tr>\n",
              "    <tr>\n",
              "      <th>4.2</th>\n",
              "      <td>2</td>\n",
              "    </tr>\n",
              "    <tr>\n",
              "      <th>2.1</th>\n",
              "      <td>2</td>\n",
              "    </tr>\n",
              "    <tr>\n",
              "      <th>3.1</th>\n",
              "      <td>1</td>\n",
              "    </tr>\n",
              "    <tr>\n",
              "      <th>2.9</th>\n",
              "      <td>1</td>\n",
              "    </tr>\n",
              "    <tr>\n",
              "      <th>6.2</th>\n",
              "      <td>1</td>\n",
              "    </tr>\n",
              "    <tr>\n",
              "      <th>5.6</th>\n",
              "      <td>1</td>\n",
              "    </tr>\n",
              "    <tr>\n",
              "      <th>3.8</th>\n",
              "      <td>1</td>\n",
              "    </tr>\n",
              "    <tr>\n",
              "      <th>-1.1</th>\n",
              "      <td>1</td>\n",
              "    </tr>\n",
              "    <tr>\n",
              "      <th>4.4</th>\n",
              "      <td>1</td>\n",
              "    </tr>\n",
              "    <tr>\n",
              "      <th>5.0</th>\n",
              "      <td>1</td>\n",
              "    </tr>\n",
              "    <tr>\n",
              "      <th>-2.6</th>\n",
              "      <td>1</td>\n",
              "    </tr>\n",
              "    <tr>\n",
              "      <th>-0.1</th>\n",
              "      <td>1</td>\n",
              "    </tr>\n",
              "    <tr>\n",
              "      <th>-1.5</th>\n",
              "      <td>1</td>\n",
              "    </tr>\n",
              "    <tr>\n",
              "      <th>-2.0</th>\n",
              "      <td>1</td>\n",
              "    </tr>\n",
              "    <tr>\n",
              "      <th>-0.7</th>\n",
              "      <td>1</td>\n",
              "    </tr>\n",
              "    <tr>\n",
              "      <th>-0.8</th>\n",
              "      <td>1</td>\n",
              "    </tr>\n",
              "    <tr>\n",
              "      <th>-0.9</th>\n",
              "      <td>1</td>\n",
              "    </tr>\n",
              "    <tr>\n",
              "      <th>3.7</th>\n",
              "      <td>1</td>\n",
              "    </tr>\n",
              "  </tbody>\n",
              "</table>\n",
              "</div><br><label><b>dtype:</b> int64</label>"
            ]
          },
          "metadata": {},
          "execution_count": 33
        }
      ],
      "source": [
        "df[\"oldpeak\"].value_counts()"
      ]
    },
    {
      "cell_type": "code",
      "execution_count": null,
      "id": "6879fae2",
      "metadata": {
        "execution": {
          "iopub.execute_input": "2024-05-18T13:04:45.331165Z",
          "iopub.status.busy": "2024-05-18T13:04:45.330231Z",
          "iopub.status.idle": "2024-05-18T13:04:45.342685Z",
          "shell.execute_reply": "2024-05-18T13:04:45.341383Z"
        },
        "id": "6879fae2",
        "outputId": "0498ac5e-f049-42aa-c478-5fe1764a1adc",
        "papermill": {
          "duration": 0.072493,
          "end_time": "2024-05-18T13:04:45.345196",
          "exception": false,
          "start_time": "2024-05-18T13:04:45.272703",
          "status": "completed"
        },
        "tags": [],
        "colab": {
          "base_uri": "https://localhost:8080/",
          "height": 335
        }
      },
      "outputs": [
        {
          "output_type": "execute_result",
          "data": {
            "text/plain": [
              "count    858.000000\n",
              "mean       0.878788\n",
              "std        1.091226\n",
              "min       -2.600000\n",
              "25%        0.000000\n",
              "50%        0.500000\n",
              "75%        1.500000\n",
              "max        6.200000\n",
              "Name: oldpeak, dtype: float64"
            ],
            "text/html": [
              "<div>\n",
              "<style scoped>\n",
              "    .dataframe tbody tr th:only-of-type {\n",
              "        vertical-align: middle;\n",
              "    }\n",
              "\n",
              "    .dataframe tbody tr th {\n",
              "        vertical-align: top;\n",
              "    }\n",
              "\n",
              "    .dataframe thead th {\n",
              "        text-align: right;\n",
              "    }\n",
              "</style>\n",
              "<table border=\"1\" class=\"dataframe\">\n",
              "  <thead>\n",
              "    <tr style=\"text-align: right;\">\n",
              "      <th></th>\n",
              "      <th>oldpeak</th>\n",
              "    </tr>\n",
              "  </thead>\n",
              "  <tbody>\n",
              "    <tr>\n",
              "      <th>count</th>\n",
              "      <td>858.000000</td>\n",
              "    </tr>\n",
              "    <tr>\n",
              "      <th>mean</th>\n",
              "      <td>0.878788</td>\n",
              "    </tr>\n",
              "    <tr>\n",
              "      <th>std</th>\n",
              "      <td>1.091226</td>\n",
              "    </tr>\n",
              "    <tr>\n",
              "      <th>min</th>\n",
              "      <td>-2.600000</td>\n",
              "    </tr>\n",
              "    <tr>\n",
              "      <th>25%</th>\n",
              "      <td>0.000000</td>\n",
              "    </tr>\n",
              "    <tr>\n",
              "      <th>50%</th>\n",
              "      <td>0.500000</td>\n",
              "    </tr>\n",
              "    <tr>\n",
              "      <th>75%</th>\n",
              "      <td>1.500000</td>\n",
              "    </tr>\n",
              "    <tr>\n",
              "      <th>max</th>\n",
              "      <td>6.200000</td>\n",
              "    </tr>\n",
              "  </tbody>\n",
              "</table>\n",
              "</div><br><label><b>dtype:</b> float64</label>"
            ]
          },
          "metadata": {},
          "execution_count": 34
        }
      ],
      "source": [
        "# let's check summary of oldpeak\n",
        "df[\"oldpeak\"].describe()"
      ]
    },
    {
      "cell_type": "code",
      "execution_count": null,
      "id": "060aebc2",
      "metadata": {
        "execution": {
          "iopub.execute_input": "2024-05-18T13:04:45.456057Z",
          "iopub.status.busy": "2024-05-18T13:04:45.455573Z",
          "iopub.status.idle": "2024-05-18T13:04:45.931112Z",
          "shell.execute_reply": "2024-05-18T13:04:45.929670Z"
        },
        "id": "060aebc2",
        "outputId": "825cebac-1a59-404e-c709-3ef27ae803b0",
        "papermill": {
          "duration": 0.535479,
          "end_time": "2024-05-18T13:04:45.934056",
          "exception": false,
          "start_time": "2024-05-18T13:04:45.398577",
          "status": "completed"
        },
        "tags": [],
        "colab": {
          "base_uri": "https://localhost:8080/",
          "height": 755
        }
      },
      "outputs": [
        {
          "output_type": "display_data",
          "data": {
            "text/plain": [
              "<Figure size 1600x900 with 1 Axes>"
            ],
            "image/png": "[encoded data removed]"
          },
          "metadata": {}
        }
      ],
      "source": [
        "# Set the figure size to 16x9\n",
        "plt.figure(figsize=(16, 9))\n",
        "\n",
        "# Create a histplot of the thalch column with a KDE overlay\n",
        "sns.histplot(data=df, x=\"oldpeak\", kde=True, bins=50, color='g')\n",
        "\n",
        "# Display the plot\n",
        "plt.show()"
      ]
    },
    {
      "cell_type": "markdown",
      "id": "bbd32e0b",
      "metadata": {
        "id": "bbd32e0b",
        "papermill": {
          "duration": 0.053005,
          "end_time": "2024-05-18T13:04:46.147464",
          "exception": false,
          "start_time": "2024-05-18T13:04:46.094459",
          "status": "completed"
        },
        "tags": []
      },
      "source": [
        "# Exploring slope The slope of the peak exercise ST segment"
      ]
    },
    {
      "cell_type": "code",
      "execution_count": null,
      "id": "96f2335b",
      "metadata": {
        "execution": {
          "iopub.execute_input": "2024-05-18T13:04:46.258906Z",
          "iopub.status.busy": "2024-05-18T13:04:46.258419Z",
          "iopub.status.idle": "2024-05-18T13:04:46.268722Z",
          "shell.execute_reply": "2024-05-18T13:04:46.267720Z"
        },
        "id": "96f2335b",
        "outputId": "cceec9fa-a5c1-4666-a823-6bc44fa7881c",
        "papermill": {
          "duration": 0.068534,
          "end_time": "2024-05-18T13:04:46.270973",
          "exception": false,
          "start_time": "2024-05-18T13:04:46.202439",
          "status": "completed"
        },
        "tags": [],
        "colab": {
          "base_uri": "https://localhost:8080/",
          "height": 209
        }
      },
      "outputs": [
        {
          "output_type": "execute_result",
          "data": {
            "text/plain": [
              "slope\n",
              "flat           345\n",
              "upsloping      203\n",
              "downsloping     63\n",
              "Name: count, dtype: int64"
            ],
            "text/html": [
              "<div>\n",
              "<style scoped>\n",
              "    .dataframe tbody tr th:only-of-type {\n",
              "        vertical-align: middle;\n",
              "    }\n",
              "\n",
              "    .dataframe tbody tr th {\n",
              "        vertical-align: top;\n",
              "    }\n",
              "\n",
              "    .dataframe thead th {\n",
              "        text-align: right;\n",
              "    }\n",
              "</style>\n",
              "<table border=\"1\" class=\"dataframe\">\n",
              "  <thead>\n",
              "    <tr style=\"text-align: right;\">\n",
              "      <th></th>\n",
              "      <th>count</th>\n",
              "    </tr>\n",
              "    <tr>\n",
              "      <th>slope</th>\n",
              "      <th></th>\n",
              "    </tr>\n",
              "  </thead>\n",
              "  <tbody>\n",
              "    <tr>\n",
              "      <th>flat</th>\n",
              "      <td>345</td>\n",
              "    </tr>\n",
              "    <tr>\n",
              "      <th>upsloping</th>\n",
              "      <td>203</td>\n",
              "    </tr>\n",
              "    <tr>\n",
              "      <th>downsloping</th>\n",
              "      <td>63</td>\n",
              "    </tr>\n",
              "  </tbody>\n",
              "</table>\n",
              "</div><br><label><b>dtype:</b> int64</label>"
            ]
          },
          "metadata": {},
          "execution_count": 36
        }
      ],
      "source": [
        "df[\"slope\"].value_counts()"
      ]
    },
    {
      "cell_type": "markdown",
      "id": "48afff79",
      "metadata": {
        "id": "48afff79",
        "papermill": {
          "duration": 0.0527,
          "end_time": "2024-05-18T13:04:46.380303",
          "exception": false,
          "start_time": "2024-05-18T13:04:46.327603",
          "status": "completed"
        },
        "tags": []
      },
      "source": [
        "### **Let's Visualize slope**"
      ]
    },
    {
      "cell_type": "code",
      "execution_count": null,
      "id": "d6575f77",
      "metadata": {
        "execution": {
          "iopub.execute_input": "2024-05-18T13:04:46.489587Z",
          "iopub.status.busy": "2024-05-18T13:04:46.488856Z",
          "iopub.status.idle": "2024-05-18T13:04:46.514939Z",
          "shell.execute_reply": "2024-05-18T13:04:46.513468Z"
        },
        "id": "d6575f77",
        "outputId": "494651c4-9574-44a9-dea5-f554bf30af1d",
        "papermill": {
          "duration": 0.083597,
          "end_time": "2024-05-18T13:04:46.517571",
          "exception": false,
          "start_time": "2024-05-18T13:04:46.433974",
          "status": "completed"
        },
        "tags": [],
        "colab": {
          "base_uri": "https://localhost:8080/",
          "height": 542
        }
      },
      "outputs": [
        {
          "output_type": "display_data",
          "data": {
            "text/html": [
              "<html>\n",
              "<head><meta charset=\"utf-8\" /></head>\n",
              "<body>\n",
              "    <div>            <script src=\"https://cdnjs.cloudflare.com/ajax/libs/mathjax/2.7.5/MathJax.js?config=TeX-AMS-MML_SVG\"></script><script type=\"text/javascript\">if (window.MathJax && window.MathJax.Hub && window.MathJax.Hub.Config) {window.MathJax.Hub.Config({SVG: {font: \"STIX-Web\"}});}</script>                <script type=\"text/javascript\">window.PlotlyConfig = {MathJaxConfig: 'local'};</script>\n",
              "        <script charset=\"utf-8\" src=\"https://cdn.plot.ly/plotly-2.35.2.min.js\"></script>                <div id=\"2e09aac6-6ae7-4db0-a942-bfd7926b43e8\" class=\"plotly-graph-div\" style=\"height:525px; width:100%;\"></div>            <script type=\"text/javascript\">                                    window.PLOTLYENV=window.PLOTLYENV || {};                                    if (document.getElementById(\"2e09aac6-6ae7-4db0-a942-bfd7926b43e8\")) {                    Plotly.newPlot(                        \"2e09aac6-6ae7-4db0-a942-bfd7926b43e8\",                        [{\"mode\":\"lines+markers\",\"name\":\"Slope\",\"x\":[\"flat\",\"upsloping\",\"downsloping\"],\"y\":[345,203,63],\"type\":\"scatter\"}],                        {\"template\":{\"data\":{\"histogram2dcontour\":[{\"type\":\"histogram2dcontour\",\"colorbar\":{\"outlinewidth\":0,\"ticks\":\"\"},\"colorscale\":[[0.0,\"#0d0887\"],[0.1111111111111111,\"#46039f\"],[0.2222222222222222,\"#7201a8\"],[0.3333333333333333,\"#9c179e\"],[0.4444444444444444,\"#bd3786\"],[0.5555555555555556,\"#d8576b\"],[0.6666666666666666,\"#ed7953\"],[0.7777777777777778,\"#fb9f3a\"],[0.8888888888888888,\"#fdca26\"],[1.0,\"#f0f921\"]]}],\"choropleth\":[{\"type\":\"choropleth\",\"colorbar\":{\"outlinewidth\":0,\"ticks\":\"\"}}],\"histogram2d\":[{\"type\":\"histogram2d\",\"colorbar\":{\"outlinewidth\":0,\"ticks\":\"\"},\"colorscale\":[[0.0,\"#0d0887\"],[0.1111111111111111,\"#46039f\"],[0.2222222222222222,\"#7201a8\"],[0.3333333333333333,\"#9c179e\"],[0.4444444444444444,\"#bd3786\"],[0.5555555555555556,\"#d8576b\"],[0.6666666666666666,\"#ed7953\"],[0.7777777777777778,\"#fb9f3a\"],[0.8888888888888888,\"#fdca26\"],[1.0,\"#f0f921\"]]}],\"heatmap\":[{\"type\":\"heatmap\",\"colorbar\":{\"outlinewidth\":0,\"ticks\":\"\"},\"colorscale\":[[0.0,\"#0d0887\"],[0.1111111111111111,\"#46039f\"],[0.2222222222222222,\"#7201a8\"],[0.3333333333333333,\"#9c179e\"],[0.4444444444444444,\"#bd3786\"],[0.5555555555555556,\"#d8576b\"],[0.6666666666666666,\"#ed7953\"],[0.7777777777777778,\"#fb9f3a\"],[0.8888888888888888,\"#fdca26\"],[1.0,\"#f0f921\"]]}],\"heatmapgl\":[{\"type\":\"heatmapgl\",\"colorbar\":{\"outlinewidth\":0,\"ticks\":\"\"},\"colorscale\":[[0.0,\"#0d0887\"],[0.1111111111111111,\"#46039f\"],[0.2222222222222222,\"#7201a8\"],[0.3333333333333333,\"#9c179e\"],[0.4444444444444444,\"#bd3786\"],[0.5555555555555556,\"#d8576b\"],[0.6666666666666666,\"#ed7953\"],[0.7777777777777778,\"#fb9f3a\"],[0.8888888888888888,\"#fdca26\"],[1.0,\"#f0f921\"]]}],\"contourcarpet\":[{\"type\":\"contourcarpet\",\"colorbar\":{\"outlinewidth\":0,\"ticks\":\"\"}}],\"contour\":[{\"type\":\"contour\",\"colorbar\":{\"outlinewidth\":0,\"ticks\":\"\"},\"colorscale\":[[0.0,\"#0d0887\"],[0.1111111111111111,\"#46039f\"],[0.2222222222222222,\"#7201a8\"],[0.3333333333333333,\"#9c179e\"],[0.4444444444444444,\"#bd3786\"],[0.5555555555555556,\"#d8576b\"],[0.6666666666666666,\"#ed7953\"],[0.7777777777777778,\"#fb9f3a\"],[0.8888888888888888,\"#fdca26\"],[1.0,\"#f0f921\"]]}],\"surface\":[{\"type\":\"surface\",\"colorbar\":{\"outlinewidth\":0,\"ticks\":\"\"},\"colorscale\":[[0.0,\"#0d0887\"],[0.1111111111111111,\"#46039f\"],[0.2222222222222222,\"#7201a8\"],[0.3333333333333333,\"#9c179e\"],[0.4444444444444444,\"#bd3786\"],[0.5555555555555556,\"#d8576b\"],[0.6666666666666666,\"#ed7953\"],[0.7777777777777778,\"#fb9f3a\"],[0.8888888888888888,\"#fdca26\"],[1.0,\"#f0f921\"]]}],\"mesh3d\":[{\"type\":\"mesh3d\",\"colorbar\":{\"outlinewidth\":0,\"ticks\":\"\"}}],\"scatter\":[{\"fillpattern\":{\"fillmode\":\"overlay\",\"size\":10,\"solidity\":0.2},\"type\":\"scatter\"}],\"parcoords\":[{\"type\":\"parcoords\",\"line\":{\"colorbar\":{\"outlinewidth\":0,\"ticks\":\"\"}}}],\"scatterpolargl\":[{\"type\":\"scatterpolargl\",\"marker\":{\"colorbar\":{\"outlinewidth\":0,\"ticks\":\"\"}}}],\"bar\":[{\"error_x\":{\"color\":\"#2a3f5f\"},\"error_y\":{\"color\":\"#2a3f5f\"},\"marker\":{\"line\":{\"color\":\"#E5ECF6\",\"width\":0.5},\"pattern\":{\"fillmode\":\"overlay\",\"size\":10,\"solidity\":0.2}},\"type\":\"bar\"}],\"scattergeo\":[{\"type\":\"scattergeo\",\"marker\":{\"colorbar\":{\"outlinewidth\":0,\"ticks\":\"\"}}}],\"scatterpolar\":[{\"type\":\"scatterpolar\",\"marker\":{\"colorbar\":{\"outlinewidth\":0,\"ticks\":\"\"}}}],\"histogram\":[{\"marker\":{\"pattern\":{\"fillmode\":\"overlay\",\"size\":10,\"solidity\":0.2}},\"type\":\"histogram\"}],\"scattergl\":[{\"type\":\"scattergl\",\"marker\":{\"colorbar\":{\"outlinewidth\":0,\"ticks\":\"\"}}}],\"scatter3d\":[{\"type\":\"scatter3d\",\"line\":{\"colorbar\":{\"outlinewidth\":0,\"ticks\":\"\"}},\"marker\":{\"colorbar\":{\"outlinewidth\":0,\"ticks\":\"\"}}}],\"scattermapbox\":[{\"type\":\"scattermapbox\",\"marker\":{\"colorbar\":{\"outlinewidth\":0,\"ticks\":\"\"}}}],\"scatterternary\":[{\"type\":\"scatterternary\",\"marker\":{\"colorbar\":{\"outlinewidth\":0,\"ticks\":\"\"}}}],\"scattercarpet\":[{\"type\":\"scattercarpet\",\"marker\":{\"colorbar\":{\"outlinewidth\":0,\"ticks\":\"\"}}}],\"carpet\":[{\"aaxis\":{\"endlinecolor\":\"#2a3f5f\",\"gridcolor\":\"white\",\"linecolor\":\"white\",\"minorgridcolor\":\"white\",\"startlinecolor\":\"#2a3f5f\"},\"baxis\":{\"endlinecolor\":\"#2a3f5f\",\"gridcolor\":\"white\",\"linecolor\":\"white\",\"minorgridcolor\":\"white\",\"startlinecolor\":\"#2a3f5f\"},\"type\":\"carpet\"}],\"table\":[{\"cells\":{\"fill\":{\"color\":\"#EBF0F8\"},\"line\":{\"color\":\"white\"}},\"header\":{\"fill\":{\"color\":\"#C8D4E3\"},\"line\":{\"color\":\"white\"}},\"type\":\"table\"}],\"barpolar\":[{\"marker\":{\"line\":{\"color\":\"#E5ECF6\",\"width\":0.5},\"pattern\":{\"fillmode\":\"overlay\",\"size\":10,\"solidity\":0.2}},\"type\":\"barpolar\"}],\"pie\":[{\"automargin\":true,\"type\":\"pie\"}]},\"layout\":{\"autotypenumbers\":\"strict\",\"colorway\":[\"#636efa\",\"#EF553B\",\"#00cc96\",\"#ab63fa\",\"#FFA15A\",\"#19d3f3\",\"#FF6692\",\"#B6E880\",\"#FF97FF\",\"#FECB52\"],\"font\":{\"color\":\"#2a3f5f\"},\"hovermode\":\"closest\",\"hoverlabel\":{\"align\":\"left\"},\"paper_bgcolor\":\"white\",\"plot_bgcolor\":\"#E5ECF6\",\"polar\":{\"bgcolor\":\"#E5ECF6\",\"angularaxis\":{\"gridcolor\":\"white\",\"linecolor\":\"white\",\"ticks\":\"\"},\"radialaxis\":{\"gridcolor\":\"white\",\"linecolor\":\"white\",\"ticks\":\"\"}},\"ternary\":{\"bgcolor\":\"#E5ECF6\",\"aaxis\":{\"gridcolor\":\"white\",\"linecolor\":\"white\",\"ticks\":\"\"},\"baxis\":{\"gridcolor\":\"white\",\"linecolor\":\"white\",\"ticks\":\"\"},\"caxis\":{\"gridcolor\":\"white\",\"linecolor\":\"white\",\"ticks\":\"\"}},\"coloraxis\":{\"colorbar\":{\"outlinewidth\":0,\"ticks\":\"\"}},\"colorscale\":{\"sequential\":[[0.0,\"#0d0887\"],[0.1111111111111111,\"#46039f\"],[0.2222222222222222,\"#7201a8\"],[0.3333333333333333,\"#9c179e\"],[0.4444444444444444,\"#bd3786\"],[0.5555555555555556,\"#d8576b\"],[0.6666666666666666,\"#ed7953\"],[0.7777777777777778,\"#fb9f3a\"],[0.8888888888888888,\"#fdca26\"],[1.0,\"#f0f921\"]],\"sequentialminus\":[[0.0,\"#0d0887\"],[0.1111111111111111,\"#46039f\"],[0.2222222222222222,\"#7201a8\"],[0.3333333333333333,\"#9c179e\"],[0.4444444444444444,\"#bd3786\"],[0.5555555555555556,\"#d8576b\"],[0.6666666666666666,\"#ed7953\"],[0.7777777777777778,\"#fb9f3a\"],[0.8888888888888888,\"#fdca26\"],[1.0,\"#f0f921\"]],\"diverging\":[[0,\"#8e0152\"],[0.1,\"#c51b7d\"],[0.2,\"#de77ae\"],[0.3,\"#f1b6da\"],[0.4,\"#fde0ef\"],[0.5,\"#f7f7f7\"],[0.6,\"#e6f5d0\"],[0.7,\"#b8e186\"],[0.8,\"#7fbc41\"],[0.9,\"#4d9221\"],[1,\"#276419\"]]},\"xaxis\":{\"gridcolor\":\"white\",\"linecolor\":\"white\",\"ticks\":\"\",\"title\":{\"standoff\":15},\"zerolinecolor\":\"white\",\"automargin\":true,\"zerolinewidth\":2},\"yaxis\":{\"gridcolor\":\"white\",\"linecolor\":\"white\",\"ticks\":\"\",\"title\":{\"standoff\":15},\"zerolinecolor\":\"white\",\"automargin\":true,\"zerolinewidth\":2},\"scene\":{\"xaxis\":{\"backgroundcolor\":\"#E5ECF6\",\"gridcolor\":\"white\",\"linecolor\":\"white\",\"showbackground\":true,\"ticks\":\"\",\"zerolinecolor\":\"white\",\"gridwidth\":2},\"yaxis\":{\"backgroundcolor\":\"#E5ECF6\",\"gridcolor\":\"white\",\"linecolor\":\"white\",\"showbackground\":true,\"ticks\":\"\",\"zerolinecolor\":\"white\",\"gridwidth\":2},\"zaxis\":{\"backgroundcolor\":\"#E5ECF6\",\"gridcolor\":\"white\",\"linecolor\":\"white\",\"showbackground\":true,\"ticks\":\"\",\"zerolinecolor\":\"white\",\"gridwidth\":2}},\"shapedefaults\":{\"line\":{\"color\":\"#2a3f5f\"}},\"annotationdefaults\":{\"arrowcolor\":\"#2a3f5f\",\"arrowhead\":0,\"arrowwidth\":1},\"geo\":{\"bgcolor\":\"white\",\"landcolor\":\"#E5ECF6\",\"subunitcolor\":\"white\",\"showland\":true,\"showlakes\":true,\"lakecolor\":\"white\"},\"title\":{\"x\":0.05},\"mapbox\":{\"style\":\"light\"}}},\"title\":{\"text\":\"Slope of the Peak Exercise ST Segment\"},\"xaxis\":{\"title\":{\"text\":\"Slope Type\"}},\"yaxis\":{\"title\":{\"text\":\"Count\"}},\"showlegend\":true},                        {\"responsive\": true}                    ).then(function(){\n",
              "                            \n",
              "var gd = document.getElementById('2e09aac6-6ae7-4db0-a942-bfd7926b43e8');\n",
              "var x = new MutationObserver(function (mutations, observer) {{\n",
              "        var display = window.getComputedStyle(gd).display;\n",
              "        if (!display || display === 'none') {{\n",
              "            console.log([gd, 'removed!']);\n",
              "            Plotly.purge(gd);\n",
              "            observer.disconnect();\n",
              "        }}\n",
              "}});\n",
              "\n",
              "// Listen for the removal of the full notebook cells\n",
              "var notebookContainer = gd.closest('#notebook-container');\n",
              "if (notebookContainer) {{\n",
              "    x.observe(notebookContainer, {childList: true});\n",
              "}}\n",
              "\n",
              "// Listen for the clearing of the current output cell\n",
              "var outputEl = gd.closest('.output');\n",
              "if (outputEl) {{\n",
              "    x.observe(outputEl, {childList: true});\n",
              "}}\n",
              "\n",
              "                        })                };                            </script>        </div>\n",
              "</body>\n",
              "</html>"
            ]
          },
          "metadata": {}
        }
      ],
      "source": [
        "import plotly.graph_objects as go\n",
        "\n",
        "# Data\n",
        "slope_data = {\n",
        "    \"flat\": 345,\n",
        "    \"upsloping\": 203,\n",
        "    \"downsloping\": 63\n",
        "}\n",
        "\n",
        "# Create the figure\n",
        "fig = go.Figure()\n",
        "\n",
        "# Add a scatter plot (line plot)\n",
        "fig.add_trace(go.Scatter(x=list(slope_data.keys()), y=list(slope_data.values()), mode='lines+markers', name='Slope'))\n",
        "\n",
        "# Customize the plot\n",
        "fig.update_layout(\n",
        "    title=\"Slope of the Peak Exercise ST Segment\",\n",
        "    xaxis_title=\"Slope Type\",\n",
        "    yaxis_title=\"Count\",\n",
        "    showlegend=True\n",
        ")\n",
        "\n",
        "# Show the plot\n",
        "fig.show()\n"
      ]
    },
    {
      "cell_type": "markdown",
      "id": "4321bce5",
      "metadata": {
        "id": "4321bce5",
        "papermill": {
          "duration": 0.053282,
          "end_time": "2024-05-18T13:04:46.733828",
          "exception": false,
          "start_time": "2024-05-18T13:04:46.680546",
          "status": "completed"
        },
        "tags": []
      },
      "source": [
        "# Exploring ca Number of major vessels (0-3) colored by fluoroscopy\n"
      ]
    },
    {
      "cell_type": "code",
      "execution_count": null,
      "id": "c100af61",
      "metadata": {
        "execution": {
          "iopub.execute_input": "2024-05-18T13:04:46.843060Z",
          "iopub.status.busy": "2024-05-18T13:04:46.842639Z",
          "iopub.status.idle": "2024-05-18T13:04:46.851891Z",
          "shell.execute_reply": "2024-05-18T13:04:46.850754Z"
        },
        "id": "c100af61",
        "outputId": "c1dd8a59-5b49-4760-d0dd-92658d386794",
        "papermill": {
          "duration": 0.066774,
          "end_time": "2024-05-18T13:04:46.854153",
          "exception": false,
          "start_time": "2024-05-18T13:04:46.787379",
          "status": "completed"
        },
        "tags": [],
        "colab": {
          "base_uri": "https://localhost:8080/",
          "height": 241
        }
      },
      "outputs": [
        {
          "output_type": "execute_result",
          "data": {
            "text/plain": [
              "ca\n",
              "0.0    181\n",
              "1.0     67\n",
              "2.0     41\n",
              "3.0     20\n",
              "Name: count, dtype: int64"
            ],
            "text/html": [
              "<div>\n",
              "<style scoped>\n",
              "    .dataframe tbody tr th:only-of-type {\n",
              "        vertical-align: middle;\n",
              "    }\n",
              "\n",
              "    .dataframe tbody tr th {\n",
              "        vertical-align: top;\n",
              "    }\n",
              "\n",
              "    .dataframe thead th {\n",
              "        text-align: right;\n",
              "    }\n",
              "</style>\n",
              "<table border=\"1\" class=\"dataframe\">\n",
              "  <thead>\n",
              "    <tr style=\"text-align: right;\">\n",
              "      <th></th>\n",
              "      <th>count</th>\n",
              "    </tr>\n",
              "    <tr>\n",
              "      <th>ca</th>\n",
              "      <th></th>\n",
              "    </tr>\n",
              "  </thead>\n",
              "  <tbody>\n",
              "    <tr>\n",
              "      <th>0.0</th>\n",
              "      <td>181</td>\n",
              "    </tr>\n",
              "    <tr>\n",
              "      <th>1.0</th>\n",
              "      <td>67</td>\n",
              "    </tr>\n",
              "    <tr>\n",
              "      <th>2.0</th>\n",
              "      <td>41</td>\n",
              "    </tr>\n",
              "    <tr>\n",
              "      <th>3.0</th>\n",
              "      <td>20</td>\n",
              "    </tr>\n",
              "  </tbody>\n",
              "</table>\n",
              "</div><br><label><b>dtype:</b> int64</label>"
            ]
          },
          "metadata": {},
          "execution_count": 38
        }
      ],
      "source": [
        "df[\"ca\"].value_counts()"
      ]
    },
    {
      "cell_type": "markdown",
      "id": "21e13e43",
      "metadata": {
        "id": "21e13e43",
        "papermill": {
          "duration": 0.052206,
          "end_time": "2024-05-18T13:04:46.960263",
          "exception": false,
          "start_time": "2024-05-18T13:04:46.908057",
          "status": "completed"
        },
        "tags": []
      },
      "source": [
        "### **Let's Visualize ca**"
      ]
    },
    {
      "cell_type": "code",
      "execution_count": null,
      "id": "7b78fcc9",
      "metadata": {
        "execution": {
          "iopub.execute_input": "2024-05-18T13:04:47.069104Z",
          "iopub.status.busy": "2024-05-18T13:04:47.067653Z",
          "iopub.status.idle": "2024-05-18T13:04:47.437390Z",
          "shell.execute_reply": "2024-05-18T13:04:47.435955Z"
        },
        "id": "7b78fcc9",
        "outputId": "61e637c6-db7a-48dc-9e32-c561e22f46ee",
        "papermill": {
          "duration": 0.427392,
          "end_time": "2024-05-18T13:04:47.440461",
          "exception": false,
          "start_time": "2024-05-18T13:04:47.013069",
          "status": "completed"
        },
        "tags": [],
        "colab": {
          "base_uri": "https://localhost:8080/",
          "height": 776
        }
      },
      "outputs": [
        {
          "output_type": "display_data",
          "data": {
            "text/plain": [
              "<Figure size 1600x900 with 1 Axes>"
            ],
            "image/png": "[encoded data removed]"
          },
          "metadata": {}
        }
      ],
      "source": [
        "import matplotlib.pyplot as plt\n",
        "\n",
        "# Data\n",
        "categories = [0.0, 1.0, 2.0, 3.0]\n",
        "counts = [181, 67, 41, 20]\n",
        "colors = ['red', 'green', 'blue', 'purple']\n",
        "\n",
        "# Create the figure with the specified size\n",
        "plt.figure(figsize=(16, 9))\n",
        "\n",
        "# Create the histogram with specified colors\n",
        "plt.bar(categories, counts, color=colors, edgecolor=\"black\")\n",
        "\n",
        "# Labels and title\n",
        "plt.xlabel(\"Number of Major Vessels\")\n",
        "plt.ylabel(\"Count\")\n",
        "plt.title(\"Histogram of Major Vessels Colored by Fluoroscopy\")\n",
        "\n",
        "# Show the plot\n",
        "plt.show()\n"
      ]
    },
    {
      "cell_type": "markdown",
      "id": "632b2b2c",
      "metadata": {
        "id": "632b2b2c",
        "papermill": {
          "duration": 0.054079,
          "end_time": "2024-05-18T13:04:47.661326",
          "exception": false,
          "start_time": "2024-05-18T13:04:47.607247",
          "status": "completed"
        },
        "tags": []
      },
      "source": [
        "# Exploring thal Thalassemia (Values: normal, fixed defect, reversible defect"
      ]
    },
    {
      "cell_type": "code",
      "execution_count": null,
      "id": "ff13bf47",
      "metadata": {
        "execution": {
          "iopub.execute_input": "2024-05-18T13:04:47.772635Z",
          "iopub.status.busy": "2024-05-18T13:04:47.772165Z",
          "iopub.status.idle": "2024-05-18T13:04:47.781979Z",
          "shell.execute_reply": "2024-05-18T13:04:47.781007Z"
        },
        "id": "ff13bf47",
        "outputId": "85a931da-1dcb-4390-d3e8-49a63f277990",
        "papermill": {
          "duration": 0.068456,
          "end_time": "2024-05-18T13:04:47.784397",
          "exception": false,
          "start_time": "2024-05-18T13:04:47.715941",
          "status": "completed"
        },
        "tags": [],
        "colab": {
          "base_uri": "https://localhost:8080/",
          "height": 209
        }
      },
      "outputs": [
        {
          "output_type": "execute_result",
          "data": {
            "text/plain": [
              "thal\n",
              "normal               196\n",
              "reversable defect    192\n",
              "fixed defect          46\n",
              "Name: count, dtype: int64"
            ],
            "text/html": [
              "<div>\n",
              "<style scoped>\n",
              "    .dataframe tbody tr th:only-of-type {\n",
              "        vertical-align: middle;\n",
              "    }\n",
              "\n",
              "    .dataframe tbody tr th {\n",
              "        vertical-align: top;\n",
              "    }\n",
              "\n",
              "    .dataframe thead th {\n",
              "        text-align: right;\n",
              "    }\n",
              "</style>\n",
              "<table border=\"1\" class=\"dataframe\">\n",
              "  <thead>\n",
              "    <tr style=\"text-align: right;\">\n",
              "      <th></th>\n",
              "      <th>count</th>\n",
              "    </tr>\n",
              "    <tr>\n",
              "      <th>thal</th>\n",
              "      <th></th>\n",
              "    </tr>\n",
              "  </thead>\n",
              "  <tbody>\n",
              "    <tr>\n",
              "      <th>normal</th>\n",
              "      <td>196</td>\n",
              "    </tr>\n",
              "    <tr>\n",
              "      <th>reversable defect</th>\n",
              "      <td>192</td>\n",
              "    </tr>\n",
              "    <tr>\n",
              "      <th>fixed defect</th>\n",
              "      <td>46</td>\n",
              "    </tr>\n",
              "  </tbody>\n",
              "</table>\n",
              "</div><br><label><b>dtype:</b> int64</label>"
            ]
          },
          "metadata": {},
          "execution_count": 40
        }
      ],
      "source": [
        "df[\"thal\"].value_counts()"
      ]
    },
    {
      "cell_type": "code",
      "execution_count": null,
      "id": "e433806c",
      "metadata": {
        "execution": {
          "iopub.execute_input": "2024-05-18T13:04:47.896166Z",
          "iopub.status.busy": "2024-05-18T13:04:47.895591Z",
          "iopub.status.idle": "2024-05-18T13:04:48.204800Z",
          "shell.execute_reply": "2024-05-18T13:04:48.203434Z"
        },
        "id": "e433806c",
        "outputId": "42dbdc77-2021-4f51-baa9-4a9dd33658f1",
        "papermill": {
          "duration": 0.369907,
          "end_time": "2024-05-18T13:04:48.208467",
          "exception": false,
          "start_time": "2024-05-18T13:04:47.838560",
          "status": "completed"
        },
        "tags": [],
        "colab": {
          "base_uri": "https://localhost:8080/",
          "height": 727
        }
      },
      "outputs": [
        {
          "output_type": "display_data",
          "data": {
            "text/plain": [
              "<Figure size 1600x900 with 1 Axes>"
            ],
            "image/png": "[encoded data removed]"
          },
          "metadata": {}
        }
      ],
      "source": [
        "import seaborn as sns\n",
        "import matplotlib.pyplot as plt\n",
        "\n",
        "\n",
        "\n",
        "# Data\n",
        "thal_values = ['normal'] * 196 + ['reversible defect'] * 192 + ['fixed defect'] * 46\n",
        "\n",
        "# Plot\n",
        "plt.figure(figsize=(16, 9))\n",
        "sns.countplot(y=thal_values, palette=['green', 'orange', 'red'])\n",
        "plt.xlabel('Count')\n",
        "plt.ylabel('Thalassemia Type')\n",
        "plt.title('Distribution of Thalassemia Types')\n",
        "plt.show()\n",
        "\n"
      ]
    },
    {
      "cell_type": "markdown",
      "id": "b9fa4de5",
      "metadata": {
        "id": "b9fa4de5",
        "papermill": {
          "duration": 0.055051,
          "end_time": "2024-05-18T13:04:48.432006",
          "exception": false,
          "start_time": "2024-05-18T13:04:48.376955",
          "status": "completed"
        },
        "tags": []
      },
      "source": [
        "# Exploring num The predicted attribute, target [0=no heart disease; 1,2,3,4 = stages of heart disease ])\n"
      ]
    },
    {
      "cell_type": "code",
      "execution_count": null,
      "id": "446437d0",
      "metadata": {
        "execution": {
          "iopub.execute_input": "2024-05-18T13:04:48.546394Z",
          "iopub.status.busy": "2024-05-18T13:04:48.545410Z",
          "iopub.status.idle": "2024-05-18T13:04:48.553865Z",
          "shell.execute_reply": "2024-05-18T13:04:48.552774Z"
        },
        "id": "446437d0",
        "outputId": "7455b1ae-3b05-447b-f6d6-9c88a1f48e29",
        "papermill": {
          "duration": 0.068599,
          "end_time": "2024-05-18T13:04:48.556666",
          "exception": false,
          "start_time": "2024-05-18T13:04:48.488067",
          "status": "completed"
        },
        "tags": [],
        "colab": {
          "base_uri": "https://localhost:8080/",
          "height": 272
        }
      },
      "outputs": [
        {
          "output_type": "execute_result",
          "data": {
            "text/plain": [
              "num\n",
              "0    411\n",
              "1    265\n",
              "2    109\n",
              "3    107\n",
              "4     28\n",
              "Name: count, dtype: int64"
            ],
            "text/html": [
              "<div>\n",
              "<style scoped>\n",
              "    .dataframe tbody tr th:only-of-type {\n",
              "        vertical-align: middle;\n",
              "    }\n",
              "\n",
              "    .dataframe tbody tr th {\n",
              "        vertical-align: top;\n",
              "    }\n",
              "\n",
              "    .dataframe thead th {\n",
              "        text-align: right;\n",
              "    }\n",
              "</style>\n",
              "<table border=\"1\" class=\"dataframe\">\n",
              "  <thead>\n",
              "    <tr style=\"text-align: right;\">\n",
              "      <th></th>\n",
              "      <th>count</th>\n",
              "    </tr>\n",
              "    <tr>\n",
              "      <th>num</th>\n",
              "      <th></th>\n",
              "    </tr>\n",
              "  </thead>\n",
              "  <tbody>\n",
              "    <tr>\n",
              "      <th>0</th>\n",
              "      <td>411</td>\n",
              "    </tr>\n",
              "    <tr>\n",
              "      <th>1</th>\n",
              "      <td>265</td>\n",
              "    </tr>\n",
              "    <tr>\n",
              "      <th>2</th>\n",
              "      <td>109</td>\n",
              "    </tr>\n",
              "    <tr>\n",
              "      <th>3</th>\n",
              "      <td>107</td>\n",
              "    </tr>\n",
              "    <tr>\n",
              "      <th>4</th>\n",
              "      <td>28</td>\n",
              "    </tr>\n",
              "  </tbody>\n",
              "</table>\n",
              "</div><br><label><b>dtype:</b> int64</label>"
            ]
          },
          "metadata": {},
          "execution_count": 42
        }
      ],
      "source": [
        "df[\"num\"].value_counts()"
      ]
    },
    {
      "cell_type": "code",
      "execution_count": null,
      "id": "243f9bc3",
      "metadata": {
        "execution": {
          "iopub.execute_input": "2024-05-18T13:04:48.666830Z",
          "iopub.status.busy": "2024-05-18T13:04:48.665976Z",
          "iopub.status.idle": "2024-05-18T13:04:48.983006Z",
          "shell.execute_reply": "2024-05-18T13:04:48.981547Z"
        },
        "id": "243f9bc3",
        "outputId": "29ad3d36-1163-49d5-ffba-4d2e3249afba",
        "papermill": {
          "duration": 0.375817,
          "end_time": "2024-05-18T13:04:48.986436",
          "exception": false,
          "start_time": "2024-05-18T13:04:48.610619",
          "status": "completed"
        },
        "tags": [],
        "colab": {
          "base_uri": "https://localhost:8080/",
          "height": 752
        }
      },
      "outputs": [
        {
          "output_type": "display_data",
          "data": {
            "text/plain": [
              "<Figure size 1600x900 with 1 Axes>"
            ],
            "image/png": "[encoded data removed]"
          },
          "metadata": {}
        }
      ],
      "source": [
        "import matplotlib.pyplot as plt\n",
        "\n",
        "# Data\n",
        "labels = ['No Heart Disease (0)', 'Stage 1 (1)', 'Stage 2 (2)', 'Stage 3 (3)', 'Stage 4 (4)']\n",
        "sizes = [411, 265, 109, 107, 28]\n",
        "colors = ['#1f77b4', '#ff7f0e', '#2ca02c', '#d62728', '#9467bd']\n",
        "explode = (0.1, 0, 0, 0, 0)  # explode the 1st slice (No Heart Disease)\n",
        "\n",
        "# Plot\n",
        "plt.figure(figsize=(16, 9))\n",
        "plt.pie(sizes, explode=explode, labels=labels, colors=colors, autopct='%1.1f%%', shadow=True, startangle=140)\n",
        "plt.title('Distribution of Heart Disease Stages')\n",
        "plt.axis('equal')  # Equal aspect ratio ensures that pie is drawn as a circle.\n",
        "plt.show()\n",
        "\n"
      ]
    },
    {
      "cell_type": "markdown",
      "id": "9ac63d7a",
      "metadata": {
        "id": "9ac63d7a",
        "papermill": {
          "duration": 0.058467,
          "end_time": "2024-05-18T13:04:49.216592",
          "exception": false,
          "start_time": "2024-05-18T13:04:49.158125",
          "status": "completed"
        },
        "tags": []
      },
      "source": [
        "# **<font color='blue'>Dealing with Missing Values in Dataset</font>**\n"
      ]
    },
    {
      "cell_type": "markdown",
      "id": "69b1c2f1",
      "metadata": {
        "id": "69b1c2f1",
        "papermill": {
          "duration": 0.057932,
          "end_time": "2024-05-18T13:04:49.331521",
          "exception": false,
          "start_time": "2024-05-18T13:04:49.273589",
          "status": "completed"
        },
        "tags": []
      },
      "source": [
        "### **Let's visualize to see missing values in this dataset**"
      ]
    },
    {
      "cell_type": "code",
      "execution_count": null,
      "id": "4d175702",
      "metadata": {
        "execution": {
          "iopub.execute_input": "2024-05-18T13:04:49.458607Z",
          "iopub.status.busy": "2024-05-18T13:04:49.458142Z",
          "iopub.status.idle": "2024-05-18T13:04:49.836140Z",
          "shell.execute_reply": "2024-05-18T13:04:49.835172Z"
        },
        "id": "4d175702",
        "outputId": "7e96b1b0-7931-475b-ea20-e7db077dccd0",
        "papermill": {
          "duration": 0.442173,
          "end_time": "2024-05-18T13:04:49.838308",
          "exception": false,
          "start_time": "2024-05-18T13:04:49.396135",
          "status": "completed"
        },
        "tags": [],
        "colab": {
          "base_uri": "https://localhost:8080/",
          "height": 700
        }
      },
      "outputs": [
        {
          "output_type": "display_data",
          "data": {
            "text/plain": [
              "<Figure size 2000x1000 with 1 Axes>"
            ],
            "image/png": "[encoded data removed]"
          },
          "metadata": {}
        }
      ],
      "source": [
        "import matplotlib.pyplot as plt\n",
        "import seaborn as sns\n",
        "\n",
        "plt.figure(figsize=(20,10))\n",
        "sns.heatmap(df.isnull(), yticklabels=False, cbar=False, cmap='viridis')\n",
        "plt.title('Missing Values')\n",
        "plt.show()"
      ]
    },
    {
      "cell_type": "code",
      "execution_count": null,
      "id": "cd46bb3d",
      "metadata": {
        "execution": {
          "iopub.execute_input": "2024-05-18T13:04:49.958431Z",
          "iopub.status.busy": "2024-05-18T13:04:49.957676Z",
          "iopub.status.idle": "2024-05-18T13:04:49.967099Z",
          "shell.execute_reply": "2024-05-18T13:04:49.965781Z"
        },
        "id": "cd46bb3d",
        "outputId": "b4c7ab38-1026-400e-ae46-80bb2bff1a59",
        "papermill": {
          "duration": 0.072708,
          "end_time": "2024-05-18T13:04:49.969613",
          "exception": false,
          "start_time": "2024-05-18T13:04:49.896905",
          "status": "completed"
        },
        "tags": [],
        "colab": {
          "base_uri": "https://localhost:8080/",
          "height": 585
        }
      },
      "outputs": [
        {
          "output_type": "execute_result",
          "data": {
            "text/plain": [
              "id            0\n",
              "age           0\n",
              "sex           0\n",
              "dataset       0\n",
              "cp            0\n",
              "trestbps     59\n",
              "chol         30\n",
              "fbs          90\n",
              "restecg       2\n",
              "thalch       55\n",
              "exang        55\n",
              "oldpeak      62\n",
              "slope       309\n",
              "ca          611\n",
              "thal        486\n",
              "num           0\n",
              "dtype: int64"
            ],
            "text/html": [
              "<div>\n",
              "<style scoped>\n",
              "    .dataframe tbody tr th:only-of-type {\n",
              "        vertical-align: middle;\n",
              "    }\n",
              "\n",
              "    .dataframe tbody tr th {\n",
              "        vertical-align: top;\n",
              "    }\n",
              "\n",
              "    .dataframe thead th {\n",
              "        text-align: right;\n",
              "    }\n",
              "</style>\n",
              "<table border=\"1\" class=\"dataframe\">\n",
              "  <thead>\n",
              "    <tr style=\"text-align: right;\">\n",
              "      <th></th>\n",
              "      <th>0</th>\n",
              "    </tr>\n",
              "  </thead>\n",
              "  <tbody>\n",
              "    <tr>\n",
              "      <th>id</th>\n",
              "      <td>0</td>\n",
              "    </tr>\n",
              "    <tr>\n",
              "      <th>age</th>\n",
              "      <td>0</td>\n",
              "    </tr>\n",
              "    <tr>\n",
              "      <th>sex</th>\n",
              "      <td>0</td>\n",
              "    </tr>\n",
              "    <tr>\n",
              "      <th>dataset</th>\n",
              "      <td>0</td>\n",
              "    </tr>\n",
              "    <tr>\n",
              "      <th>cp</th>\n",
              "      <td>0</td>\n",
              "    </tr>\n",
              "    <tr>\n",
              "      <th>trestbps</th>\n",
              "      <td>59</td>\n",
              "    </tr>\n",
              "    <tr>\n",
              "      <th>chol</th>\n",
              "      <td>30</td>\n",
              "    </tr>\n",
              "    <tr>\n",
              "      <th>fbs</th>\n",
              "      <td>90</td>\n",
              "    </tr>\n",
              "    <tr>\n",
              "      <th>restecg</th>\n",
              "      <td>2</td>\n",
              "    </tr>\n",
              "    <tr>\n",
              "      <th>thalch</th>\n",
              "      <td>55</td>\n",
              "    </tr>\n",
              "    <tr>\n",
              "      <th>exang</th>\n",
              "      <td>55</td>\n",
              "    </tr>\n",
              "    <tr>\n",
              "      <th>oldpeak</th>\n",
              "      <td>62</td>\n",
              "    </tr>\n",
              "    <tr>\n",
              "      <th>slope</th>\n",
              "      <td>309</td>\n",
              "    </tr>\n",
              "    <tr>\n",
              "      <th>ca</th>\n",
              "      <td>611</td>\n",
              "    </tr>\n",
              "    <tr>\n",
              "      <th>thal</th>\n",
              "      <td>486</td>\n",
              "    </tr>\n",
              "    <tr>\n",
              "      <th>num</th>\n",
              "      <td>0</td>\n",
              "    </tr>\n",
              "  </tbody>\n",
              "</table>\n",
              "</div><br><label><b>dtype:</b> int64</label>"
            ]
          },
          "metadata": {},
          "execution_count": 45
        }
      ],
      "source": [
        "# Let check colmns with missing values\n",
        "df.isnull().sum()"
      ]
    },
    {
      "cell_type": "markdown",
      "id": "700dac53",
      "metadata": {
        "id": "700dac53",
        "papermill": {
          "duration": 0.061003,
          "end_time": "2024-05-18T13:04:50.325894",
          "exception": false,
          "start_time": "2024-05-18T13:04:50.264891",
          "status": "completed"
        },
        "tags": []
      },
      "source": [
        "### **Convert column with missing values into a list**"
      ]
    },
    {
      "cell_type": "code",
      "execution_count": null,
      "id": "343e7d4a",
      "metadata": {
        "execution": {
          "iopub.execute_input": "2024-05-18T13:04:50.446644Z",
          "iopub.status.busy": "2024-05-18T13:04:50.446197Z",
          "iopub.status.idle": "2024-05-18T13:04:50.458152Z",
          "shell.execute_reply": "2024-05-18T13:04:50.457201Z"
        },
        "id": "343e7d4a",
        "outputId": "7e6d0c6e-23fa-418f-fcbe-55cd22b3d599",
        "papermill": {
          "duration": 0.0757,
          "end_time": "2024-05-18T13:04:50.460385",
          "exception": false,
          "start_time": "2024-05-18T13:04:50.384685",
          "status": "completed"
        },
        "tags": [],
        "colab": {
          "base_uri": "https://localhost:8080/"
        }
      },
      "outputs": [
        {
          "output_type": "execute_result",
          "data": {
            "text/plain": [
              "['trestbps',\n",
              " 'chol',\n",
              " 'fbs',\n",
              " 'restecg',\n",
              " 'thalch',\n",
              " 'exang',\n",
              " 'oldpeak',\n",
              " 'slope',\n",
              " 'ca',\n",
              " 'thal']"
            ]
          },
          "metadata": {},
          "execution_count": 46
        }
      ],
      "source": [
        "missing_data_cols = df.isnull().sum()[df.isnull().sum() > 0].index.to_list()\n",
        "missing_data_cols"
      ]
    },
    {
      "cell_type": "markdown",
      "id": "8601881c",
      "metadata": {
        "id": "8601881c",
        "papermill": {
          "duration": 0.058326,
          "end_time": "2024-05-18T13:04:50.577970",
          "exception": false,
          "start_time": "2024-05-18T13:04:50.519644",
          "status": "completed"
        },
        "tags": []
      },
      "source": [
        "### **Seperating columns based upon their data types**"
      ]
    },
    {
      "cell_type": "code",
      "execution_count": null,
      "id": "c2d4804a",
      "metadata": {
        "execution": {
          "iopub.execute_input": "2024-05-18T13:04:50.698623Z",
          "iopub.status.busy": "2024-05-18T13:04:50.697454Z",
          "iopub.status.idle": "2024-05-18T13:04:50.704417Z",
          "shell.execute_reply": "2024-05-18T13:04:50.703094Z"
        },
        "id": "c2d4804a",
        "papermill": {
          "duration": 0.070464,
          "end_time": "2024-05-18T13:04:50.707186",
          "exception": false,
          "start_time": "2024-05-18T13:04:50.636722",
          "status": "completed"
        },
        "tags": []
      },
      "outputs": [],
      "source": [
        "categorical_cols = [\"thal\",\"ca\",\"exang\",\"slope\",\"restecg\",\"fbs\",\"cp\",\"sex\",\"num\"]\n",
        "bool_cols = [\"fbs\",\"exang\"]\n",
        "numeric_cols = [\"oldpeak\",\"thalch\",\"chol\",\"trestbps\",\"age\"]"
      ]
    },
    {
      "cell_type": "code",
      "execution_count": null,
      "id": "08337c56",
      "metadata": {
        "execution": {
          "iopub.execute_input": "2024-05-18T13:04:50.944842Z",
          "iopub.status.busy": "2024-05-18T13:04:50.944363Z",
          "iopub.status.idle": "2024-05-18T13:04:50.974361Z",
          "shell.execute_reply": "2024-05-18T13:04:50.973078Z"
        },
        "id": "08337c56",
        "papermill": {
          "duration": 0.093704,
          "end_time": "2024-05-18T13:04:50.977149",
          "exception": false,
          "start_time": "2024-05-18T13:04:50.883445",
          "status": "completed"
        },
        "tags": []
      },
      "outputs": [],
      "source": [
        "# define the function to impute the missing values\n",
        "def impute_categorical_missing_data(passed_col):\n",
        "\n",
        "    df_null = df[df[passed_col].isnull()]\n",
        "    df_not_null = df[df[passed_col].notnull()]\n",
        "\n",
        "    X = df_not_null.drop(passed_col, axis=1)\n",
        "    y = df_not_null[passed_col]\n",
        "\n",
        "    other_missing_cols = [col for col in missing_data_cols if col != passed_col]\n",
        "\n",
        "    label_encoder = LabelEncoder()\n",
        "\n",
        "    for col in X.columns:\n",
        "        if X[col].dtype == 'object' or X[col].dtype == 'category':\n",
        "            X[col] = label_encoder.fit_transform(X[col])\n",
        "\n",
        "    if passed_col in bool_cols:\n",
        "        y = label_encoder.fit_transform(y)\n",
        "\n",
        "    iterative_imputer = IterativeImputer(estimator=RandomForestRegressor(random_state=42), add_indicator=True)\n",
        "\n",
        "    for col in other_missing_cols:\n",
        "        if X[col].isnull().sum() > 0:\n",
        "            col_with_missing_values = X[col].values.reshape(-1, 1)\n",
        "            imputed_values = iterative_imputer.fit_transform(col_with_missing_values)\n",
        "            X[col] = imputed_values[:, 0]\n",
        "        else:\n",
        "            pass\n",
        "\n",
        "    X_train, X_test, y_train, y_test = train_test_split(X, y, test_size=0.2, random_state=42)\n",
        "\n",
        "    rf_classifier = RandomForestClassifier()\n",
        "\n",
        "    rf_classifier.fit(X_train, y_train)\n",
        "\n",
        "    y_pred = rf_classifier.predict(X_test)\n",
        "\n",
        "    acc_score = accuracy_score(y_test, y_pred)\n",
        "\n",
        "    print(\"The feature '\"+ passed_col+ \"' has been imputed with\", round((acc_score * 100), 2), \"accuracy\\n\")\n",
        "\n",
        "    X = df_null.drop(passed_col, axis=1)\n",
        "\n",
        "    for col in X.columns:\n",
        "        if X[col].dtype == 'object' or X[col].dtype == 'category':\n",
        "            X[col] = label_encoder.fit_transform(X[col])\n",
        "\n",
        "    for col in other_missing_cols:\n",
        "        if X[col].isnull().sum() > 0:\n",
        "            col_with_missing_values = X[col].values.reshape(-1, 1)\n",
        "            imputed_values = iterative_imputer.fit_transform(col_with_missing_values)\n",
        "            X[col] = imputed_values[:, 0]\n",
        "        else:\n",
        "            pass\n",
        "\n",
        "    if len(df_null) > 0:\n",
        "        df_null[passed_col] = rf_classifier.predict(X)\n",
        "        if passed_col in bool_cols:\n",
        "            df_null[passed_col] = df_null[passed_col].map({0: False, 1: True})\n",
        "        else:\n",
        "            pass\n",
        "    else:\n",
        "        pass\n",
        "\n",
        "    df_combined = pd.concat([df_not_null, df_null])\n",
        "\n",
        "    return df_combined[passed_col]\n",
        "\n",
        "def impute_continuous_missing_data(passed_col):\n",
        "\n",
        "    df_null = df[df[passed_col].isnull()]\n",
        "    df_not_null = df[df[passed_col].notnull()]\n",
        "\n",
        "    X = df_not_null.drop(passed_col, axis=1)\n",
        "    y = df_not_null[passed_col]\n",
        "\n",
        "    other_missing_cols = [col for col in missing_data_cols if col != passed_col]\n",
        "\n",
        "    label_encoder = LabelEncoder()\n",
        "\n",
        "    for col in X.columns:\n",
        "        if X[col].dtype == 'object' or X[col].dtype == 'category':\n",
        "            X[col] = label_encoder.fit_transform(X[col])\n",
        "\n",
        "    iterative_imputer = IterativeImputer(estimator=RandomForestRegressor(random_state=42), add_indicator=True)\n",
        "\n",
        "    for col in other_missing_cols:\n",
        "        if X[col].isnull().sum() > 0:\n",
        "            col_with_missing_values = X[col].values.reshape(-1, 1)\n",
        "            imputed_values = iterative_imputer.fit_transform(col_with_missing_values)\n",
        "            X[col] = imputed_values[:, 0]\n",
        "        else:\n",
        "            pass\n",
        "\n",
        "    X_train, X_test, y_train, y_test = train_test_split(X, y, test_size=0.2, random_state=42)\n",
        "\n",
        "    rf_regressor = RandomForestRegressor()\n",
        "\n",
        "    rf_regressor.fit(X_train, y_train)\n",
        "\n",
        "    y_pred = rf_regressor.predict(X_test)\n",
        "\n",
        "    print(\"MAE =\", mean_absolute_error(y_test, y_pred), \"\\n\")\n",
        "    print(\"RMSE =\", mean_squared_error(y_test, y_pred), \"\\n\")\n",
        "    print(\"R2 =\", r2_score(y_test, y_pred), \"\\n\")\n",
        "\n",
        "    X = df_null.drop(passed_col, axis=1)\n",
        "\n",
        "    for col in X.columns:\n",
        "        if X[col].dtype == 'object' or X[col].dtype == 'category':\n",
        "            X[col] = label_encoder.fit_transform(X[col])\n",
        "\n",
        "    for col in other_missing_cols:\n",
        "        if X[col].isnull().sum() > 0:\n",
        "            col_with_missing_values = X[col].values.reshape(-1, 1)\n",
        "            imputed_values = iterative_imputer.fit_transform(col_with_missing_values)\n",
        "            X[col] = imputed_values[:, 0]\n",
        "        else:\n",
        "            pass\n",
        "\n",
        "    if len(df_null) > 0:\n",
        "        df_null[passed_col] = rf_regressor.predict(X)\n",
        "    else:\n",
        "        pass\n",
        "\n",
        "    df_combined = pd.concat([df_not_null, df_null])\n",
        "\n",
        "    return df_combined[passed_col]"
      ]
    },
    {
      "cell_type": "markdown",
      "id": "efe1411c",
      "metadata": {
        "id": "efe1411c",
        "papermill": {
          "duration": 0.058743,
          "end_time": "2024-05-18T13:04:51.093894",
          "exception": false,
          "start_time": "2024-05-18T13:04:51.035151",
          "status": "completed"
        },
        "tags": []
      },
      "source": [
        "### **Let's Check Missing Values Again**"
      ]
    },
    {
      "cell_type": "code",
      "execution_count": null,
      "id": "f576cebc",
      "metadata": {
        "execution": {
          "iopub.execute_input": "2024-05-18T13:04:51.212535Z",
          "iopub.status.busy": "2024-05-18T13:04:51.212145Z",
          "iopub.status.idle": "2024-05-18T13:04:51.222983Z",
          "shell.execute_reply": "2024-05-18T13:04:51.221811Z"
        },
        "id": "f576cebc",
        "outputId": "97baddb0-ac33-45f1-bd78-e51a9cc90db9",
        "papermill": {
          "duration": 0.073381,
          "end_time": "2024-05-18T13:04:51.225200",
          "exception": false,
          "start_time": "2024-05-18T13:04:51.151819",
          "status": "completed"
        },
        "tags": [],
        "colab": {
          "base_uri": "https://localhost:8080/",
          "height": 585
        }
      },
      "outputs": [
        {
          "output_type": "execute_result",
          "data": {
            "text/plain": [
              "ca          611\n",
              "thal        486\n",
              "slope       309\n",
              "fbs          90\n",
              "oldpeak      62\n",
              "trestbps     59\n",
              "exang        55\n",
              "thalch       55\n",
              "chol         30\n",
              "restecg       2\n",
              "cp            0\n",
              "dataset       0\n",
              "id            0\n",
              "age           0\n",
              "sex           0\n",
              "num           0\n",
              "dtype: int64"
            ],
            "text/html": [
              "<div>\n",
              "<style scoped>\n",
              "    .dataframe tbody tr th:only-of-type {\n",
              "        vertical-align: middle;\n",
              "    }\n",
              "\n",
              "    .dataframe tbody tr th {\n",
              "        vertical-align: top;\n",
              "    }\n",
              "\n",
              "    .dataframe thead th {\n",
              "        text-align: right;\n",
              "    }\n",
              "</style>\n",
              "<table border=\"1\" class=\"dataframe\">\n",
              "  <thead>\n",
              "    <tr style=\"text-align: right;\">\n",
              "      <th></th>\n",
              "      <th>0</th>\n",
              "    </tr>\n",
              "  </thead>\n",
              "  <tbody>\n",
              "    <tr>\n",
              "      <th>ca</th>\n",
              "      <td>611</td>\n",
              "    </tr>\n",
              "    <tr>\n",
              "      <th>thal</th>\n",
              "      <td>486</td>\n",
              "    </tr>\n",
              "    <tr>\n",
              "      <th>slope</th>\n",
              "      <td>309</td>\n",
              "    </tr>\n",
              "    <tr>\n",
              "      <th>fbs</th>\n",
              "      <td>90</td>\n",
              "    </tr>\n",
              "    <tr>\n",
              "      <th>oldpeak</th>\n",
              "      <td>62</td>\n",
              "    </tr>\n",
              "    <tr>\n",
              "      <th>trestbps</th>\n",
              "      <td>59</td>\n",
              "    </tr>\n",
              "    <tr>\n",
              "      <th>exang</th>\n",
              "      <td>55</td>\n",
              "    </tr>\n",
              "    <tr>\n",
              "      <th>thalch</th>\n",
              "      <td>55</td>\n",
              "    </tr>\n",
              "    <tr>\n",
              "      <th>chol</th>\n",
              "      <td>30</td>\n",
              "    </tr>\n",
              "    <tr>\n",
              "      <th>restecg</th>\n",
              "      <td>2</td>\n",
              "    </tr>\n",
              "    <tr>\n",
              "      <th>cp</th>\n",
              "      <td>0</td>\n",
              "    </tr>\n",
              "    <tr>\n",
              "      <th>dataset</th>\n",
              "      <td>0</td>\n",
              "    </tr>\n",
              "    <tr>\n",
              "      <th>id</th>\n",
              "      <td>0</td>\n",
              "    </tr>\n",
              "    <tr>\n",
              "      <th>age</th>\n",
              "      <td>0</td>\n",
              "    </tr>\n",
              "    <tr>\n",
              "      <th>sex</th>\n",
              "      <td>0</td>\n",
              "    </tr>\n",
              "    <tr>\n",
              "      <th>num</th>\n",
              "      <td>0</td>\n",
              "    </tr>\n",
              "  </tbody>\n",
              "</table>\n",
              "</div><br><label><b>dtype:</b> int64</label>"
            ]
          },
          "metadata": {},
          "execution_count": 56
        }
      ],
      "source": [
        "df.isnull().sum().sort_values(ascending=False)"
      ]
    },
    {
      "cell_type": "markdown",
      "id": "2a4e263f",
      "metadata": {
        "id": "2a4e263f",
        "papermill": {
          "duration": 0.060677,
          "end_time": "2024-05-18T13:04:51.344162",
          "exception": false,
          "start_time": "2024-05-18T13:04:51.283485",
          "status": "completed"
        },
        "tags": []
      },
      "source": [
        "### **Let's impute missing values using our function**"
      ]
    },
    {
      "cell_type": "code",
      "execution_count": null,
      "id": "29c83363",
      "metadata": {
        "execution": {
          "iopub.execute_input": "2024-05-18T13:04:51.463088Z",
          "iopub.status.busy": "2024-05-18T13:04:51.462271Z",
          "iopub.status.idle": "2024-05-18T13:04:55.553916Z",
          "shell.execute_reply": "2024-05-18T13:04:55.552181Z"
        },
        "id": "29c83363",
        "outputId": "d9b633f2-2203-4443-cf8e-3022557818dc",
        "papermill": {
          "duration": 4.154194,
          "end_time": "2024-05-18T13:04:55.556624",
          "exception": false,
          "start_time": "2024-05-18T13:04:51.402430",
          "status": "completed"
        },
        "tags": [],
        "colab": {
          "base_uri": "https://localhost:8080/"
        }
      },
      "outputs": [
        {
          "output_type": "stream",
          "name": "stdout",
          "text": [
            "Missing Values trestbps : 6.41%\n",
            "MAE = 13.286531791907512 \n",
            "\n",
            "RMSE = 296.551839884393 \n",
            "\n",
            "R2 = 0.07406943577857039 \n",
            "\n",
            "Missing Values chol : 3.26%\n",
            "MAE = 45.23719101123595 \n",
            "\n",
            "RMSE = 4021.933983146068 \n",
            "\n",
            "R2 = 0.6813942692152466 \n",
            "\n",
            "Missing Values fbs : 9.78%\n",
            "The feature 'fbs' has been imputed with 79.52 accuracy\n",
            "\n",
            "Missing Values restecg : 0.22%\n",
            "The feature 'restecg' has been imputed with 67.39 accuracy\n",
            "\n",
            "Missing Values thalch : 5.98%\n",
            "MAE = 16.93982658959538 \n",
            "\n",
            "RMSE = 478.84713468208105 \n",
            "\n",
            "R2 = 0.30371633505202356 \n",
            "\n",
            "Missing Values exang : 5.98%\n",
            "The feature 'exang' has been imputed with 78.61 accuracy\n",
            "\n",
            "Missing Values oldpeak : 6.74%\n",
            "MAE = 0.5700872093023256 \n",
            "\n",
            "RMSE = 0.6310169476744185 \n",
            "\n",
            "R2 = 0.3988276892131982 \n",
            "\n",
            "Missing Values slope : 33.59%\n",
            "The feature 'slope' has been imputed with 66.67 accuracy\n",
            "\n",
            "Missing Values ca : 66.41%\n",
            "The feature 'ca' has been imputed with 64.52 accuracy\n",
            "\n",
            "Missing Values thal : 52.83%\n",
            "The feature 'thal' has been imputed with 71.26 accuracy\n",
            "\n"
          ]
        }
      ],
      "source": [
        "# remove warning\n",
        "import warnings\n",
        "warnings.filterwarnings('ignore')\n",
        "\n",
        "# impute missing values using our functions\n",
        "for col in missing_data_cols:\n",
        "    print(\"Missing Values\", col, \":\", str(round((df[col].isnull().sum() / len(df)) * 100, 2))+\"%\")\n",
        "    if col in categorical_cols:\n",
        "        df[col] = impute_categorical_missing_data(col)\n",
        "    elif col in numeric_cols:\n",
        "        df[col] = impute_continuous_missing_data(col)\n",
        "    else:\n",
        "        pass"
      ]
    },
    {
      "cell_type": "markdown",
      "id": "b120df94",
      "metadata": {
        "id": "b120df94",
        "papermill": {
          "duration": 0.060123,
          "end_time": "2024-05-18T13:04:55.678047",
          "exception": false,
          "start_time": "2024-05-18T13:04:55.617924",
          "status": "completed"
        },
        "tags": []
      },
      "source": [
        "### **Let's check missing values again**"
      ]
    },
    {
      "cell_type": "code",
      "execution_count": null,
      "id": "f05525d9",
      "metadata": {
        "execution": {
          "iopub.execute_input": "2024-05-18T13:04:55.803380Z",
          "iopub.status.busy": "2024-05-18T13:04:55.802895Z",
          "iopub.status.idle": "2024-05-18T13:04:55.815079Z",
          "shell.execute_reply": "2024-05-18T13:04:55.813870Z"
        },
        "id": "f05525d9",
        "outputId": "6b0a6dc2-112d-48d9-d340-33106524c2d8",
        "papermill": {
          "duration": 0.078085,
          "end_time": "2024-05-18T13:04:55.817620",
          "exception": false,
          "start_time": "2024-05-18T13:04:55.739535",
          "status": "completed"
        },
        "tags": [],
        "colab": {
          "base_uri": "https://localhost:8080/",
          "height": 585
        }
      },
      "outputs": [
        {
          "output_type": "execute_result",
          "data": {
            "text/plain": [
              "id          0\n",
              "age         0\n",
              "sex         0\n",
              "dataset     0\n",
              "cp          0\n",
              "trestbps    0\n",
              "chol        0\n",
              "fbs         0\n",
              "restecg     0\n",
              "thalch      0\n",
              "exang       0\n",
              "oldpeak     0\n",
              "slope       0\n",
              "ca          0\n",
              "thal        0\n",
              "num         0\n",
              "dtype: int64"
            ],
            "text/html": [
              "<div>\n",
              "<style scoped>\n",
              "    .dataframe tbody tr th:only-of-type {\n",
              "        vertical-align: middle;\n",
              "    }\n",
              "\n",
              "    .dataframe tbody tr th {\n",
              "        vertical-align: top;\n",
              "    }\n",
              "\n",
              "    .dataframe thead th {\n",
              "        text-align: right;\n",
              "    }\n",
              "</style>\n",
              "<table border=\"1\" class=\"dataframe\">\n",
              "  <thead>\n",
              "    <tr style=\"text-align: right;\">\n",
              "      <th></th>\n",
              "      <th>0</th>\n",
              "    </tr>\n",
              "  </thead>\n",
              "  <tbody>\n",
              "    <tr>\n",
              "      <th>id</th>\n",
              "      <td>0</td>\n",
              "    </tr>\n",
              "    <tr>\n",
              "      <th>age</th>\n",
              "      <td>0</td>\n",
              "    </tr>\n",
              "    <tr>\n",
              "      <th>sex</th>\n",
              "      <td>0</td>\n",
              "    </tr>\n",
              "    <tr>\n",
              "      <th>dataset</th>\n",
              "      <td>0</td>\n",
              "    </tr>\n",
              "    <tr>\n",
              "      <th>cp</th>\n",
              "      <td>0</td>\n",
              "    </tr>\n",
              "    <tr>\n",
              "      <th>trestbps</th>\n",
              "      <td>0</td>\n",
              "    </tr>\n",
              "    <tr>\n",
              "      <th>chol</th>\n",
              "      <td>0</td>\n",
              "    </tr>\n",
              "    <tr>\n",
              "      <th>fbs</th>\n",
              "      <td>0</td>\n",
              "    </tr>\n",
              "    <tr>\n",
              "      <th>restecg</th>\n",
              "      <td>0</td>\n",
              "    </tr>\n",
              "    <tr>\n",
              "      <th>thalch</th>\n",
              "      <td>0</td>\n",
              "    </tr>\n",
              "    <tr>\n",
              "      <th>exang</th>\n",
              "      <td>0</td>\n",
              "    </tr>\n",
              "    <tr>\n",
              "      <th>oldpeak</th>\n",
              "      <td>0</td>\n",
              "    </tr>\n",
              "    <tr>\n",
              "      <th>slope</th>\n",
              "      <td>0</td>\n",
              "    </tr>\n",
              "    <tr>\n",
              "      <th>ca</th>\n",
              "      <td>0</td>\n",
              "    </tr>\n",
              "    <tr>\n",
              "      <th>thal</th>\n",
              "      <td>0</td>\n",
              "    </tr>\n",
              "    <tr>\n",
              "      <th>num</th>\n",
              "      <td>0</td>\n",
              "    </tr>\n",
              "  </tbody>\n",
              "</table>\n",
              "</div><br><label><b>dtype:</b> int64</label>"
            ]
          },
          "metadata": {},
          "execution_count": 58
        }
      ],
      "source": [
        "df.isnull().sum().sort_values(ascending=False)"
      ]
    },
    {
      "cell_type": "markdown",
      "id": "94cb0abe",
      "metadata": {
        "papermill": {
          "duration": 0.060968,
          "end_time": "2024-05-18T13:04:55.939503",
          "exception": false,
          "start_time": "2024-05-18T13:04:55.878535",
          "status": "completed"
        },
        "tags": [],
        "id": "94cb0abe"
      },
      "source": [
        "# Dealing with Outliers in Dataset\n"
      ]
    },
    {
      "cell_type": "markdown",
      "id": "ba7e39e7",
      "metadata": {
        "id": "ba7e39e7",
        "papermill": {
          "duration": 0.060409,
          "end_time": "2024-05-18T13:04:56.060922",
          "exception": false,
          "start_time": "2024-05-18T13:04:56.000513",
          "status": "completed"
        },
        "tags": []
      },
      "source": [
        "### **Create box plots for all numeric columns using for loop and subplot**"
      ]
    },
    {
      "cell_type": "code",
      "execution_count": null,
      "id": "dd7229f9",
      "metadata": {
        "execution": {
          "iopub.execute_input": "2024-05-18T13:04:56.186865Z",
          "iopub.status.busy": "2024-05-18T13:04:56.186394Z",
          "iopub.status.idle": "2024-05-18T13:04:57.076256Z",
          "shell.execute_reply": "2024-05-18T13:04:57.074978Z"
        },
        "id": "dd7229f9",
        "outputId": "51ba816a-db62-4ced-9fe1-2697fc1b2cf1",
        "papermill": {
          "duration": 0.955711,
          "end_time": "2024-05-18T13:04:57.078643",
          "exception": false,
          "start_time": "2024-05-18T13:04:56.122932",
          "status": "completed"
        },
        "tags": [],
        "colab": {
          "base_uri": "https://localhost:8080/",
          "height": 1000
        }
      },
      "outputs": [
        {
          "output_type": "display_data",
          "data": {
            "text/plain": [
              "<Figure size 2000x2000 with 5 Axes>"
            ],
            "image/png": "[encoded data removed]"
          },
          "metadata": {}
        }
      ],
      "source": [
        "# create box plots for all numeric columns using for loop and subplot\n",
        "plt.figure(figsize=(20, 20))\n",
        "\n",
        "colors = ['red', 'green', 'blue', 'orange', 'purple']\n",
        "\n",
        "for i, col in enumerate(numeric_cols):\n",
        "    plt.subplot(3, 2, i+1)\n",
        "    sns.boxplot(x=df[col], color=colors[i])\n",
        "    plt.title(col)\n",
        "plt.show()\n",
        "\n"
      ]
    },
    {
      "cell_type": "markdown",
      "id": "50d49ba2",
      "metadata": {
        "id": "50d49ba2",
        "papermill": {
          "duration": 0.058465,
          "end_time": "2024-05-18T13:04:57.196404",
          "exception": false,
          "start_time": "2024-05-18T13:04:57.137939",
          "status": "completed"
        },
        "tags": []
      },
      "source": [
        "#### **Remove row where trestbps is 0**"
      ]
    },
    {
      "cell_type": "code",
      "execution_count": null,
      "id": "91fde30e",
      "metadata": {
        "execution": {
          "iopub.execute_input": "2024-05-18T13:04:57.318490Z",
          "iopub.status.busy": "2024-05-18T13:04:57.317559Z",
          "iopub.status.idle": "2024-05-18T13:04:57.326696Z",
          "shell.execute_reply": "2024-05-18T13:04:57.325288Z"
        },
        "id": "91fde30e",
        "papermill": {
          "duration": 0.072938,
          "end_time": "2024-05-18T13:04:57.329183",
          "exception": false,
          "start_time": "2024-05-18T13:04:57.256245",
          "status": "completed"
        },
        "tags": []
      },
      "outputs": [],
      "source": [
        "# print the row from df where trestbps value is 0\n",
        "df[df['trestbps'] == 0]\n",
        "# remove this row from data\n",
        "df = df[df['trestbps'] != 0]"
      ]
    },
    {
      "cell_type": "markdown",
      "id": "e4dfc672",
      "metadata": {
        "papermill": {
          "duration": 0.058909,
          "end_time": "2024-05-18T13:04:57.565389",
          "exception": false,
          "start_time": "2024-05-18T13:04:57.506480",
          "status": "completed"
        },
        "tags": [],
        "id": "e4dfc672"
      },
      "source": [
        "# Machine Learning on this Dataset\n"
      ]
    },
    {
      "cell_type": "code",
      "execution_count": null,
      "id": "03c3b538",
      "metadata": {
        "execution": {
          "iopub.execute_input": "2024-05-18T13:04:57.689189Z",
          "iopub.status.busy": "2024-05-18T13:04:57.688301Z",
          "iopub.status.idle": "2024-05-18T13:04:57.695578Z",
          "shell.execute_reply": "2024-05-18T13:04:57.694279Z"
        },
        "papermill": {
          "duration": 0.071272,
          "end_time": "2024-05-18T13:04:57.697989",
          "exception": false,
          "start_time": "2024-05-18T13:04:57.626717",
          "status": "completed"
        },
        "tags": [],
        "colab": {
          "base_uri": "https://localhost:8080/"
        },
        "id": "03c3b538",
        "outputId": "ca945018-63e5-46da-dfa2-86211181db29"
      },
      "outputs": [
        {
          "output_type": "execute_result",
          "data": {
            "text/plain": [
              "Index(['id', 'age', 'sex', 'dataset', 'cp', 'trestbps', 'chol', 'fbs',\n",
              "       'restecg', 'thalch', 'exang', 'oldpeak', 'slope', 'ca', 'thal', 'num'],\n",
              "      dtype='object')"
            ]
          },
          "metadata": {},
          "execution_count": 66
        }
      ],
      "source": [
        "# let's take a look at names of the columns in this dataset again\n",
        "df.columns"
      ]
    },
    {
      "cell_type": "code",
      "execution_count": null,
      "id": "1e56e978",
      "metadata": {
        "id": "1e56e978"
      },
      "outputs": [],
      "source": [
        "# List of final features to keep\n",
        "final_features = ['ca', 'cp', 'exang', 'slope', 'thal', 'oldpeak', 'thalch', 'age', 'chol', 'trestbps']"
      ]
    },
    {
      "cell_type": "code",
      "execution_count": null,
      "id": "bd2bb204",
      "metadata": {
        "id": "bd2bb204"
      },
      "outputs": [],
      "source": [
        "# Selecting only the final set of features along with the target column 'num'\n",
        "final_dataset = dataset[final_features + ['num']]"
      ]
    },
    {
      "cell_type": "code",
      "execution_count": null,
      "id": "811098d2",
      "metadata": {
        "colab": {
          "base_uri": "https://localhost:8080/",
          "height": 206
        },
        "id": "811098d2",
        "outputId": "ef0a67cd-7081-4b3a-813a-dd238af8146d"
      },
      "outputs": [
        {
          "output_type": "execute_result",
          "data": {
            "text/plain": [
              "    ca  cp  exang  slope  thal  oldpeak  thalch  age   chol  trestbps  num\n",
              "0  0.0   3      0      0     0      2.3   150.0   63  233.0     145.0    0\n",
              "1  3.0   0      1      1     1      1.5   108.0   67  286.0     160.0    2\n",
              "2  2.0   0      1      1     2      2.6   129.0   67  229.0     120.0    1\n",
              "3  0.0   2      0      0     1      3.5   187.0   37  250.0     130.0    0\n",
              "4  0.0   1      0      2     1      1.4   172.0   41  204.0     130.0    0"
            ],
            "text/html": [
              "\n",
              "  <div id=\"df-73d59b96-a8ee-4c4e-9101-5eb6de8ef62f\" class=\"colab-df-container\">\n",
              "    <div>\n",
              "<style scoped>\n",
              "    .dataframe tbody tr th:only-of-type {\n",
              "        vertical-align: middle;\n",
              "    }\n",
              "\n",
              "    .dataframe tbody tr th {\n",
              "        vertical-align: top;\n",
              "    }\n",
              "\n",
              "    .dataframe thead th {\n",
              "        text-align: right;\n",
              "    }\n",
              "</style>\n",
              "<table border=\"1\" class=\"dataframe\">\n",
              "  <thead>\n",
              "    <tr style=\"text-align: right;\">\n",
              "      <th></th>\n",
              "      <th>ca</th>\n",
              "      <th>cp</th>\n",
              "      <th>exang</th>\n",
              "      <th>slope</th>\n",
              "      <th>thal</th>\n",
              "      <th>oldpeak</th>\n",
              "      <th>thalch</th>\n",
              "      <th>age</th>\n",
              "      <th>chol</th>\n",
              "      <th>trestbps</th>\n",
              "      <th>num</th>\n",
              "    </tr>\n",
              "  </thead>\n",
              "  <tbody>\n",
              "    <tr>\n",
              "      <th>0</th>\n",
              "      <td>0.0</td>\n",
              "      <td>3</td>\n",
              "      <td>0</td>\n",
              "      <td>0</td>\n",
              "      <td>0</td>\n",
              "      <td>2.3</td>\n",
              "      <td>150.0</td>\n",
              "      <td>63</td>\n",
              "      <td>233.0</td>\n",
              "      <td>145.0</td>\n",
              "      <td>0</td>\n",
              "    </tr>\n",
              "    <tr>\n",
              "      <th>1</th>\n",
              "      <td>3.0</td>\n",
              "      <td>0</td>\n",
              "      <td>1</td>\n",
              "      <td>1</td>\n",
              "      <td>1</td>\n",
              "      <td>1.5</td>\n",
              "      <td>108.0</td>\n",
              "      <td>67</td>\n",
              "      <td>286.0</td>\n",
              "      <td>160.0</td>\n",
              "      <td>2</td>\n",
              "    </tr>\n",
              "    <tr>\n",
              "      <th>2</th>\n",
              "      <td>2.0</td>\n",
              "      <td>0</td>\n",
              "      <td>1</td>\n",
              "      <td>1</td>\n",
              "      <td>2</td>\n",
              "      <td>2.6</td>\n",
              "      <td>129.0</td>\n",
              "      <td>67</td>\n",
              "      <td>229.0</td>\n",
              "      <td>120.0</td>\n",
              "      <td>1</td>\n",
              "    </tr>\n",
              "    <tr>\n",
              "      <th>3</th>\n",
              "      <td>0.0</td>\n",
              "      <td>2</td>\n",
              "      <td>0</td>\n",
              "      <td>0</td>\n",
              "      <td>1</td>\n",
              "      <td>3.5</td>\n",
              "      <td>187.0</td>\n",
              "      <td>37</td>\n",
              "      <td>250.0</td>\n",
              "      <td>130.0</td>\n",
              "      <td>0</td>\n",
              "    </tr>\n",
              "    <tr>\n",
              "      <th>4</th>\n",
              "      <td>0.0</td>\n",
              "      <td>1</td>\n",
              "      <td>0</td>\n",
              "      <td>2</td>\n",
              "      <td>1</td>\n",
              "      <td>1.4</td>\n",
              "      <td>172.0</td>\n",
              "      <td>41</td>\n",
              "      <td>204.0</td>\n",
              "      <td>130.0</td>\n",
              "      <td>0</td>\n",
              "    </tr>\n",
              "  </tbody>\n",
              "</table>\n",
              "</div>\n",
              "    <div class=\"colab-df-buttons\">\n",
              "\n",
              "  <div class=\"colab-df-container\">\n",
              "    <button class=\"colab-df-convert\" onclick=\"convertToInteractive('df-73d59b96-a8ee-4c4e-9101-5eb6de8ef62f')\"\n",
              "            title=\"Convert this dataframe to an interactive table.\"\n",
              "            style=\"display:none;\">\n",
              "\n",
              "  <svg xmlns=\"http://www.w3.org/2000/svg\" height=\"24px\" viewBox=\"0 -960 960 960\">\n",
              "    <path d=\"M120-120v-720h720v720H120Zm60-500h600v-160H180v160Zm220 220h160v-160H400v160Zm0 220h160v-160H400v160ZM180-400h160v-160H180v160Zm440 0h160v-160H620v160ZM180-180h160v-160H180v160Zm440 0h160v-160H620v160Z\"/>\n",
              "  </svg>\n",
              "    </button>\n",
              "\n",
              "  <style>\n",
              "    .colab-df-container {\n",
              "      display:flex;\n",
              "      gap: 12px;\n",
              "    }\n",
              "\n",
              "    .colab-df-convert {\n",
              "      background-color: #E8F0FE;\n",
              "      border: none;\n",
              "      border-radius: 50%;\n",
              "      cursor: pointer;\n",
              "      display: none;\n",
              "      fill: #1967D2;\n",
              "      height: 32px;\n",
              "      padding: 0 0 0 0;\n",
              "      width: 32px;\n",
              "    }\n",
              "\n",
              "    .colab-df-convert:hover {\n",
              "      background-color: #E2EBFA;\n",
              "      box-shadow: 0px 1px 2px rgba(60, 64, 67, 0.3), 0px 1px 3px 1px rgba(60, 64, 67, 0.15);\n",
              "      fill: #174EA6;\n",
              "    }\n",
              "\n",
              "    .colab-df-buttons div {\n",
              "      margin-bottom: 4px;\n",
              "    }\n",
              "\n",
              "    [theme=dark] .colab-df-convert {\n",
              "      background-color: #3B4455;\n",
              "      fill: #D2E3FC;\n",
              "    }\n",
              "\n",
              "    [theme=dark] .colab-df-convert:hover {\n",
              "      background-color: #434B5C;\n",
              "      box-shadow: 0px 1px 3px 1px rgba(0, 0, 0, 0.15);\n",
              "      filter: drop-shadow(0px 1px 2px rgba(0, 0, 0, 0.3));\n",
              "      fill: #FFFFFF;\n",
              "    }\n",
              "  </style>\n",
              "\n",
              "    <script>\n",
              "      const buttonEl =\n",
              "        document.querySelector('#df-73d59b96-a8ee-4c4e-9101-5eb6de8ef62f button.colab-df-convert');\n",
              "      buttonEl.style.display =\n",
              "        google.colab.kernel.accessAllowed ? 'block' : 'none';\n",
              "\n",
              "      async function convertToInteractive(key) {\n",
              "        const element = document.querySelector('#df-73d59b96-a8ee-4c4e-9101-5eb6de8ef62f');\n",
              "        const dataTable =\n",
              "          await google.colab.kernel.invokeFunction('convertToInteractive',\n",
              "                                                    [key], {});\n",
              "        if (!dataTable) return;\n",
              "\n",
              "        const docLinkHtml = 'Like what you see? Visit the ' +\n",
              "          '<a target=\"_blank\" href=https://colab.research.google.com/notebooks/data_table.ipynb>data table notebook</a>'\n",
              "          + ' to learn more about interactive tables.';\n",
              "        element.innerHTML = '';\n",
              "        dataTable['output_type'] = 'display_data';\n",
              "        await google.colab.output.renderOutput(dataTable, element);\n",
              "        const docLink = document.createElement('div');\n",
              "        docLink.innerHTML = docLinkHtml;\n",
              "        element.appendChild(docLink);\n",
              "      }\n",
              "    </script>\n",
              "  </div>\n",
              "\n",
              "\n",
              "    <div id=\"df-b294158d-e097-4141-91ab-690038dc892a\">\n",
              "      <button class=\"colab-df-quickchart\" onclick=\"quickchart('df-b294158d-e097-4141-91ab-690038dc892a')\"\n",
              "                title=\"Suggest charts\"\n",
              "                style=\"display:none;\">\n",
              "\n",
              "<svg xmlns=\"http://www.w3.org/2000/svg\" height=\"24px\"viewBox=\"0 0 24 24\"\n",
              "     width=\"24px\">\n",
              "    <g>\n",
              "        <path d=\"M19 3H5c-1.1 0-2 .9-2 2v14c0 1.1.9 2 2 2h14c1.1 0 2-.9 2-2V5c0-1.1-.9-2-2-2zM9 17H7v-7h2v7zm4 0h-2V7h2v10zm4 0h-2v-4h2v4z\"/>\n",
              "    </g>\n",
              "</svg>\n",
              "      </button>\n",
              "\n",
              "<style>\n",
              "  .colab-df-quickchart {\n",
              "      --bg-color: #E8F0FE;\n",
              "      --fill-color: #1967D2;\n",
              "      --hover-bg-color: #E2EBFA;\n",
              "      --hover-fill-color: #174EA6;\n",
              "      --disabled-fill-color: #AAA;\n",
              "      --disabled-bg-color: #DDD;\n",
              "  }\n",
              "\n",
              "  [theme=dark] .colab-df-quickchart {\n",
              "      --bg-color: #3B4455;\n",
              "      --fill-color: #D2E3FC;\n",
              "      --hover-bg-color: #434B5C;\n",
              "      --hover-fill-color: #FFFFFF;\n",
              "      --disabled-bg-color: #3B4455;\n",
              "      --disabled-fill-color: #666;\n",
              "  }\n",
              "\n",
              "  .colab-df-quickchart {\n",
              "    background-color: var(--bg-color);\n",
              "    border: none;\n",
              "    border-radius: 50%;\n",
              "    cursor: pointer;\n",
              "    display: none;\n",
              "    fill: var(--fill-color);\n",
              "    height: 32px;\n",
              "    padding: 0;\n",
              "    width: 32px;\n",
              "  }\n",
              "\n",
              "  .colab-df-quickchart:hover {\n",
              "    background-color: var(--hover-bg-color);\n",
              "    box-shadow: 0 1px 2px rgba(60, 64, 67, 0.3), 0 1px 3px 1px rgba(60, 64, 67, 0.15);\n",
              "    fill: var(--button-hover-fill-color);\n",
              "  }\n",
              "\n",
              "  .colab-df-quickchart-complete:disabled,\n",
              "  .colab-df-quickchart-complete:disabled:hover {\n",
              "    background-color: var(--disabled-bg-color);\n",
              "    fill: var(--disabled-fill-color);\n",
              "    box-shadow: none;\n",
              "  }\n",
              "\n",
              "  .colab-df-spinner {\n",
              "    border: 2px solid var(--fill-color);\n",
              "    border-color: transparent;\n",
              "    border-bottom-color: var(--fill-color);\n",
              "    animation:\n",
              "      spin 1s steps(1) infinite;\n",
              "  }\n",
              "\n",
              "  @keyframes spin {\n",
              "    0% {\n",
              "      border-color: transparent;\n",
              "      border-bottom-color: var(--fill-color);\n",
              "      border-left-color: var(--fill-color);\n",
              "    }\n",
              "    20% {\n",
              "      border-color: transparent;\n",
              "      border-left-color: var(--fill-color);\n",
              "      border-top-color: var(--fill-color);\n",
              "    }\n",
              "    30% {\n",
              "      border-color: transparent;\n",
              "      border-left-color: var(--fill-color);\n",
              "      border-top-color: var(--fill-color);\n",
              "      border-right-color: var(--fill-color);\n",
              "    }\n",
              "    40% {\n",
              "      border-color: transparent;\n",
              "      border-right-color: var(--fill-color);\n",
              "      border-top-color: var(--fill-color);\n",
              "    }\n",
              "    60% {\n",
              "      border-color: transparent;\n",
              "      border-right-color: var(--fill-color);\n",
              "    }\n",
              "    80% {\n",
              "      border-color: transparent;\n",
              "      border-right-color: var(--fill-color);\n",
              "      border-bottom-color: var(--fill-color);\n",
              "    }\n",
              "    90% {\n",
              "      border-color: transparent;\n",
              "      border-bottom-color: var(--fill-color);\n",
              "    }\n",
              "  }\n",
              "</style>\n",
              "\n",
              "      <script>\n",
              "        async function quickchart(key) {\n",
              "          const quickchartButtonEl =\n",
              "            document.querySelector('#' + key + ' button');\n",
              "          quickchartButtonEl.disabled = true;  // To prevent multiple clicks.\n",
              "          quickchartButtonEl.classList.add('colab-df-spinner');\n",
              "          try {\n",
              "            const charts = await google.colab.kernel.invokeFunction(\n",
              "                'suggestCharts', [key], {});\n",
              "          } catch (error) {\n",
              "            console.error('Error during call to suggestCharts:', error);\n",
              "          }\n",
              "          quickchartButtonEl.classList.remove('colab-df-spinner');\n",
              "          quickchartButtonEl.classList.add('colab-df-quickchart-complete');\n",
              "        }\n",
              "        (() => {\n",
              "          let quickchartButtonEl =\n",
              "            document.querySelector('#df-b294158d-e097-4141-91ab-690038dc892a button');\n",
              "          quickchartButtonEl.style.display =\n",
              "            google.colab.kernel.accessAllowed ? 'block' : 'none';\n",
              "        })();\n",
              "      </script>\n",
              "    </div>\n",
              "\n",
              "    </div>\n",
              "  </div>\n"
            ],
            "application/vnd.google.colaboratory.intrinsic+json": {
              "type": "dataframe",
              "variable_name": "final_dataset",
              "summary": "{\n  \"name\": \"final_dataset\",\n  \"rows\": 919,\n  \"fields\": [\n    {\n      \"column\": \"ca\",\n      \"properties\": {\n        \"dtype\": \"number\",\n        \"std\": 0.795833894428804,\n        \"min\": 0.0,\n        \"max\": 3.0,\n        \"num_unique_values\": 4,\n        \"samples\": [\n          3.0,\n          1.0,\n          0.0\n        ],\n        \"semantic_type\": \"\",\n        \"description\": \"\"\n      }\n    },\n    {\n      \"column\": \"cp\",\n      \"properties\": {\n        \"dtype\": \"number\",\n        \"std\": 0,\n        \"min\": 0,\n        \"max\": 3,\n        \"num_unique_values\": 4,\n        \"samples\": [\n          0,\n          1,\n          3\n        ],\n        \"semantic_type\": \"\",\n        \"description\": \"\"\n      }\n    },\n    {\n      \"column\": \"exang\",\n      \"properties\": {\n        \"dtype\": \"number\",\n        \"std\": 0,\n        \"min\": 0,\n        \"max\": 1,\n        \"num_unique_values\": 2,\n        \"samples\": [\n          1,\n          0\n        ],\n        \"semantic_type\": \"\",\n        \"description\": \"\"\n      }\n    },\n    {\n      \"column\": \"slope\",\n      \"properties\": {\n        \"dtype\": \"number\",\n        \"std\": 0,\n        \"min\": 0,\n        \"max\": 2,\n        \"num_unique_values\": 3,\n        \"samples\": [\n          0,\n          1\n        ],\n        \"semantic_type\": \"\",\n        \"description\": \"\"\n      }\n    },\n    {\n      \"column\": \"thal\",\n      \"properties\": {\n        \"dtype\": \"number\",\n        \"std\": 0,\n        \"min\": 0,\n        \"max\": 2,\n        \"num_unique_values\": 3,\n        \"samples\": [\n          0,\n          1\n        ],\n        \"semantic_type\": \"\",\n        \"description\": \"\"\n      }\n    },\n    {\n      \"column\": \"oldpeak\",\n      \"properties\": {\n        \"dtype\": \"number\",\n        \"std\": 1.1151229340081206,\n        \"min\": -2.6,\n        \"max\": 6.2,\n        \"num_unique_values\": 114,\n        \"samples\": [\n          1.8229999999999997,\n          1.4\n        ],\n        \"semantic_type\": \"\",\n        \"description\": \"\"\n      }\n    },\n    {\n      \"column\": \"thalch\",\n      \"properties\": {\n        \"dtype\": \"number\",\n        \"std\": 25.365660971543107,\n        \"min\": 60.0,\n        \"max\": 202.0,\n        \"num_unique_values\": 173,\n        \"samples\": [\n          122.66,\n          99.0\n        ],\n        \"semantic_type\": \"\",\n        \"description\": \"\"\n      }\n    },\n    {\n      \"column\": \"age\",\n      \"properties\": {\n        \"dtype\": \"number\",\n        \"std\": 9,\n        \"min\": 28,\n        \"max\": 77,\n        \"num_unique_values\": 50,\n        \"samples\": [\n          64,\n          74\n        ],\n        \"semantic_type\": \"\",\n        \"description\": \"\"\n      }\n    },\n    {\n      \"column\": \"chol\",\n      \"properties\": {\n        \"dtype\": \"number\",\n        \"std\": 109.17051136701885,\n        \"min\": 0.0,\n        \"max\": 603.0,\n        \"num_unique_values\": 247,\n        \"samples\": [\n          276.0,\n          268.0\n        ],\n        \"semantic_type\": \"\",\n        \"description\": \"\"\n      }\n    },\n    {\n      \"column\": \"trestbps\",\n      \"properties\": {\n        \"dtype\": \"number\",\n        \"std\": 18.047167824490078,\n        \"min\": 80.0,\n        \"max\": 200.0,\n        \"num_unique_values\": 117,\n        \"samples\": [\n          146.0,\n          140.0\n        ],\n        \"semantic_type\": \"\",\n        \"description\": \"\"\n      }\n    },\n    {\n      \"column\": \"num\",\n      \"properties\": {\n        \"dtype\": \"number\",\n        \"std\": 1,\n        \"min\": 0,\n        \"max\": 4,\n        \"num_unique_values\": 5,\n        \"samples\": [\n          2,\n          4\n        ],\n        \"semantic_type\": \"\",\n        \"description\": \"\"\n      }\n    }\n  ]\n}"
            }
          },
          "metadata": {},
          "execution_count": 69
        }
      ],
      "source": [
        "# Display the first few rows of the updated dataset\n",
        "final_dataset.head()"
      ]
    },
    {
      "cell_type": "code",
      "execution_count": null,
      "id": "e41479b3",
      "metadata": {
        "id": "e41479b3"
      },
      "outputs": [],
      "source": [
        "final_dataset = df"
      ]
    },
    {
      "cell_type": "markdown",
      "id": "baf73dbc",
      "metadata": {
        "papermill": {
          "duration": 0.062558,
          "end_time": "2024-05-18T13:04:57.819510",
          "exception": false,
          "start_time": "2024-05-18T13:04:57.756952",
          "status": "completed"
        },
        "tags": [],
        "id": "baf73dbc"
      },
      "source": [
        "### **Target Column**"
      ]
    },
    {
      "cell_type": "code",
      "execution_count": null,
      "id": "74d187a5",
      "metadata": {
        "execution": {
          "iopub.execute_input": "2024-05-18T13:04:57.944717Z",
          "iopub.status.busy": "2024-05-18T13:04:57.944002Z",
          "iopub.status.idle": "2024-05-18T13:04:57.951967Z",
          "shell.execute_reply": "2024-05-18T13:04:57.950789Z"
        },
        "papermill": {
          "duration": 0.073204,
          "end_time": "2024-05-18T13:04:57.954386",
          "exception": false,
          "start_time": "2024-05-18T13:04:57.881182",
          "status": "completed"
        },
        "tags": [],
        "colab": {
          "base_uri": "https://localhost:8080/",
          "height": 272
        },
        "id": "74d187a5",
        "outputId": "bd62a40a-2d62-47ee-d785-96a110bf94e4"
      },
      "outputs": [
        {
          "output_type": "execute_result",
          "data": {
            "text/plain": [
              "num\n",
              "0    411\n",
              "1    265\n",
              "2    109\n",
              "3    106\n",
              "4     28\n",
              "Name: count, dtype: int64"
            ],
            "text/html": [
              "<div>\n",
              "<style scoped>\n",
              "    .dataframe tbody tr th:only-of-type {\n",
              "        vertical-align: middle;\n",
              "    }\n",
              "\n",
              "    .dataframe tbody tr th {\n",
              "        vertical-align: top;\n",
              "    }\n",
              "\n",
              "    .dataframe thead th {\n",
              "        text-align: right;\n",
              "    }\n",
              "</style>\n",
              "<table border=\"1\" class=\"dataframe\">\n",
              "  <thead>\n",
              "    <tr style=\"text-align: right;\">\n",
              "      <th></th>\n",
              "      <th>count</th>\n",
              "    </tr>\n",
              "    <tr>\n",
              "      <th>num</th>\n",
              "      <th></th>\n",
              "    </tr>\n",
              "  </thead>\n",
              "  <tbody>\n",
              "    <tr>\n",
              "      <th>0</th>\n",
              "      <td>411</td>\n",
              "    </tr>\n",
              "    <tr>\n",
              "      <th>1</th>\n",
              "      <td>265</td>\n",
              "    </tr>\n",
              "    <tr>\n",
              "      <th>2</th>\n",
              "      <td>109</td>\n",
              "    </tr>\n",
              "    <tr>\n",
              "      <th>3</th>\n",
              "      <td>106</td>\n",
              "    </tr>\n",
              "    <tr>\n",
              "      <th>4</th>\n",
              "      <td>28</td>\n",
              "    </tr>\n",
              "  </tbody>\n",
              "</table>\n",
              "</div><br><label><b>dtype:</b> int64</label>"
            ]
          },
          "metadata": {},
          "execution_count": 71
        }
      ],
      "source": [
        "# let's take a look at num column\n",
        "df[\"num\"].value_counts()"
      ]
    },
    {
      "cell_type": "markdown",
      "id": "4d688f84",
      "metadata": {
        "papermill": {
          "duration": 0.061627,
          "end_time": "2024-05-18T13:04:58.200028",
          "exception": false,
          "start_time": "2024-05-18T13:04:58.138401",
          "status": "completed"
        },
        "tags": [],
        "id": "4d688f84"
      },
      "source": [
        "#### **Split data into X and y**"
      ]
    },
    {
      "cell_type": "code",
      "execution_count": null,
      "id": "0be043c7",
      "metadata": {
        "execution": {
          "iopub.execute_input": "2024-05-18T13:04:58.326001Z",
          "iopub.status.busy": "2024-05-18T13:04:58.325589Z",
          "iopub.status.idle": "2024-05-18T13:04:58.331521Z",
          "shell.execute_reply": "2024-05-18T13:04:58.330717Z"
        },
        "papermill": {
          "duration": 0.071645,
          "end_time": "2024-05-18T13:04:58.333855",
          "exception": false,
          "start_time": "2024-05-18T13:04:58.262210",
          "status": "completed"
        },
        "tags": [],
        "id": "0be043c7"
      },
      "outputs": [],
      "source": [
        "# split data into X and y\n",
        "X = df.drop(['num'], axis=1)\n",
        "y = df['num']"
      ]
    },
    {
      "cell_type": "markdown",
      "id": "5bb32689",
      "metadata": {
        "papermill": {
          "duration": 0.060817,
          "end_time": "2024-05-18T13:04:58.459356",
          "exception": false,
          "start_time": "2024-05-18T13:04:58.398539",
          "status": "completed"
        },
        "tags": [],
        "id": "5bb32689"
      },
      "source": [
        "### **Encode all catagorical columns using seperete label encoder for each and save it for inverse transform**"
      ]
    },
    {
      "cell_type": "code",
      "execution_count": null,
      "id": "90858837",
      "metadata": {
        "execution": {
          "iopub.execute_input": "2024-05-18T13:04:58.584975Z",
          "iopub.status.busy": "2024-05-18T13:04:58.584186Z",
          "iopub.status.idle": "2024-05-18T13:04:58.603018Z",
          "shell.execute_reply": "2024-05-18T13:04:58.602047Z"
        },
        "papermill": {
          "duration": 0.084879,
          "end_time": "2024-05-18T13:04:58.605698",
          "exception": false,
          "start_time": "2024-05-18T13:04:58.520819",
          "status": "completed"
        },
        "tags": [],
        "id": "90858837"
      },
      "outputs": [],
      "source": [
        "# Encode all catagorical columns using seperete label encoder for each and save it for inverse transform\n",
        "le = LabelEncoder()\n",
        "\n",
        "# using for loop\n",
        "for cols in X.columns:\n",
        "# Task: Separate Encoder for all cat and object columns and inverse transform at the end\n",
        "    label_encoder = LabelEncoder()\n",
        "\n",
        "    for col in X.columns:\n",
        "        if X[col].dtype == 'object' or X[col].dtype == 'category':\n",
        "            X[col] = label_encoder.fit_transform(X[col])\n",
        "        else:\n",
        "            pass\n",
        "\n",
        "# split data into train test split\n",
        "X_train,X_test,y_train,y_test = train_test_split(X,y,test_size=0.2,random_state=42)"
      ]
    },
    {
      "cell_type": "markdown",
      "id": "20ba39a4",
      "metadata": {
        "papermill": {
          "duration": 0.06082,
          "end_time": "2024-05-18T13:04:58.728947",
          "exception": false,
          "start_time": "2024-05-18T13:04:58.668127",
          "status": "completed"
        },
        "tags": [],
        "id": "20ba39a4"
      },
      "source": [
        "#### **Here is the list of models that we will use for heart disease prediction.These models should be classifiers.We will use some of these models.**\n",
        "- Logistic Regression\n",
        "- Naive Bayse\n",
        "- Support vector machines (svm)\n",
        "- Decision Tree\n",
        "- Random Forest\n",
        "- KNN\n",
        "- XGboost\n",
        "- Adaboost\n",
        "- GradiantBoost\n",
        "- Catboost\n",
        "- LightGBM"
      ]
    },
    {
      "cell_type": "markdown",
      "id": "17deb864",
      "metadata": {
        "papermill": {
          "duration": 0.060795,
          "end_time": "2024-05-18T13:04:58.851132",
          "exception": false,
          "start_time": "2024-05-18T13:04:58.790337",
          "status": "completed"
        },
        "tags": [],
        "id": "17deb864"
      },
      "source": [
        "#### **Importing Machine Learning Libraries**"
      ]
    },
    {
      "cell_type": "code",
      "execution_count": null,
      "id": "af06476b",
      "metadata": {
        "execution": {
          "iopub.execute_input": "2024-05-18T13:04:58.976698Z",
          "iopub.status.busy": "2024-05-18T13:04:58.975974Z",
          "iopub.status.idle": "2024-05-18T13:04:58.987524Z",
          "shell.execute_reply": "2024-05-18T13:04:58.986290Z"
        },
        "papermill": {
          "duration": 0.077704,
          "end_time": "2024-05-18T13:04:58.990419",
          "exception": false,
          "start_time": "2024-05-18T13:04:58.912715",
          "status": "completed"
        },
        "tags": [],
        "id": "af06476b"
      },
      "outputs": [],
      "source": [
        "# import all models\n",
        "from sklearn.linear_model import LogisticRegression\n",
        "from sklearn.neighbors import KNeighborsClassifier\n",
        "from sklearn.svm import SVC\n",
        "from sklearn.tree import DecisionTreeClassifier, plot_tree\n",
        "from sklearn.ensemble import RandomForestClassifier, AdaBoostClassifier, GradientBoostingClassifier\n",
        "from xgboost import XGBClassifier\n",
        "from sklearn.naive_bayes import GaussianNB\n",
        "# from lightgbm import LGBMClassifier\n",
        "\n",
        "# impot pipeline\n",
        "from sklearn.pipeline import Pipeline\n",
        "\n",
        "# import metrics\n",
        "from sklearn.metrics import accuracy_score, confusion_matrix, classification_report"
      ]
    },
    {
      "cell_type": "markdown",
      "id": "a8ed7e2e",
      "metadata": {
        "papermill": {
          "duration": 0.061079,
          "end_time": "2024-05-18T13:04:59.113267",
          "exception": false,
          "start_time": "2024-05-18T13:04:59.052188",
          "status": "completed"
        },
        "tags": [],
        "id": "a8ed7e2e"
      },
      "source": [
        "# Let's Select the best model for prediction\n"
      ]
    },
    {
      "cell_type": "code",
      "execution_count": null,
      "id": "879f7bf3",
      "metadata": {
        "execution": {
          "iopub.execute_input": "2024-05-18T13:04:59.238366Z",
          "iopub.status.busy": "2024-05-18T13:04:59.237390Z",
          "iopub.status.idle": "2024-05-18T13:05:11.540023Z",
          "shell.execute_reply": "2024-05-18T13:05:11.537659Z"
        },
        "papermill": {
          "duration": 12.367978,
          "end_time": "2024-05-18T13:05:11.542592",
          "exception": false,
          "start_time": "2024-05-18T13:04:59.174614",
          "status": "completed"
        },
        "tags": [],
        "colab": {
          "base_uri": "https://localhost:8080/"
        },
        "id": "879f7bf3",
        "outputId": "5ec71cb2-f984-4b49-f67b-2e0328106811"
      },
      "outputs": [
        {
          "output_type": "stream",
          "name": "stdout",
          "text": [
            "Model: Random Forest\n",
            "Cross-validation Accuracy: 0.6789115646258503\n",
            "Test Accuracy: 0.6521739130434783\n",
            "\n",
            "Model: Gradient Boosting\n",
            "Cross-validation Accuracy: 0.6571428571428571\n",
            "Test Accuracy: 0.657608695652174\n",
            "\n",
            "Model: Support Vector Machine\n",
            "Cross-validation Accuracy: 0.582312925170068\n",
            "Test Accuracy: 0.5815217391304348\n",
            "\n",
            "Model: Logistic Regression\n",
            "Cross-validation Accuracy: 0.5306122448979591\n",
            "Test Accuracy: 0.483695652173913\n",
            "\n",
            "Best Model: Pipeline(steps=[('model', GradientBoostingClassifier(random_state=42))])\n"
          ]
        }
      ],
      "source": [
        "# Create a list of models to evaluate\n",
        "models = [\n",
        "    ('Random Forest', RandomForestClassifier(random_state=42)),\n",
        "    ('Gradient Boosting', GradientBoostingClassifier(random_state=42)),\n",
        "    ('Support Vector Machine', SVC(random_state=42)),\n",
        "    ('Logistic Regression', LogisticRegression(random_state=42))\n",
        "]\n",
        "\n",
        "best_model = None\n",
        "best_accuracy = 0.0\n",
        "\n",
        "# Iterate over the models and evaluate their performance\n",
        "for name, model in models:\n",
        "    # Create a pipeline for each model\n",
        "    pipeline = Pipeline([\n",
        "        # ('imputer', SimpleImputer(strategy='most_frequent')),\n",
        "        # ('encoder', OneHotEncoder(handle_unknown='ignore')),\n",
        "        ('model', model)\n",
        "    ])\n",
        "\n",
        "    # Perform cross-validation\n",
        "    scores = cross_val_score(pipeline, X_train, y_train, cv=5)\n",
        "\n",
        "    # Calculate mean accuracy\n",
        "    mean_accuracy = scores.mean()\n",
        "\n",
        "    # Fit the pipeline on the training data\n",
        "    pipeline.fit(X_train, y_train)\n",
        "\n",
        "    # Make predictions on the test data\n",
        "    y_pred = pipeline.predict(X_test)\n",
        "\n",
        "    # Calculate accuracy score\n",
        "    accuracy = accuracy_score(y_test, y_pred)\n",
        "\n",
        "    # Print the performance metrics\n",
        "    print(\"Model:\", name)\n",
        "    print(\"Cross-validation Accuracy:\", mean_accuracy)\n",
        "    print(\"Test Accuracy:\", accuracy)\n",
        "    print()\n",
        "\n",
        "    # Check if the current model has the best accuracy\n",
        "    if accuracy > best_accuracy:\n",
        "        best_accuracy = accuracy\n",
        "        best_model = pipeline\n",
        "\n",
        "# Retrieve the best model\n",
        "print(\"Best Model:\", best_model)"
      ]
    },
    {
      "cell_type": "markdown",
      "id": "35b4f5c8",
      "metadata": {
        "papermill": {
          "duration": 0.062662,
          "end_time": "2024-05-18T13:05:11.796897",
          "exception": false,
          "start_time": "2024-05-18T13:05:11.734235",
          "status": "completed"
        },
        "tags": [],
        "id": "35b4f5c8"
      },
      "source": [
        "# Save the best model\n"
      ]
    },
    {
      "cell_type": "code",
      "execution_count": null,
      "id": "b3af24a7",
      "metadata": {
        "execution": {
          "iopub.execute_input": "2024-05-18T13:05:11.924535Z",
          "iopub.status.busy": "2024-05-18T13:05:11.923906Z",
          "iopub.status.idle": "2024-05-18T13:05:11.929454Z",
          "shell.execute_reply": "2024-05-18T13:05:11.928265Z"
        },
        "papermill": {
          "duration": 0.072874,
          "end_time": "2024-05-18T13:05:11.932060",
          "exception": false,
          "start_time": "2024-05-18T13:05:11.859186",
          "status": "completed"
        },
        "tags": [],
        "id": "b3af24a7"
      },
      "outputs": [],
      "source": [
        "import pickle\n",
        "pickle.dump(best_model, open('heart_dis_model.pkl', 'wb'))"
      ]
    },
    {
      "cell_type": "code",
      "source": [],
      "metadata": {
        "id": "4w-8_ljd9D8X"
      },
      "id": "4w-8_ljd9D8X",
      "execution_count": null,
      "outputs": []
    }
  ],
  "metadata": {
    "colab": {
      "provenance": []
    },
    "kaggle": {
      "accelerator": "none",
      "dataSources": [
        {
          "datasetId": 888463,
          "sourceId": 1508992,
          "sourceType": "datasetVersion"
        }
      ],
      "dockerImageVersionId": 30698,
      "isGpuEnabled": false,
      "isInternetEnabled": true,
      "language": "python",
      "sourceType": "notebook"
    },
    "kernelspec": {
      "display_name": "Python 3",
      "language": "python",
      "name": "python3"
    },
    "language_info": {
      "codemirror_mode": {
        "name": "ipython",
        "version": 3
      },
      "file_extension": ".py",
      "mimetype": "text/x-python",
      "name": "python",
      "nbconvert_exporter": "python",
      "pygments_lexer": "ipython3",
      "version": "3.9.19"
    },
    "papermill": {
      "default_parameters": {},
      "duration": 49.653845,
      "end_time": "2024-05-18T13:05:13.460805",
      "environment_variables": {},
      "exception": null,
      "input_path": "__notebook__.ipynb",
      "output_path": "__notebook__.ipynb",
      "parameters": {},
      "start_time": "2024-05-18T13:04:23.806960",
      "version": "2.5.0"
    }
  },
  "nbformat": 4,
  "nbformat_minor": 5
}